{
 "cells": [
  {
   "cell_type": "code",
   "execution_count": 1,
   "id": "d27f0471-1dfe-468a-8669-507c4be0afb5",
   "metadata": {},
   "outputs": [],
   "source": [
    "#1)\tImport necessary and essential libraries\n",
    "\n",
    "import pandas as pd\n",
    "import numpy as np\n",
    "import seaborn as sb\n",
    "import matplotlib.pyplot as plt"
   ]
  },
  {
   "cell_type": "code",
   "execution_count": 2,
   "id": "fd35ae23-f6fd-4278-aed1-09fb250b7570",
   "metadata": {},
   "outputs": [],
   "source": [
    "import matplotlib.pyplot as plt"
   ]
  },
  {
   "cell_type": "code",
   "execution_count": 3,
   "id": "4aade8e3-de9d-4029-abe1-292d8bb83377",
   "metadata": {},
   "outputs": [],
   "source": [
    "df= pd.read_excel(r\"HousePrediction.xlsx\")"
   ]
  },
  {
   "cell_type": "code",
   "execution_count": 4,
   "id": "dadb52a5-43cf-4936-b16e-a671549602d9",
   "metadata": {},
   "outputs": [
    {
     "data": {
      "text/html": [
       "<div>\n",
       "<style scoped>\n",
       "    .dataframe tbody tr th:only-of-type {\n",
       "        vertical-align: middle;\n",
       "    }\n",
       "\n",
       "    .dataframe tbody tr th {\n",
       "        vertical-align: top;\n",
       "    }\n",
       "\n",
       "    .dataframe thead th {\n",
       "        text-align: right;\n",
       "    }\n",
       "</style>\n",
       "<table border=\"1\" class=\"dataframe\">\n",
       "  <thead>\n",
       "    <tr style=\"text-align: right;\">\n",
       "      <th></th>\n",
       "      <th>Id</th>\n",
       "      <th>MSSubClass</th>\n",
       "      <th>MSZoning</th>\n",
       "      <th>LotArea</th>\n",
       "      <th>LotConfig</th>\n",
       "      <th>BldgType</th>\n",
       "      <th>OverallCond</th>\n",
       "      <th>YearBuilt</th>\n",
       "      <th>YearRemodAdd</th>\n",
       "      <th>Exterior1st</th>\n",
       "      <th>BsmtFinSF2</th>\n",
       "      <th>TotalBsmtSF</th>\n",
       "      <th>SalePrice</th>\n",
       "    </tr>\n",
       "  </thead>\n",
       "  <tbody>\n",
       "    <tr>\n",
       "      <th>0</th>\n",
       "      <td>0</td>\n",
       "      <td>60</td>\n",
       "      <td>RL</td>\n",
       "      <td>8450</td>\n",
       "      <td>Inside</td>\n",
       "      <td>1Fam</td>\n",
       "      <td>5</td>\n",
       "      <td>2003</td>\n",
       "      <td>2003</td>\n",
       "      <td>VinylSd</td>\n",
       "      <td>0.0</td>\n",
       "      <td>856.0</td>\n",
       "      <td>208500.0</td>\n",
       "    </tr>\n",
       "    <tr>\n",
       "      <th>1</th>\n",
       "      <td>1</td>\n",
       "      <td>20</td>\n",
       "      <td>RL</td>\n",
       "      <td>9600</td>\n",
       "      <td>FR2</td>\n",
       "      <td>1Fam</td>\n",
       "      <td>8</td>\n",
       "      <td>1976</td>\n",
       "      <td>1976</td>\n",
       "      <td>MetalSd</td>\n",
       "      <td>0.0</td>\n",
       "      <td>1262.0</td>\n",
       "      <td>181500.0</td>\n",
       "    </tr>\n",
       "    <tr>\n",
       "      <th>2</th>\n",
       "      <td>2</td>\n",
       "      <td>60</td>\n",
       "      <td>RL</td>\n",
       "      <td>11250</td>\n",
       "      <td>Inside</td>\n",
       "      <td>1Fam</td>\n",
       "      <td>5</td>\n",
       "      <td>2001</td>\n",
       "      <td>2002</td>\n",
       "      <td>VinylSd</td>\n",
       "      <td>0.0</td>\n",
       "      <td>920.0</td>\n",
       "      <td>223500.0</td>\n",
       "    </tr>\n",
       "    <tr>\n",
       "      <th>3</th>\n",
       "      <td>3</td>\n",
       "      <td>70</td>\n",
       "      <td>RL</td>\n",
       "      <td>9550</td>\n",
       "      <td>Corner</td>\n",
       "      <td>1Fam</td>\n",
       "      <td>5</td>\n",
       "      <td>1915</td>\n",
       "      <td>1970</td>\n",
       "      <td>Wd Sdng</td>\n",
       "      <td>0.0</td>\n",
       "      <td>756.0</td>\n",
       "      <td>140000.0</td>\n",
       "    </tr>\n",
       "    <tr>\n",
       "      <th>4</th>\n",
       "      <td>4</td>\n",
       "      <td>60</td>\n",
       "      <td>RL</td>\n",
       "      <td>14260</td>\n",
       "      <td>FR2</td>\n",
       "      <td>1Fam</td>\n",
       "      <td>5</td>\n",
       "      <td>2000</td>\n",
       "      <td>2000</td>\n",
       "      <td>VinylSd</td>\n",
       "      <td>0.0</td>\n",
       "      <td>1145.0</td>\n",
       "      <td>250000.0</td>\n",
       "    </tr>\n",
       "  </tbody>\n",
       "</table>\n",
       "</div>"
      ],
      "text/plain": [
       "   Id  MSSubClass MSZoning  LotArea LotConfig BldgType  OverallCond  \\\n",
       "0   0          60       RL     8450    Inside     1Fam            5   \n",
       "1   1          20       RL     9600       FR2     1Fam            8   \n",
       "2   2          60       RL    11250    Inside     1Fam            5   \n",
       "3   3          70       RL     9550    Corner     1Fam            5   \n",
       "4   4          60       RL    14260       FR2     1Fam            5   \n",
       "\n",
       "   YearBuilt  YearRemodAdd Exterior1st  BsmtFinSF2  TotalBsmtSF  SalePrice  \n",
       "0       2003          2003     VinylSd         0.0        856.0   208500.0  \n",
       "1       1976          1976     MetalSd         0.0       1262.0   181500.0  \n",
       "2       2001          2002     VinylSd         0.0        920.0   223500.0  \n",
       "3       1915          1970     Wd Sdng         0.0        756.0   140000.0  \n",
       "4       2000          2000     VinylSd         0.0       1145.0   250000.0  "
      ]
     },
     "execution_count": 4,
     "metadata": {},
     "output_type": "execute_result"
    }
   ],
   "source": [
    "df.head()"
   ]
  },
  {
   "cell_type": "code",
   "execution_count": 5,
   "id": "e2a15712-c956-4397-8772-bc454fe7d348",
   "metadata": {},
   "outputs": [
    {
     "name": "stdout",
     "output_type": "stream",
     "text": [
      "<class 'pandas.core.frame.DataFrame'>\n",
      "RangeIndex: 2919 entries, 0 to 2918\n",
      "Data columns (total 13 columns):\n",
      " #   Column        Non-Null Count  Dtype  \n",
      "---  ------        --------------  -----  \n",
      " 0   Id            2919 non-null   int64  \n",
      " 1   MSSubClass    2919 non-null   int64  \n",
      " 2   MSZoning      2915 non-null   object \n",
      " 3   LotArea       2919 non-null   int64  \n",
      " 4   LotConfig     2919 non-null   object \n",
      " 5   BldgType      2919 non-null   object \n",
      " 6   OverallCond   2919 non-null   int64  \n",
      " 7   YearBuilt     2919 non-null   int64  \n",
      " 8   YearRemodAdd  2919 non-null   int64  \n",
      " 9   Exterior1st   2918 non-null   object \n",
      " 10  BsmtFinSF2    2918 non-null   float64\n",
      " 11  TotalBsmtSF   2918 non-null   float64\n",
      " 12  SalePrice     1460 non-null   float64\n",
      "dtypes: float64(3), int64(6), object(4)\n",
      "memory usage: 296.6+ KB\n"
     ]
    }
   ],
   "source": [
    "#\tDisplay all the Columns of DataFrames\n",
    "df.info()"
   ]
  },
  {
   "cell_type": "code",
   "execution_count": 6,
   "id": "7a7fcf88-5192-45fc-b8a7-bef95cc1b1a9",
   "metadata": {},
   "outputs": [],
   "source": [
    "df.head(100)\n",
    "df['TotalBsmtSF']=pd.to_numeric(df['TotalBsmtSF'], errors='coerce')\n",
    "df['BsmtFinSF2']=pd.to_numeric(df['BsmtFinSF2'], errors='coerce')\n"
   ]
  },
  {
   "cell_type": "code",
   "execution_count": 7,
   "id": "bd5fd0cc-d355-421d-943f-04d2e1a5a217",
   "metadata": {},
   "outputs": [
    {
     "data": {
      "text/plain": [
       "(2919, 13)"
      ]
     },
     "execution_count": 7,
     "metadata": {},
     "output_type": "execute_result"
    }
   ],
   "source": [
    "df.shape"
   ]
  },
  {
   "cell_type": "code",
   "execution_count": 8,
   "id": "38e7767b-06e7-4938-a3ab-d7dd8c75b345",
   "metadata": {},
   "outputs": [
    {
     "data": {
      "text/html": [
       "<div>\n",
       "<style scoped>\n",
       "    .dataframe tbody tr th:only-of-type {\n",
       "        vertical-align: middle;\n",
       "    }\n",
       "\n",
       "    .dataframe tbody tr th {\n",
       "        vertical-align: top;\n",
       "    }\n",
       "\n",
       "    .dataframe thead th {\n",
       "        text-align: right;\n",
       "    }\n",
       "</style>\n",
       "<table border=\"1\" class=\"dataframe\">\n",
       "  <thead>\n",
       "    <tr style=\"text-align: right;\">\n",
       "      <th></th>\n",
       "      <th>Id</th>\n",
       "      <th>MSSubClass</th>\n",
       "      <th>LotArea</th>\n",
       "      <th>OverallCond</th>\n",
       "      <th>YearBuilt</th>\n",
       "      <th>YearRemodAdd</th>\n",
       "      <th>BsmtFinSF2</th>\n",
       "      <th>TotalBsmtSF</th>\n",
       "      <th>SalePrice</th>\n",
       "    </tr>\n",
       "  </thead>\n",
       "  <tbody>\n",
       "    <tr>\n",
       "      <th>count</th>\n",
       "      <td>2919.000000</td>\n",
       "      <td>2919.000000</td>\n",
       "      <td>2919.000000</td>\n",
       "      <td>2919.000000</td>\n",
       "      <td>2919.000000</td>\n",
       "      <td>2919.000000</td>\n",
       "      <td>2918.000000</td>\n",
       "      <td>2918.000000</td>\n",
       "      <td>1460.000000</td>\n",
       "    </tr>\n",
       "    <tr>\n",
       "      <th>mean</th>\n",
       "      <td>1459.000000</td>\n",
       "      <td>57.137718</td>\n",
       "      <td>10168.114080</td>\n",
       "      <td>5.564577</td>\n",
       "      <td>1971.312778</td>\n",
       "      <td>1984.264474</td>\n",
       "      <td>49.582248</td>\n",
       "      <td>1051.777587</td>\n",
       "      <td>180921.195890</td>\n",
       "    </tr>\n",
       "    <tr>\n",
       "      <th>std</th>\n",
       "      <td>842.787043</td>\n",
       "      <td>42.517628</td>\n",
       "      <td>7886.996359</td>\n",
       "      <td>1.113131</td>\n",
       "      <td>30.291442</td>\n",
       "      <td>20.894344</td>\n",
       "      <td>169.205611</td>\n",
       "      <td>440.766258</td>\n",
       "      <td>79442.502883</td>\n",
       "    </tr>\n",
       "    <tr>\n",
       "      <th>min</th>\n",
       "      <td>0.000000</td>\n",
       "      <td>20.000000</td>\n",
       "      <td>1300.000000</td>\n",
       "      <td>1.000000</td>\n",
       "      <td>1872.000000</td>\n",
       "      <td>1950.000000</td>\n",
       "      <td>0.000000</td>\n",
       "      <td>0.000000</td>\n",
       "      <td>34900.000000</td>\n",
       "    </tr>\n",
       "    <tr>\n",
       "      <th>25%</th>\n",
       "      <td>729.500000</td>\n",
       "      <td>20.000000</td>\n",
       "      <td>7478.000000</td>\n",
       "      <td>5.000000</td>\n",
       "      <td>1953.500000</td>\n",
       "      <td>1965.000000</td>\n",
       "      <td>0.000000</td>\n",
       "      <td>793.000000</td>\n",
       "      <td>129975.000000</td>\n",
       "    </tr>\n",
       "    <tr>\n",
       "      <th>50%</th>\n",
       "      <td>1459.000000</td>\n",
       "      <td>50.000000</td>\n",
       "      <td>9453.000000</td>\n",
       "      <td>5.000000</td>\n",
       "      <td>1973.000000</td>\n",
       "      <td>1993.000000</td>\n",
       "      <td>0.000000</td>\n",
       "      <td>989.500000</td>\n",
       "      <td>163000.000000</td>\n",
       "    </tr>\n",
       "    <tr>\n",
       "      <th>75%</th>\n",
       "      <td>2188.500000</td>\n",
       "      <td>70.000000</td>\n",
       "      <td>11570.000000</td>\n",
       "      <td>6.000000</td>\n",
       "      <td>2001.000000</td>\n",
       "      <td>2004.000000</td>\n",
       "      <td>0.000000</td>\n",
       "      <td>1302.000000</td>\n",
       "      <td>214000.000000</td>\n",
       "    </tr>\n",
       "    <tr>\n",
       "      <th>max</th>\n",
       "      <td>2918.000000</td>\n",
       "      <td>190.000000</td>\n",
       "      <td>215245.000000</td>\n",
       "      <td>9.000000</td>\n",
       "      <td>2010.000000</td>\n",
       "      <td>2010.000000</td>\n",
       "      <td>1526.000000</td>\n",
       "      <td>6110.000000</td>\n",
       "      <td>755000.000000</td>\n",
       "    </tr>\n",
       "  </tbody>\n",
       "</table>\n",
       "</div>"
      ],
      "text/plain": [
       "                Id   MSSubClass        LotArea  OverallCond    YearBuilt  \\\n",
       "count  2919.000000  2919.000000    2919.000000  2919.000000  2919.000000   \n",
       "mean   1459.000000    57.137718   10168.114080     5.564577  1971.312778   \n",
       "std     842.787043    42.517628    7886.996359     1.113131    30.291442   \n",
       "min       0.000000    20.000000    1300.000000     1.000000  1872.000000   \n",
       "25%     729.500000    20.000000    7478.000000     5.000000  1953.500000   \n",
       "50%    1459.000000    50.000000    9453.000000     5.000000  1973.000000   \n",
       "75%    2188.500000    70.000000   11570.000000     6.000000  2001.000000   \n",
       "max    2918.000000   190.000000  215245.000000     9.000000  2010.000000   \n",
       "\n",
       "       YearRemodAdd   BsmtFinSF2  TotalBsmtSF      SalePrice  \n",
       "count   2919.000000  2918.000000  2918.000000    1460.000000  \n",
       "mean    1984.264474    49.582248  1051.777587  180921.195890  \n",
       "std       20.894344   169.205611   440.766258   79442.502883  \n",
       "min     1950.000000     0.000000     0.000000   34900.000000  \n",
       "25%     1965.000000     0.000000   793.000000  129975.000000  \n",
       "50%     1993.000000     0.000000   989.500000  163000.000000  \n",
       "75%     2004.000000     0.000000  1302.000000  214000.000000  \n",
       "max     2010.000000  1526.000000  6110.000000  755000.000000  "
      ]
     },
     "execution_count": 8,
     "metadata": {},
     "output_type": "execute_result"
    }
   ],
   "source": [
    "#4)\tGive the column insights \n",
    "\n",
    "df.describe()\n"
   ]
  },
  {
   "cell_type": "code",
   "execution_count": 9,
   "id": "1d35414b-e2be-4549-983b-fb9b14c25998",
   "metadata": {},
   "outputs": [
    {
     "data": {
      "text/plain": [
       "Id                 0\n",
       "MSSubClass         0\n",
       "MSZoning           4\n",
       "LotArea            0\n",
       "LotConfig          0\n",
       "BldgType           0\n",
       "OverallCond        0\n",
       "YearBuilt          0\n",
       "YearRemodAdd       0\n",
       "Exterior1st        1\n",
       "BsmtFinSF2         1\n",
       "TotalBsmtSF        1\n",
       "SalePrice       1459\n",
       "dtype: int64"
      ]
     },
     "execution_count": 9,
     "metadata": {},
     "output_type": "execute_result"
    }
   ],
   "source": [
    "#Q1) Checking for Missing Values\n",
    "df.isnull().sum()"
   ]
  },
  {
   "cell_type": "code",
   "execution_count": 10,
   "id": "f0823c59-3dea-4f24-95e8-ef6b498ca75b",
   "metadata": {},
   "outputs": [
    {
     "data": {
      "text/plain": [
       "SalePrice\n",
       "140000.0    20\n",
       "135000.0    17\n",
       "155000.0    14\n",
       "145000.0    14\n",
       "190000.0    13\n",
       "            ..\n",
       "202665.0     1\n",
       "164900.0     1\n",
       "208300.0     1\n",
       "181500.0     1\n",
       "147500.0     1\n",
       "Name: count, Length: 663, dtype: int64"
      ]
     },
     "execution_count": 10,
     "metadata": {},
     "output_type": "execute_result"
    }
   ],
   "source": [
    "df['SalePrice'].value_counts()"
   ]
  },
  {
   "cell_type": "code",
   "execution_count": 11,
   "id": "c46b4d96-0d34-47f2-b4b5-16e11c982e0e",
   "metadata": {},
   "outputs": [
    {
     "data": {
      "text/plain": [
       "4"
      ]
     },
     "execution_count": 11,
     "metadata": {},
     "output_type": "execute_result"
    }
   ],
   "source": [
    "df['MSZoning'].isnull().sum()"
   ]
  },
  {
   "cell_type": "code",
   "execution_count": 12,
   "id": "f987b655-7aa7-47d0-a5fc-305941221385",
   "metadata": {},
   "outputs": [],
   "source": [
    "df_mszoning= df['MSZoning']"
   ]
  },
  {
   "cell_type": "code",
   "execution_count": 13,
   "id": "9c4193f8-0d61-425f-b542-4a668ac298c5",
   "metadata": {},
   "outputs": [
    {
     "data": {
      "text/plain": [
       "0    RL\n",
       "1    RL\n",
       "2    RL\n",
       "3    RL\n",
       "4    RL\n",
       "Name: MSZoning, dtype: object"
      ]
     },
     "execution_count": 13,
     "metadata": {},
     "output_type": "execute_result"
    }
   ],
   "source": [
    "df_mszoning.head()"
   ]
  },
  {
   "cell_type": "code",
   "execution_count": 14,
   "id": "10755700-14f3-4276-a72b-c15c52906782",
   "metadata": {},
   "outputs": [
    {
     "data": {
      "text/plain": [
       "<bound method NDFrame.describe of 0       RL\n",
       "1       RL\n",
       "2       RL\n",
       "3       RL\n",
       "4       RL\n",
       "        ..\n",
       "2914    RM\n",
       "2915    RM\n",
       "2916    RL\n",
       "2917    RL\n",
       "2918    RL\n",
       "Name: MSZoning, Length: 2919, dtype: object>"
      ]
     },
     "execution_count": 14,
     "metadata": {},
     "output_type": "execute_result"
    }
   ],
   "source": [
    "df_mszoning.describe\n"
   ]
  },
  {
   "cell_type": "code",
   "execution_count": 15,
   "id": "49adde50-c18d-4606-a666-55d15141da50",
   "metadata": {},
   "outputs": [],
   "source": [
    "df['MSZoning']=df['MSZoning'].fillna(\"bfill\")"
   ]
  },
  {
   "cell_type": "code",
   "execution_count": 16,
   "id": "0949b164-56a6-4b1f-9364-de0ef8c00997",
   "metadata": {},
   "outputs": [
    {
     "data": {
      "text/plain": [
       "MSZoning\n",
       "RL         2265\n",
       "RM          460\n",
       "FV          139\n",
       "RH           26\n",
       "C (all)      25\n",
       "Name: count, dtype: int64"
      ]
     },
     "execution_count": 16,
     "metadata": {},
     "output_type": "execute_result"
    }
   ],
   "source": [
    "df_mszoning.value_counts()"
   ]
  },
  {
   "cell_type": "code",
   "execution_count": 17,
   "id": "bd932e2e-71f2-49df-b572-36769b80b881",
   "metadata": {},
   "outputs": [
    {
     "data": {
      "text/plain": [
       "<bound method IndexOpsMixin.value_counts of 0       RL\n",
       "1       RL\n",
       "2       RL\n",
       "3       RL\n",
       "4       RL\n",
       "        ..\n",
       "2914    RM\n",
       "2915    RM\n",
       "2916    RL\n",
       "2917    RL\n",
       "2918    RL\n",
       "Name: MSZoning, Length: 2919, dtype: object>"
      ]
     },
     "execution_count": 17,
     "metadata": {},
     "output_type": "execute_result"
    }
   ],
   "source": [
    "df_mszoning.value_counts"
   ]
  },
  {
   "cell_type": "code",
   "execution_count": 18,
   "id": "9a266b0b-dfcb-4b6c-baea-928dbd28380a",
   "metadata": {},
   "outputs": [],
   "source": [
    "df['Exterior1st']=df['Exterior1st'].fillna(\"bfill\")"
   ]
  },
  {
   "cell_type": "code",
   "execution_count": 19,
   "id": "0ae6a511-fe53-4834-9806-91ac510dd982",
   "metadata": {},
   "outputs": [],
   "source": [
    "df['BsmtFinSF2']= df['BsmtFinSF2'].fillna(\"bfill\")"
   ]
  },
  {
   "cell_type": "code",
   "execution_count": 20,
   "id": "c3f81a12-db44-4bc8-aba5-352c0d63bdf1",
   "metadata": {},
   "outputs": [],
   "source": [
    "df['TotalBsmtSF']=df['TotalBsmtSF'].fillna(\"bfill\")"
   ]
  },
  {
   "cell_type": "code",
   "execution_count": 21,
   "id": "b0e7f552-7a93-4652-9ea3-756f9deca3c7",
   "metadata": {},
   "outputs": [
    {
     "name": "stdout",
     "output_type": "stream",
     "text": [
      "<class 'pandas.core.frame.DataFrame'>\n",
      "RangeIndex: 2919 entries, 0 to 2918\n",
      "Data columns (total 13 columns):\n",
      " #   Column        Non-Null Count  Dtype  \n",
      "---  ------        --------------  -----  \n",
      " 0   Id            2919 non-null   int64  \n",
      " 1   MSSubClass    2919 non-null   int64  \n",
      " 2   MSZoning      2919 non-null   object \n",
      " 3   LotArea       2919 non-null   int64  \n",
      " 4   LotConfig     2919 non-null   object \n",
      " 5   BldgType      2919 non-null   object \n",
      " 6   OverallCond   2919 non-null   int64  \n",
      " 7   YearBuilt     2919 non-null   int64  \n",
      " 8   YearRemodAdd  2919 non-null   int64  \n",
      " 9   Exterior1st   2919 non-null   object \n",
      " 10  BsmtFinSF2    2919 non-null   object \n",
      " 11  TotalBsmtSF   2919 non-null   object \n",
      " 12  SalePrice     1460 non-null   float64\n",
      "dtypes: float64(1), int64(6), object(6)\n",
      "memory usage: 296.6+ KB\n"
     ]
    }
   ],
   "source": [
    "df.info()"
   ]
  },
  {
   "cell_type": "code",
   "execution_count": 22,
   "id": "a8341f2e-dc77-4c51-b9bd-3081951000e4",
   "metadata": {},
   "outputs": [
    {
     "data": {
      "text/plain": [
       "Id                 0\n",
       "MSSubClass         0\n",
       "MSZoning           0\n",
       "LotArea            0\n",
       "LotConfig          0\n",
       "BldgType           0\n",
       "OverallCond        0\n",
       "YearBuilt          0\n",
       "YearRemodAdd       0\n",
       "Exterior1st        0\n",
       "BsmtFinSF2         0\n",
       "TotalBsmtSF        0\n",
       "SalePrice       1459\n",
       "dtype: int64"
      ]
     },
     "execution_count": 22,
     "metadata": {},
     "output_type": "execute_result"
    }
   ],
   "source": [
    "df.isnull().sum()"
   ]
  },
  {
   "cell_type": "code",
   "execution_count": 23,
   "id": "0d37f7cd-ca2a-476c-b9c4-bfbd63a6aca9",
   "metadata": {},
   "outputs": [
    {
     "data": {
      "text/plain": [
       "0"
      ]
     },
     "execution_count": 23,
     "metadata": {},
     "output_type": "execute_result"
    }
   ],
   "source": [
    "df.duplicated().sum()"
   ]
  },
  {
   "cell_type": "code",
   "execution_count": 24,
   "id": "889fbc21-2b72-4a56-ad38-ef0fa73e25cc",
   "metadata": {},
   "outputs": [
    {
     "data": {
      "text/plain": [
       "array([208500., 181500., 223500., 140000., 250000., 143000., 307000.,\n",
       "       200000., 129900., 118000., 129500., 345000., 144000., 279500.,\n",
       "       157000., 132000., 149000.,  90000., 159000., 139000., 325300.,\n",
       "       139400., 230000., 154000., 256300., 134800., 306000., 207500.,\n",
       "        68500.,  40000., 149350., 179900., 165500., 277500., 309000.,\n",
       "       145000., 153000., 109000.,  82000., 160000., 170000., 130250.,\n",
       "       141000., 319900., 239686., 249700., 113000., 127000., 177000.,\n",
       "       114500., 110000., 385000., 130000., 180500., 172500., 196500.,\n",
       "       438780., 124900., 158000., 101000., 202500., 219500., 317000.,\n",
       "       180000., 226000.,  80000., 225000., 244000., 185000., 144900.,\n",
       "       107400.,  91000., 135750., 136500., 193500., 153500., 245000.,\n",
       "       126500., 168500., 260000., 174000., 164500.,  85000., 123600.,\n",
       "       109900.,  98600., 163500., 133900., 204750., 214000.,  94750.,\n",
       "        83000., 128950., 205000., 178000., 118964., 198900., 169500.,\n",
       "       100000., 115000., 190000., 136900., 383970., 217000., 259500.,\n",
       "       176000., 155000., 320000., 163990., 136000., 153900., 181000.,\n",
       "        84500., 128000.,  87000., 150000., 150750., 220000., 171000.,\n",
       "       231500., 166000., 204000., 125000., 105000., 222500., 122000.,\n",
       "       372402., 235000.,  79000., 109500., 269500., 254900., 162500.,\n",
       "       412500., 103200., 152000., 127500., 325624., 183500., 228000.,\n",
       "       128500., 215000., 239000., 163000., 184000., 243000., 211000.,\n",
       "       501837., 200100., 120000., 475000., 173000., 135000., 153337.,\n",
       "       286000., 315000., 192000., 148500., 311872., 104000., 274900.,\n",
       "       171500., 112000., 143900., 277000.,  98000., 186000., 252678.,\n",
       "       156000., 161750., 134450., 210000., 107000., 311500., 167240.,\n",
       "       204900.,  97000., 386250., 290000., 106000., 192500., 148000.,\n",
       "       403000.,  94500., 128200., 216500.,  89500., 185500., 194500.,\n",
       "       318000., 262500., 110500., 241500., 137000.,  76500., 276000.,\n",
       "       151000.,  73000., 175500., 179500., 120500., 266000., 124500.,\n",
       "       201000., 415298., 228500., 244600., 179200., 164700.,  88000.,\n",
       "       153575., 233230., 135900., 131000., 167000., 142500., 175000.,\n",
       "       158500., 267000., 149900., 295000., 305900.,  82500., 360000.,\n",
       "       165600., 119900., 375000., 188500., 270000., 187500., 342643.,\n",
       "       354000., 301000., 126175., 242000., 324000., 145250., 214500.,\n",
       "        78000., 119000., 284000., 207000., 228950., 377426., 202900.,\n",
       "        87500., 140200., 151500., 157500., 437154., 318061.,  95000.,\n",
       "       105900., 177500., 134000., 280000., 198500., 147000., 165000.,\n",
       "       162000., 172400., 134432., 123000.,  61000., 340000., 394432.,\n",
       "       179000., 187750., 213500.,  76000., 240000.,  81000., 191000.,\n",
       "       426000., 106500., 129000.,  67000., 241000., 245500., 164990.,\n",
       "       108000., 258000., 168000., 339750.,  60000., 222000., 181134.,\n",
       "       149500., 126000., 142000., 206300., 275000., 109008., 195400.,\n",
       "        85400.,  79900., 122500., 212000., 116000.,  90350., 555000.,\n",
       "       162900., 199900., 119500., 188000., 256000., 161000., 263435.,\n",
       "        62383., 188700., 124000., 178740., 146500., 187000., 440000.,\n",
       "       251000., 132500., 208900., 380000., 297000.,  89471., 326000.,\n",
       "       374000., 164000.,  86000., 133000., 172785.,  91300.,  34900.,\n",
       "       430000., 226700., 289000., 208300., 164900., 202665.,  96500.,\n",
       "       402861., 265000., 234000., 106250., 184750., 315750., 446261.,\n",
       "       200624., 107500.,  39300., 111250., 272000., 248000., 213250.,\n",
       "       179665., 229000., 263000., 112500., 255500., 121500., 268000.,\n",
       "       325000., 316600., 135960., 142600., 224500., 118500., 146000.,\n",
       "       131500., 181900., 253293., 369900.,  79500., 185900., 451950.,\n",
       "       138000., 319000., 114504., 194201., 217500., 221000., 359100.,\n",
       "       313000., 261500.,  75500., 137500., 183200., 105500., 314813.,\n",
       "       305000., 165150., 139900., 209500.,  93000., 264561., 274000.,\n",
       "       370878., 143250.,  98300., 205950., 350000., 145500.,  97500.,\n",
       "       197900., 402000., 423000., 230500., 173500., 103600., 257500.,\n",
       "       372500., 159434., 285000., 227875., 148800., 392000., 194700.,\n",
       "       755000., 335000., 108480., 141500.,  89000., 123500., 138500.,\n",
       "       196000., 312500., 361919., 213000.,  55000., 302000., 254000.,\n",
       "       179540.,  52000., 102776., 189000., 130500., 159500., 341000.,\n",
       "       103000., 236500., 131400.,  93500., 239900., 299800., 236000.,\n",
       "       265979., 260400., 275500., 158900., 179400., 215200., 337000.,\n",
       "       264132., 216837., 538000., 134900., 102000., 395000., 221500.,\n",
       "       175900., 187100., 161500., 233000., 107900., 160200., 146800.,\n",
       "       269790., 143500., 485000., 582933., 227680., 135500., 159950.,\n",
       "       144500.,  55993., 157900., 224900., 271000., 224000., 183000.,\n",
       "       139500., 232600., 147400., 237000., 139950., 174900., 133500.,\n",
       "       189950., 250580., 248900., 169000., 200500.,  66500., 303477.,\n",
       "       132250., 328900., 122900., 154500., 118858., 142953., 611657.,\n",
       "       125500., 255000., 154300., 173733.,  75000.,  35311., 238000.,\n",
       "       176500., 145900., 169990., 193000., 117500., 184900., 253000.,\n",
       "       239799., 244400., 150900., 197500., 172000., 116500., 214900.,\n",
       "       178900.,  37900.,  99500., 182000., 167500.,  85500., 178400.,\n",
       "       336000., 159895., 255900., 117000., 395192., 195000., 197000.,\n",
       "       348000., 173900., 337500., 121600., 206000., 232000., 136905.,\n",
       "       119200., 227000., 203000., 213490., 194000., 287000., 293077.,\n",
       "       310000., 119750.,  84000., 315500., 262280., 278000., 139600.,\n",
       "       556581.,  84900., 176485., 200141., 185850., 328000., 167900.,\n",
       "       151400.,  91500., 138800., 155900.,  83500., 252000.,  92900.,\n",
       "       176432., 274725., 134500., 184100., 133700., 118400., 212900.,\n",
       "       163900., 259000., 239500.,  94000., 424870., 174500., 116900.,\n",
       "       201800., 218000., 235128., 108959., 233170., 245350., 625000.,\n",
       "       171900., 154900., 392500., 745000., 186700., 104900., 262000.,\n",
       "       219210., 116050., 271900., 229456.,  80500., 137900., 367294.,\n",
       "       101800., 138887., 265900., 248328., 465000., 186500., 169900.,\n",
       "       171750., 294000., 165400., 301500.,  99900., 128900., 183900.,\n",
       "       378500., 381000., 185750.,  68400., 150500., 281000., 333168.,\n",
       "       206900., 295493., 111000., 156500.,  72500.,  52500., 155835.,\n",
       "       108500., 283463., 410000., 156932., 144152., 216000., 274300.,\n",
       "       466500.,  58500., 237500., 377500., 246578., 281213., 137450.,\n",
       "       193879., 282922., 257000., 223000., 274970., 182900., 192140.,\n",
       "       143750.,  64500., 394617., 149700., 149300., 121000., 179600.,\n",
       "        92000., 287090., 266500., 142125., 147500.,     nan])"
      ]
     },
     "execution_count": 24,
     "metadata": {},
     "output_type": "execute_result"
    }
   ],
   "source": [
    "#Q1) Checking for Missing Values\n",
    "df.SalePrice.unique()"
   ]
  },
  {
   "cell_type": "code",
   "execution_count": 25,
   "id": "1a249013-beaa-4dca-bd23-12e45b58869b",
   "metadata": {},
   "outputs": [
    {
     "data": {
      "text/plain": [
       "1459"
      ]
     },
     "execution_count": 25,
     "metadata": {},
     "output_type": "execute_result"
    }
   ],
   "source": [
    "#Q1) Checking for Missing Values\n",
    "df['SalePrice'].isnull().sum()\n",
    "\n",
    "\n",
    "#or we can use the below code as well for checking the missing values\n",
    "#df['SalePrice'].isna().sum()"
   ]
  },
  {
   "cell_type": "code",
   "execution_count": 26,
   "id": "2768e6ba-c0f5-4361-b123-323d2be74a52",
   "metadata": {
    "scrolled": true
   },
   "outputs": [
    {
     "name": "stdout",
     "output_type": "stream",
     "text": [
      "Id                 0\n",
      "MSSubClass         0\n",
      "MSZoning           0\n",
      "LotArea            0\n",
      "LotConfig          0\n",
      "BldgType           0\n",
      "OverallCond        0\n",
      "YearBuilt          0\n",
      "YearRemodAdd       0\n",
      "Exterior1st        0\n",
      "BsmtFinSF2         0\n",
      "TotalBsmtSF        0\n",
      "SalePrice       1459\n",
      "dtype: int64\n"
     ]
    }
   ],
   "source": [
    "#Q2) Features with NAN Values\n",
    "\n",
    "nan_values=df.isnull().sum()\n",
    "print(nan_values)"
   ]
  },
  {
   "cell_type": "code",
   "execution_count": 27,
   "id": "bdbe8a60-136f-4b8a-a5f8-e8fb2cbfa148",
   "metadata": {},
   "outputs": [
    {
     "name": "stdout",
     "output_type": "stream",
     "text": [
      "Features with NAN Values: SalePrice    1459\n",
      "dtype: int64\n"
     ]
    }
   ],
   "source": [
    "print(\"Features with NAN Values:\",nan_values[nan_values>0])"
   ]
  },
  {
   "cell_type": "code",
   "execution_count": 28,
   "id": "63f696dd-af98-4888-a876-b1604c5c8220",
   "metadata": {},
   "outputs": [
    {
     "data": {
      "text/plain": [
       "180921.19589041095"
      ]
     },
     "execution_count": 28,
     "metadata": {},
     "output_type": "execute_result"
    }
   ],
   "source": [
    "#Q3) Calculate  with  mean  sales Price where the information is present or Missing\n",
    "\n",
    "df['SalePrice'].mean()"
   ]
  },
  {
   "cell_type": "code",
   "execution_count": 29,
   "id": "a853a629-ebd2-40d5-be35-c28e70aa7578",
   "metadata": {},
   "outputs": [
    {
     "data": {
      "text/plain": [
       "0    140000.0\n",
       "Name: SalePrice, dtype: float64"
      ]
     },
     "execution_count": 29,
     "metadata": {},
     "output_type": "execute_result"
    }
   ],
   "source": [
    "df['SalePrice'].mode()"
   ]
  },
  {
   "cell_type": "code",
   "execution_count": 30,
   "id": "590fdbef-816e-4dad-8a90-cc91c3c87689",
   "metadata": {},
   "outputs": [],
   "source": [
    "#Calculate mean sales price where information is present (non-missing)\n",
    "mean_Sales_Price= df['SalePrice'].dropna().mean()\n"
   ]
  },
  {
   "cell_type": "code",
   "execution_count": 31,
   "id": "c77f91ca-e5c1-4564-8f97-e143baa91394",
   "metadata": {},
   "outputs": [
    {
     "data": {
      "text/plain": [
       "180921.19589041095"
      ]
     },
     "execution_count": 31,
     "metadata": {},
     "output_type": "execute_result"
    }
   ],
   "source": [
    "mean_Sales_Price"
   ]
  },
  {
   "cell_type": "code",
   "execution_count": 32,
   "id": "5075485d-fd55-4e25-b09c-d6def6b8b109",
   "metadata": {},
   "outputs": [
    {
     "name": "stdout",
     "output_type": "stream",
     "text": [
      "Count of Numerical Features: 7\n"
     ]
    }
   ],
   "source": [
    "#Q4) Gives the Count  of Numerical features\n",
    "#select_dtypes(include=['number']): return the dataframe that contain only number. \n",
    "#shape[0]: will give the count of the rows and shape[1]: will give the count of the columns\n",
    "\n",
    "numerical_features_count= df.select_dtypes(include=np.number).shape[1]\n",
    "print(\"Count of Numerical Features:\", numerical_features_count)\n"
   ]
  },
  {
   "cell_type": "code",
   "execution_count": 33,
   "id": "7f22e6c6-9eb9-4e94-9dde-7cd5d22c4e3f",
   "metadata": {},
   "outputs": [
    {
     "data": {
      "text/html": [
       "<div>\n",
       "<style scoped>\n",
       "    .dataframe tbody tr th:only-of-type {\n",
       "        vertical-align: middle;\n",
       "    }\n",
       "\n",
       "    .dataframe tbody tr th {\n",
       "        vertical-align: top;\n",
       "    }\n",
       "\n",
       "    .dataframe thead th {\n",
       "        text-align: right;\n",
       "    }\n",
       "</style>\n",
       "<table border=\"1\" class=\"dataframe\">\n",
       "  <thead>\n",
       "    <tr style=\"text-align: right;\">\n",
       "      <th></th>\n",
       "      <th>Id</th>\n",
       "      <th>MSSubClass</th>\n",
       "      <th>LotArea</th>\n",
       "      <th>OverallCond</th>\n",
       "      <th>YearBuilt</th>\n",
       "      <th>YearRemodAdd</th>\n",
       "      <th>SalePrice</th>\n",
       "    </tr>\n",
       "  </thead>\n",
       "  <tbody>\n",
       "    <tr>\n",
       "      <th>0</th>\n",
       "      <td>0</td>\n",
       "      <td>60</td>\n",
       "      <td>8450</td>\n",
       "      <td>5</td>\n",
       "      <td>2003</td>\n",
       "      <td>2003</td>\n",
       "      <td>208500.0</td>\n",
       "    </tr>\n",
       "    <tr>\n",
       "      <th>1</th>\n",
       "      <td>1</td>\n",
       "      <td>20</td>\n",
       "      <td>9600</td>\n",
       "      <td>8</td>\n",
       "      <td>1976</td>\n",
       "      <td>1976</td>\n",
       "      <td>181500.0</td>\n",
       "    </tr>\n",
       "    <tr>\n",
       "      <th>2</th>\n",
       "      <td>2</td>\n",
       "      <td>60</td>\n",
       "      <td>11250</td>\n",
       "      <td>5</td>\n",
       "      <td>2001</td>\n",
       "      <td>2002</td>\n",
       "      <td>223500.0</td>\n",
       "    </tr>\n",
       "    <tr>\n",
       "      <th>3</th>\n",
       "      <td>3</td>\n",
       "      <td>70</td>\n",
       "      <td>9550</td>\n",
       "      <td>5</td>\n",
       "      <td>1915</td>\n",
       "      <td>1970</td>\n",
       "      <td>140000.0</td>\n",
       "    </tr>\n",
       "    <tr>\n",
       "      <th>4</th>\n",
       "      <td>4</td>\n",
       "      <td>60</td>\n",
       "      <td>14260</td>\n",
       "      <td>5</td>\n",
       "      <td>2000</td>\n",
       "      <td>2000</td>\n",
       "      <td>250000.0</td>\n",
       "    </tr>\n",
       "  </tbody>\n",
       "</table>\n",
       "</div>"
      ],
      "text/plain": [
       "   Id  MSSubClass  LotArea  OverallCond  YearBuilt  YearRemodAdd  SalePrice\n",
       "0   0          60     8450            5       2003          2003   208500.0\n",
       "1   1          20     9600            8       1976          1976   181500.0\n",
       "2   2          60    11250            5       2001          2002   223500.0\n",
       "3   3          70     9550            5       1915          1970   140000.0\n",
       "4   4          60    14260            5       2000          2000   250000.0"
      ]
     },
     "execution_count": 33,
     "metadata": {},
     "output_type": "execute_result"
    }
   ],
   "source": [
    "#Q5) Prints the first five rows of numerical values\n",
    "\n",
    "df.select_dtypes(include=np.number).head()"
   ]
  },
  {
   "cell_type": "code",
   "execution_count": 34,
   "id": "3cbe953a-24ce-40f6-8fb1-20adc85991ec",
   "metadata": {},
   "outputs": [
    {
     "data": {
      "image/png": "[encoded data removed]",
      "text/plain": [
       "<Figure size 1000x600 with 1 Axes>"
      ]
     },
     "metadata": {},
     "output_type": "display_data"
    },
    {
     "data": {
      "image/png": "[encoded data removed]",
      "text/plain": [
       "<Figure size 1000x600 with 1 Axes>"
      ]
     },
     "metadata": {},
     "output_type": "display_data"
    }
   ],
   "source": [
    "#Q6) We will Compare the difference between all the years features with SalesPrice\n",
    "#The year columns are \"YearBuilt\" and \"YearRemodAdd\" . So we will consider it and compare with saleprice\n",
    "\n",
    "years_feature= [\"YearBuilt\",\"YearRemodAdd\"]\n",
    "\n",
    "for feature in years_feature:\n",
    "    plt.figure(figsize=(10,6))\n",
    "    plt.scatter(df[feature],df[\"SalePrice\"])\n",
    "    plt.xlabel(feature)\n",
    "    plt.ylabel(\"SalePrice\")\n",
    "    plt.title(\"Difference between all\"+\" \"+ feature +\" and SalePrice\")\n",
    "    plt.show()"
   ]
  },
  {
   "cell_type": "code",
   "execution_count": 35,
   "id": "77927e3e-6100-4db3-8619-2f2555c8bb74",
   "metadata": {},
   "outputs": [
    {
     "data": {
      "image/png": "[encoded data removed]",
      "text/plain": [
       "<Figure size 1100x600 with 1 Axes>"
      ]
     },
     "metadata": {},
     "output_type": "display_data"
    }
   ],
   "source": [
    "#Q7) On the Discrete Variable Find the relationship between Discrete and Sales price\n",
    "#Consists of countable, distinct values (often whole numbers).Represents things that can be counted (e.g., number of rooms, number of people).\n",
    "#So after anaylyse the data, we will conside OverallCond as discrete variable\n",
    "\n",
    "discrete_var= \"OverallCond\"\n",
    "plt.figure(figsize=(11,6))\n",
    "sb.boxplot(x=df[discrete_var], y=df[\"SalePrice\"], color= \"g\")\n",
    "#plt.bar(df[discrete_var], df[\"SalePrice\"])   : Barplot graph\n",
    "plt.xlabel(discrete_var)\n",
    "plt.ylabel(\"SalePrice\")\n",
    "#plt.xticks(rotation=90)\n",
    "plt.title(\"Relationship between\"+\" \"+ discrete_var +\"and Sales price\")\n",
    "plt.show()\n"
   ]
  },
  {
   "cell_type": "code",
   "execution_count": 36,
   "id": "e9f9b9ff-bfaa-4e0c-b393-89cbe1bdc9a3",
   "metadata": {},
   "outputs": [
    {
     "data": {
      "image/png": "[encoded data removed]",
      "text/plain": [
       "<Figure size 1000x500 with 1 Axes>"
      ]
     },
     "metadata": {},
     "output_type": "display_data"
    }
   ],
   "source": [
    "#Q8) On the Continous Variable Find the relationship between Discrete and Sales Price\n",
    "\n",
    "discrete_feature= \"OverallCond\"\n",
    "plt.figure(figsize=(10,5))\n",
    "plt.bar(df[discrete_feature],df[\"SalePrice\"])\n",
    "plt.xlabel(discrete_feature)\n",
    "plt.ylabel(\"SalePrice\")\n",
    "plt.title(\"Relationship between\" +\" \"+discrete_feature+ \"and Sales Price\",)\n",
    "plt.show()\n"
   ]
  },
  {
   "cell_type": "code",
   "execution_count": 37,
   "id": "9b6f8c2b-c355-4283-bb98-8beaf6c2df7c",
   "metadata": {},
   "outputs": [
    {
     "data": {
      "text/plain": [
       "'we will take LotArea,TotalBsmtSF and SalePrice for the continous values as  \\nA continuous variable is a numeric variable that can take any value within a range. \\nIt can be measured and typically includes decimals or a large range of values'"
      ]
     },
     "execution_count": 37,
     "metadata": {},
     "output_type": "execute_result"
    }
   ],
   "source": [
    "#Q9) Analyse the Continous values by creating the histogram to understand the distribution.\n",
    "'''we will take LotArea,TotalBsmtSF and SalePrice for the continous values as  \n",
    "A continuous variable is a numeric variable that can take any value within a range. \n",
    "It can be measured and typically includes decimals or a large range of values'''\n"
   ]
  },
  {
   "cell_type": "code",
   "execution_count": 38,
   "id": "be028ee3-331f-44bb-b1d0-abe286587811",
   "metadata": {},
   "outputs": [
    {
     "data": {
      "image/png": "[encoded data removed]",
      "text/plain": [
       "<Figure size 1000x600 with 1 Axes>"
      ]
     },
     "metadata": {},
     "output_type": "display_data"
    },
    {
     "ename": "TypeError",
     "evalue": "'<=' not supported between instances of 'float' and 'str'",
     "output_type": "error",
     "traceback": [
      "\u001b[1;31m---------------------------------------------------------------------------\u001b[0m",
      "\u001b[1;31mTypeError\u001b[0m                                 Traceback (most recent call last)",
      "Cell \u001b[1;32mIn[38], line 4\u001b[0m\n\u001b[0;32m      2\u001b[0m \u001b[38;5;28;01mfor\u001b[39;00m histo \u001b[38;5;129;01min\u001b[39;00m continous_data:\n\u001b[0;32m      3\u001b[0m     plt\u001b[38;5;241m.\u001b[39mfigure(figsize\u001b[38;5;241m=\u001b[39m(\u001b[38;5;241m10\u001b[39m,\u001b[38;5;241m6\u001b[39m))\n\u001b[1;32m----> 4\u001b[0m     plt\u001b[38;5;241m.\u001b[39mhist(df[histo], bins\u001b[38;5;241m=\u001b[39m\u001b[38;5;241m20\u001b[39m, color\u001b[38;5;241m=\u001b[39m\u001b[38;5;124m\"\u001b[39m\u001b[38;5;124mblue\u001b[39m\u001b[38;5;124m\"\u001b[39m)\n\u001b[0;32m      5\u001b[0m     plt\u001b[38;5;241m.\u001b[39mtitle(\u001b[38;5;124m\"\u001b[39m\u001b[38;5;124mhistogram\u001b[39m\u001b[38;5;124m\"\u001b[39m\u001b[38;5;241m+\u001b[39m\u001b[38;5;124m\"\u001b[39m\u001b[38;5;124m \u001b[39m\u001b[38;5;124m\"\u001b[39m\u001b[38;5;241m+\u001b[39mhisto)\n\u001b[0;32m      6\u001b[0m     plt\u001b[38;5;241m.\u001b[39mxlabel(histo)\n",
      "File \u001b[1;32m~\\anaconda3\\Lib\\site-packages\\matplotlib\\pyplot.py:3236\u001b[0m, in \u001b[0;36mhist\u001b[1;34m(x, bins, range, density, weights, cumulative, bottom, histtype, align, orientation, rwidth, log, color, label, stacked, data, **kwargs)\u001b[0m\n\u001b[0;32m   3211\u001b[0m \u001b[38;5;129m@_copy_docstring_and_deprecators\u001b[39m(Axes\u001b[38;5;241m.\u001b[39mhist)\n\u001b[0;32m   3212\u001b[0m \u001b[38;5;28;01mdef\u001b[39;00m \u001b[38;5;21mhist\u001b[39m(\n\u001b[0;32m   3213\u001b[0m     x: ArrayLike \u001b[38;5;241m|\u001b[39m Sequence[ArrayLike],\n\u001b[1;32m   (...)\u001b[0m\n\u001b[0;32m   3234\u001b[0m     BarContainer \u001b[38;5;241m|\u001b[39m Polygon \u001b[38;5;241m|\u001b[39m \u001b[38;5;28mlist\u001b[39m[BarContainer \u001b[38;5;241m|\u001b[39m Polygon],\n\u001b[0;32m   3235\u001b[0m ]:\n\u001b[1;32m-> 3236\u001b[0m     \u001b[38;5;28;01mreturn\u001b[39;00m gca()\u001b[38;5;241m.\u001b[39mhist(\n\u001b[0;32m   3237\u001b[0m         x,\n\u001b[0;32m   3238\u001b[0m         bins\u001b[38;5;241m=\u001b[39mbins,\n\u001b[0;32m   3239\u001b[0m         \u001b[38;5;28mrange\u001b[39m\u001b[38;5;241m=\u001b[39m\u001b[38;5;28mrange\u001b[39m,\n\u001b[0;32m   3240\u001b[0m         density\u001b[38;5;241m=\u001b[39mdensity,\n\u001b[0;32m   3241\u001b[0m         weights\u001b[38;5;241m=\u001b[39mweights,\n\u001b[0;32m   3242\u001b[0m         cumulative\u001b[38;5;241m=\u001b[39mcumulative,\n\u001b[0;32m   3243\u001b[0m         bottom\u001b[38;5;241m=\u001b[39mbottom,\n\u001b[0;32m   3244\u001b[0m         histtype\u001b[38;5;241m=\u001b[39mhisttype,\n\u001b[0;32m   3245\u001b[0m         align\u001b[38;5;241m=\u001b[39malign,\n\u001b[0;32m   3246\u001b[0m         orientation\u001b[38;5;241m=\u001b[39morientation,\n\u001b[0;32m   3247\u001b[0m         rwidth\u001b[38;5;241m=\u001b[39mrwidth,\n\u001b[0;32m   3248\u001b[0m         log\u001b[38;5;241m=\u001b[39mlog,\n\u001b[0;32m   3249\u001b[0m         color\u001b[38;5;241m=\u001b[39mcolor,\n\u001b[0;32m   3250\u001b[0m         label\u001b[38;5;241m=\u001b[39mlabel,\n\u001b[0;32m   3251\u001b[0m         stacked\u001b[38;5;241m=\u001b[39mstacked,\n\u001b[0;32m   3252\u001b[0m         \u001b[38;5;241m*\u001b[39m\u001b[38;5;241m*\u001b[39m({\u001b[38;5;124m\"\u001b[39m\u001b[38;5;124mdata\u001b[39m\u001b[38;5;124m\"\u001b[39m: data} \u001b[38;5;28;01mif\u001b[39;00m data \u001b[38;5;129;01mis\u001b[39;00m \u001b[38;5;129;01mnot\u001b[39;00m \u001b[38;5;28;01mNone\u001b[39;00m \u001b[38;5;28;01melse\u001b[39;00m {}),\n\u001b[0;32m   3253\u001b[0m         \u001b[38;5;241m*\u001b[39m\u001b[38;5;241m*\u001b[39mkwargs,\n\u001b[0;32m   3254\u001b[0m     )\n",
      "File \u001b[1;32m~\\anaconda3\\Lib\\site-packages\\matplotlib\\__init__.py:1465\u001b[0m, in \u001b[0;36m_preprocess_data.<locals>.inner\u001b[1;34m(ax, data, *args, **kwargs)\u001b[0m\n\u001b[0;32m   1462\u001b[0m \u001b[38;5;129m@functools\u001b[39m\u001b[38;5;241m.\u001b[39mwraps(func)\n\u001b[0;32m   1463\u001b[0m \u001b[38;5;28;01mdef\u001b[39;00m \u001b[38;5;21minner\u001b[39m(ax, \u001b[38;5;241m*\u001b[39margs, data\u001b[38;5;241m=\u001b[39m\u001b[38;5;28;01mNone\u001b[39;00m, \u001b[38;5;241m*\u001b[39m\u001b[38;5;241m*\u001b[39mkwargs):\n\u001b[0;32m   1464\u001b[0m     \u001b[38;5;28;01mif\u001b[39;00m data \u001b[38;5;129;01mis\u001b[39;00m \u001b[38;5;28;01mNone\u001b[39;00m:\n\u001b[1;32m-> 1465\u001b[0m         \u001b[38;5;28;01mreturn\u001b[39;00m func(ax, \u001b[38;5;241m*\u001b[39m\u001b[38;5;28mmap\u001b[39m(sanitize_sequence, args), \u001b[38;5;241m*\u001b[39m\u001b[38;5;241m*\u001b[39mkwargs)\n\u001b[0;32m   1467\u001b[0m     bound \u001b[38;5;241m=\u001b[39m new_sig\u001b[38;5;241m.\u001b[39mbind(ax, \u001b[38;5;241m*\u001b[39margs, \u001b[38;5;241m*\u001b[39m\u001b[38;5;241m*\u001b[39mkwargs)\n\u001b[0;32m   1468\u001b[0m     auto_label \u001b[38;5;241m=\u001b[39m (bound\u001b[38;5;241m.\u001b[39marguments\u001b[38;5;241m.\u001b[39mget(label_namer)\n\u001b[0;32m   1469\u001b[0m                   \u001b[38;5;129;01mor\u001b[39;00m bound\u001b[38;5;241m.\u001b[39mkwargs\u001b[38;5;241m.\u001b[39mget(label_namer))\n",
      "File \u001b[1;32m~\\anaconda3\\Lib\\site-packages\\matplotlib\\axes\\_axes.py:6834\u001b[0m, in \u001b[0;36mAxes.hist\u001b[1;34m(self, x, bins, range, density, weights, cumulative, bottom, histtype, align, orientation, rwidth, log, color, label, stacked, **kwargs)\u001b[0m\n\u001b[0;32m   6830\u001b[0m \u001b[38;5;28;01mfor\u001b[39;00m xi \u001b[38;5;129;01min\u001b[39;00m x:\n\u001b[0;32m   6831\u001b[0m     \u001b[38;5;28;01mif\u001b[39;00m \u001b[38;5;28mlen\u001b[39m(xi):\n\u001b[0;32m   6832\u001b[0m         \u001b[38;5;66;03m# python's min/max ignore nan,\u001b[39;00m\n\u001b[0;32m   6833\u001b[0m         \u001b[38;5;66;03m# np.minnan returns nan for all nan input\u001b[39;00m\n\u001b[1;32m-> 6834\u001b[0m         xmin \u001b[38;5;241m=\u001b[39m \u001b[38;5;28mmin\u001b[39m(xmin, np\u001b[38;5;241m.\u001b[39mnanmin(xi))\n\u001b[0;32m   6835\u001b[0m         xmax \u001b[38;5;241m=\u001b[39m \u001b[38;5;28mmax\u001b[39m(xmax, np\u001b[38;5;241m.\u001b[39mnanmax(xi))\n\u001b[0;32m   6836\u001b[0m \u001b[38;5;28;01mif\u001b[39;00m xmin \u001b[38;5;241m<\u001b[39m\u001b[38;5;241m=\u001b[39m xmax:  \u001b[38;5;66;03m# Only happens if we have seen a finite value.\u001b[39;00m\n",
      "File \u001b[1;32m~\\anaconda3\\Lib\\site-packages\\numpy\\lib\\nanfunctions.py:350\u001b[0m, in \u001b[0;36mnanmin\u001b[1;34m(a, axis, out, keepdims, initial, where)\u001b[0m\n\u001b[0;32m    347\u001b[0m \u001b[38;5;28;01melse\u001b[39;00m:\n\u001b[0;32m    348\u001b[0m     \u001b[38;5;66;03m# Slow, but safe for subclasses of ndarray\u001b[39;00m\n\u001b[0;32m    349\u001b[0m     a, mask \u001b[38;5;241m=\u001b[39m _replace_nan(a, \u001b[38;5;241m+\u001b[39mnp\u001b[38;5;241m.\u001b[39minf)\n\u001b[1;32m--> 350\u001b[0m     res \u001b[38;5;241m=\u001b[39m np\u001b[38;5;241m.\u001b[39mamin(a, axis\u001b[38;5;241m=\u001b[39maxis, out\u001b[38;5;241m=\u001b[39mout, \u001b[38;5;241m*\u001b[39m\u001b[38;5;241m*\u001b[39mkwargs)\n\u001b[0;32m    351\u001b[0m     \u001b[38;5;28;01mif\u001b[39;00m mask \u001b[38;5;129;01mis\u001b[39;00m \u001b[38;5;28;01mNone\u001b[39;00m:\n\u001b[0;32m    352\u001b[0m         \u001b[38;5;28;01mreturn\u001b[39;00m res\n",
      "File \u001b[1;32m~\\anaconda3\\Lib\\site-packages\\numpy\\core\\fromnumeric.py:2970\u001b[0m, in \u001b[0;36mamin\u001b[1;34m(a, axis, out, keepdims, initial, where)\u001b[0m\n\u001b[0;32m   2957\u001b[0m \u001b[38;5;129m@array_function_dispatch\u001b[39m(_min_dispatcher)\n\u001b[0;32m   2958\u001b[0m \u001b[38;5;28;01mdef\u001b[39;00m \u001b[38;5;21mamin\u001b[39m(a, axis\u001b[38;5;241m=\u001b[39m\u001b[38;5;28;01mNone\u001b[39;00m, out\u001b[38;5;241m=\u001b[39m\u001b[38;5;28;01mNone\u001b[39;00m, keepdims\u001b[38;5;241m=\u001b[39mnp\u001b[38;5;241m.\u001b[39m_NoValue, initial\u001b[38;5;241m=\u001b[39mnp\u001b[38;5;241m.\u001b[39m_NoValue,\n\u001b[0;32m   2959\u001b[0m          where\u001b[38;5;241m=\u001b[39mnp\u001b[38;5;241m.\u001b[39m_NoValue):\n\u001b[0;32m   2960\u001b[0m \u001b[38;5;250m    \u001b[39m\u001b[38;5;124;03m\"\"\"\u001b[39;00m\n\u001b[0;32m   2961\u001b[0m \u001b[38;5;124;03m    Return the minimum of an array or minimum along an axis.\u001b[39;00m\n\u001b[0;32m   2962\u001b[0m \n\u001b[1;32m   (...)\u001b[0m\n\u001b[0;32m   2968\u001b[0m \u001b[38;5;124;03m    ndarray.min : equivalent method\u001b[39;00m\n\u001b[0;32m   2969\u001b[0m \u001b[38;5;124;03m    \"\"\"\u001b[39;00m\n\u001b[1;32m-> 2970\u001b[0m     \u001b[38;5;28;01mreturn\u001b[39;00m _wrapreduction(a, np\u001b[38;5;241m.\u001b[39mminimum, \u001b[38;5;124m'\u001b[39m\u001b[38;5;124mmin\u001b[39m\u001b[38;5;124m'\u001b[39m, axis, \u001b[38;5;28;01mNone\u001b[39;00m, out,\n\u001b[0;32m   2971\u001b[0m                           keepdims\u001b[38;5;241m=\u001b[39mkeepdims, initial\u001b[38;5;241m=\u001b[39minitial, where\u001b[38;5;241m=\u001b[39mwhere)\n",
      "File \u001b[1;32m~\\anaconda3\\Lib\\site-packages\\numpy\\core\\fromnumeric.py:88\u001b[0m, in \u001b[0;36m_wrapreduction\u001b[1;34m(obj, ufunc, method, axis, dtype, out, **kwargs)\u001b[0m\n\u001b[0;32m     85\u001b[0m         \u001b[38;5;28;01melse\u001b[39;00m:\n\u001b[0;32m     86\u001b[0m             \u001b[38;5;28;01mreturn\u001b[39;00m reduction(axis\u001b[38;5;241m=\u001b[39maxis, out\u001b[38;5;241m=\u001b[39mout, \u001b[38;5;241m*\u001b[39m\u001b[38;5;241m*\u001b[39mpasskwargs)\n\u001b[1;32m---> 88\u001b[0m \u001b[38;5;28;01mreturn\u001b[39;00m ufunc\u001b[38;5;241m.\u001b[39mreduce(obj, axis, dtype, out, \u001b[38;5;241m*\u001b[39m\u001b[38;5;241m*\u001b[39mpasskwargs)\n",
      "\u001b[1;31mTypeError\u001b[0m: '<=' not supported between instances of 'float' and 'str'"
     ]
    },
    {
     "data": {
      "image/png": "[encoded data removed]",
      "text/plain": [
       "<Figure size 1000x600 with 1 Axes>"
      ]
     },
     "metadata": {},
     "output_type": "display_data"
    }
   ],
   "source": [
    "continous_data= [\"LotArea\",\"TotalBsmtSF\",\"SalePrice\"]\n",
    "for histo in continous_data:\n",
    "    plt.figure(figsize=(10,6))\n",
    "    plt.hist(df[histo], bins=20, color=\"blue\")\n",
    "    plt.title(\"histogram\"+\" \"+histo)\n",
    "    plt.xlabel(histo)\n",
    "    plt.ylabel(\"Frequecy\")\n",
    "    plt.show()\n",
    "    "
   ]
  },
  {
   "cell_type": "code",
   "execution_count": null,
   "id": "3a250c37-a777-416e-8336-d535b1e220b4",
   "metadata": {},
   "outputs": [],
   "source": [
    "df.select_dtypes(include=np.number).shape[1]"
   ]
  },
  {
   "cell_type": "code",
   "execution_count": null,
   "id": "95d0e69e-1a2d-42ed-aaa1-7f0e9c8cda72",
   "metadata": {},
   "outputs": [],
   "source": [
    "df.nunique()"
   ]
  },
  {
   "cell_type": "code",
   "execution_count": null,
   "id": "ee913c86-432a-4419-a82c-c8147218ae74",
   "metadata": {},
   "outputs": [],
   "source": [
    "#Copy the original data into df_log so that original data will not modify\n",
    "df_log= df.copy()\n"
   ]
  },
  {
   "cell_type": "code",
   "execution_count": null,
   "id": "4b763739-7753-47a8-8354-0bffe2a96e6d",
   "metadata": {},
   "outputs": [],
   "source": [
    "#Q10) Apply the Lograthmic Transformation\n",
    "continous_data= [\"LotArea\",\"SalePrice\",\"TotalBsmtSF\"]\n",
    "for colm in continous_data:\n",
    "    df_log[colm]= np.log1p(df[colm])\n",
    "\n",
    "df_log[continous_data].head(10)\n",
    "#df_log[continous_data].tail(10)\n",
    "\n"
   ]
  },
  {
   "cell_type": "code",
   "execution_count": null,
   "id": "87997612-a8d2-4f82-8117-e7c50c704a51",
   "metadata": {},
   "outputs": [],
   "source": []
  },
  {
   "cell_type": "code",
   "execution_count": null,
   "id": "8c302e17-dacb-4017-aeb1-d9f061130e81",
   "metadata": {},
   "outputs": [],
   "source": [
    "#Q1) Find the Outliers \n",
    "#Define the function to detect outliers using IQR\n",
    "'''Why 1.5? It provides a good balance between excluding extreme values while keeping most data points.\n",
    "If we used 3× IQR, it would detect only extreme outliers.'''\n",
    "df_outliers= df.copy()\n",
    "\n",
    "def find_outliers_iqr(findings, column):\n",
    "    Q1= findings[column].quantile(0.25)  #First quartile (25th percentile)\n",
    "    Q3= findings[column].quantile(0.75)  # Third quartile (75th percentile)\n",
    "    IQR= Q3-Q1  # Interquartile range\n",
    "    lower_bound= Q1-1.5*IQR\n",
    "    upper_bound= Q3-1.5*IQR\n",
    "    outliers= findings[(findings[column]<lower_bound) | (findings[column]>upper_bound)]\n",
    "    return outliers\n",
    "\n",
    "outliers_funcall= find_outliers_iqr(df_outliers,\"SalePrice\")\n",
    "outliers_funcall.head(10)\n",
    "#print(outliers_funcall)\n"
   ]
  },
  {
   "cell_type": "code",
   "execution_count": null,
   "id": "9bca85eb-f739-40eb-b648-250df3b902d3",
   "metadata": {},
   "outputs": [],
   "source": [
    "df.info()"
   ]
  },
  {
   "cell_type": "code",
   "execution_count": null,
   "id": "ccca2518-6762-422c-947a-b55f1b743301",
   "metadata": {},
   "outputs": [],
   "source": [
    "#Q2) Find the relationship between Categorical feature and Sales Price\n",
    "categorial_data= [\"MSZoning\",\"LotConfig\",\"BldgType\",\"Exterior1st\"]\n",
    "\n",
    "for catg_data in categorial_data:\n",
    "    plt.figure(figsize=(10,6))\n",
    "    sb.boxplot(x=df[catg_data], y=df[\"SalePrice\"], color= \"blue\")\n",
    "    plt.title(\"Relationship between\"+\" \"+catg_data+ \" and SalePrice\")\n",
    "    plt.xticks(rotation=90)\n",
    "    plt.xlabel(catg_data)\n",
    "    plt.ylabel(\"SalePrice\")\n",
    "plt.show()"
   ]
  },
  {
   "cell_type": "code",
   "execution_count": null,
   "id": "0b4e428f-7865-47db-9222-c398490f2e59",
   "metadata": {},
   "outputs": [],
   "source": [
    "#Q3) Find the Correlation between Numerical Features and Sales Price\n",
    "df_temp= df.drop(columns=['Id'])\n",
    "numberical_feature= df_temp.select_dtypes(include=['float64','int64'])\n",
    "\n",
    "correlation_matrix= numberical_feature.corr()\n",
    "correlation_with_price=correlation_matrix[\"SalePrice\"].sort_values(ascending= False)\n",
    "correlation_with_price.head()\n",
    "\n",
    "plt.figure(figsize=(12,7))\n",
    "sb.heatmap(correlation_matrix,cmap=\"coolwarm\", annot=True, fmt=\".2f\", linewidths=0.5)\n",
    "plt.title(\"Correlation between Numerical Features and Sales Price\")\n",
    "plt.show()"
   ]
  },
  {
   "cell_type": "code",
   "execution_count": null,
   "id": "f5291a0f-e578-467f-baa7-5692634be1a2",
   "metadata": {},
   "outputs": [],
   "source": [
    "correlation_with_price.head()"
   ]
  },
  {
   "cell_type": "code",
   "execution_count": null,
   "id": "0c437244-48e0-4d04-8c8f-3fe9134806ef",
   "metadata": {},
   "outputs": [],
   "source": [
    "#Q4) Find Continous Features vs Sales Price\n",
    "'''Scatter plots are the best choice for analyzing the relationship between \n",
    "continuous numerical features and SalePrice because:\n",
    "'''\n",
    "continous_Features= [\"LotArea\",\"TotalBsmtSF\",\"BsmtFinSF2\"]\n",
    "for cont_feature in continous_Features:\n",
    "    plt.figure(figsize=(10,6))\n",
    "    plt.scatter(x=df[cont_feature],y=df[\"SalePrice\"])\n",
    "    plt.title(\"Continous Features\"+\" \"+ cont_feature + \"vs SalesPrice\")\n",
    "    plt.xlabel(cont_feature)\n",
    "    plt.ylabel(\"SalePrice\")\n",
    "    \n",
    "plt.show()\n"
   ]
  },
  {
   "cell_type": "code",
   "execution_count": null,
   "id": "68036508-8652-49f4-9ad9-0c94d026af4c",
   "metadata": {},
   "outputs": [],
   "source": [
    "df.info()"
   ]
  },
  {
   "cell_type": "code",
   "execution_count": null,
   "id": "bcf31a69-b5db-4c01-abfa-0aa9c9bf84ae",
   "metadata": {},
   "outputs": [],
   "source": [
    "''' Q5) Do the Feature Engineering for the \n",
    "\t\ta)Handle the Missing Values\n",
    "\t\tb) Handle the Categorical Variables\n",
    "\t\tc) Handle  the Numerical Variables\n",
    "\t\td) Handling  the Temporal Varaibles  \n",
    "\n",
    "✅ Numerical Features → Use median or mean.\n",
    "✅ Categorical Features → Use mode (most frequent category).\n",
    "✅ Temporal Features → Use median if it's a year-related column.\n",
    "  \n",
    "  '''\n"
   ]
  },
  {
   "cell_type": "code",
   "execution_count": null,
   "id": "2e6d7e33-021d-4509-b73b-8dbc88494163",
   "metadata": {},
   "outputs": [],
   "source": [
    "df.isnull().sum()"
   ]
  },
  {
   "cell_type": "code",
   "execution_count": null,
   "id": "66170d3b-8065-45f3-87a0-64a9307e9799",
   "metadata": {},
   "outputs": [],
   "source": [
    "'''handing the missing value\n",
    "df['MSZoning']=df['MSZoning'].fillna(\"bfill\")\n",
    "\n",
    "Now the only missing value is salesprice. Rest of the missing values in columns are already handled. '''\n",
    "\n",
    "df['SalePrice'].median()\n"
   ]
  },
  {
   "cell_type": "code",
   "execution_count": 40,
   "id": "fcf57cd6-f1c4-4293-aa15-cab5d4df8f27",
   "metadata": {},
   "outputs": [
    {
     "name": "stderr",
     "output_type": "stream",
     "text": [
      "C:\\Users\\Lokesh\\AppData\\Local\\Temp\\ipykernel_23828\\1263457067.py:3: FutureWarning: A value is trying to be set on a copy of a DataFrame or Series through chained assignment using an inplace method.\n",
      "The behavior will change in pandas 3.0. This inplace method will never work because the intermediate object on which we are setting values always behaves as a copy.\n",
      "\n",
      "For example, when doing 'df[col].method(value, inplace=True)', try using 'df.method({col: value}, inplace=True)' or df[col] = df[col].method(value) instead, to perform the operation inplace on the original object.\n",
      "\n",
      "\n",
      "  df['SalePrice'].fillna(df['SalePrice'].median(), inplace=True)\n"
     ]
    }
   ],
   "source": [
    "#handing the missing value\n",
    "\n",
    "df['SalePrice'].fillna(df['SalePrice'].median(), inplace=True)"
   ]
  },
  {
   "cell_type": "code",
   "execution_count": null,
   "id": "5d59f697-de87-4401-9353-12ff769aa088",
   "metadata": {},
   "outputs": [],
   "source": []
  },
  {
   "cell_type": "code",
   "execution_count": null,
   "id": "800d2cbc-db72-42ac-aeec-651809b47102",
   "metadata": {},
   "outputs": [],
   "source": []
  }
 ],
 "metadata": {
  "kernelspec": {
   "display_name": "Python 3 (ipykernel)",
   "language": "python",
   "name": "python3"
  },
  "language_info": {
   "codemirror_mode": {
    "name": "ipython",
    "version": 3
   },
   "file_extension": ".py",
   "mimetype": "text/x-python",
   "name": "python",
   "nbconvert_exporter": "python",
   "pygments_lexer": "ipython3",
   "version": "3.12.4"
  }
 },
 "nbformat": 4,
 "nbformat_minor": 5
}
