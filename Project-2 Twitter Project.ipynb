{
 "cells": [
  {
   "cell_type": "code",
   "execution_count": 413,
   "id": "947e06ff-45f4-4bc0-b9e6-040119d0a9a4",
   "metadata": {},
   "outputs": [],
   "source": [
    "import numpy as np\n",
    "import pandas as pd\n",
    "import matplotlib.pyplot as plt\n",
    "from matplotlib.widgets import Button\n",
    "import seaborn as sn"
   ]
  },
  {
   "cell_type": "code",
   "execution_count": 414,
   "id": "e9e75a9d-6d20-4927-91bc-c8fe746a5054",
   "metadata": {},
   "outputs": [],
   "source": [
    "df= pd.read_excel(r\"TWTR.xlsx\")"
   ]
  },
  {
   "cell_type": "code",
   "execution_count": 415,
   "id": "453d26b9-167c-4dad-a2aa-3e0e6d216dda",
   "metadata": {},
   "outputs": [
    {
     "data": {
      "text/html": [
       "<div>\n",
       "<style scoped>\n",
       "    .dataframe tbody tr th:only-of-type {\n",
       "        vertical-align: middle;\n",
       "    }\n",
       "\n",
       "    .dataframe tbody tr th {\n",
       "        vertical-align: top;\n",
       "    }\n",
       "\n",
       "    .dataframe thead th {\n",
       "        text-align: right;\n",
       "    }\n",
       "</style>\n",
       "<table border=\"1\" class=\"dataframe\">\n",
       "  <thead>\n",
       "    <tr style=\"text-align: right;\">\n",
       "      <th></th>\n",
       "      <th>Date</th>\n",
       "      <th>Open</th>\n",
       "      <th>High</th>\n",
       "      <th>Low</th>\n",
       "      <th>Close</th>\n",
       "      <th>Adj Close</th>\n",
       "      <th>Volume</th>\n",
       "    </tr>\n",
       "  </thead>\n",
       "  <tbody>\n",
       "    <tr>\n",
       "      <th>0</th>\n",
       "      <td>2013-11-07</td>\n",
       "      <td>45.099998</td>\n",
       "      <td>50.090000</td>\n",
       "      <td>44.000000</td>\n",
       "      <td>44.900002</td>\n",
       "      <td>44.900002</td>\n",
       "      <td>117701670.0</td>\n",
       "    </tr>\n",
       "    <tr>\n",
       "      <th>1</th>\n",
       "      <td>2013-11-08</td>\n",
       "      <td>45.930000</td>\n",
       "      <td>46.939999</td>\n",
       "      <td>40.685001</td>\n",
       "      <td>41.650002</td>\n",
       "      <td>41.650002</td>\n",
       "      <td>27925307.0</td>\n",
       "    </tr>\n",
       "    <tr>\n",
       "      <th>2</th>\n",
       "      <td>2013-11-11</td>\n",
       "      <td>40.500000</td>\n",
       "      <td>43.000000</td>\n",
       "      <td>39.400002</td>\n",
       "      <td>42.900002</td>\n",
       "      <td>42.900002</td>\n",
       "      <td>16113941.0</td>\n",
       "    </tr>\n",
       "    <tr>\n",
       "      <th>3</th>\n",
       "      <td>2013-11-12</td>\n",
       "      <td>43.660000</td>\n",
       "      <td>43.779999</td>\n",
       "      <td>41.830002</td>\n",
       "      <td>41.900002</td>\n",
       "      <td>41.900002</td>\n",
       "      <td>6316755.0</td>\n",
       "    </tr>\n",
       "    <tr>\n",
       "      <th>4</th>\n",
       "      <td>2013-11-13</td>\n",
       "      <td>41.029999</td>\n",
       "      <td>42.869999</td>\n",
       "      <td>40.759998</td>\n",
       "      <td>42.599998</td>\n",
       "      <td>42.599998</td>\n",
       "      <td>8688325.0</td>\n",
       "    </tr>\n",
       "    <tr>\n",
       "      <th>...</th>\n",
       "      <td>...</td>\n",
       "      <td>...</td>\n",
       "      <td>...</td>\n",
       "      <td>...</td>\n",
       "      <td>...</td>\n",
       "      <td>...</td>\n",
       "      <td>...</td>\n",
       "    </tr>\n",
       "    <tr>\n",
       "      <th>95</th>\n",
       "      <td>2014-03-27</td>\n",
       "      <td>45.090000</td>\n",
       "      <td>46.400002</td>\n",
       "      <td>43.310001</td>\n",
       "      <td>46.320000</td>\n",
       "      <td>46.320000</td>\n",
       "      <td>15507597.0</td>\n",
       "    </tr>\n",
       "    <tr>\n",
       "      <th>96</th>\n",
       "      <td>2014-03-28</td>\n",
       "      <td>46.650002</td>\n",
       "      <td>47.340000</td>\n",
       "      <td>45.700001</td>\n",
       "      <td>47.299999</td>\n",
       "      <td>47.299999</td>\n",
       "      <td>9610491.0</td>\n",
       "    </tr>\n",
       "    <tr>\n",
       "      <th>97</th>\n",
       "      <td>2014-03-31</td>\n",
       "      <td>47.549999</td>\n",
       "      <td>47.750000</td>\n",
       "      <td>46.430000</td>\n",
       "      <td>46.669998</td>\n",
       "      <td>46.669998</td>\n",
       "      <td>5794497.0</td>\n",
       "    </tr>\n",
       "    <tr>\n",
       "      <th>98</th>\n",
       "      <td>2014-04-01</td>\n",
       "      <td>46.709999</td>\n",
       "      <td>47.590000</td>\n",
       "      <td>46.180000</td>\n",
       "      <td>46.980000</td>\n",
       "      <td>46.980000</td>\n",
       "      <td>6916147.0</td>\n",
       "    </tr>\n",
       "    <tr>\n",
       "      <th>99</th>\n",
       "      <td>2014-04-02</td>\n",
       "      <td>47.400002</td>\n",
       "      <td>47.439999</td>\n",
       "      <td>45.509998</td>\n",
       "      <td>45.730000</td>\n",
       "      <td>45.730000</td>\n",
       "      <td>7911260.0</td>\n",
       "    </tr>\n",
       "  </tbody>\n",
       "</table>\n",
       "<p>100 rows × 7 columns</p>\n",
       "</div>"
      ],
      "text/plain": [
       "         Date       Open       High        Low      Close  Adj Close  \\\n",
       "0  2013-11-07  45.099998  50.090000  44.000000  44.900002  44.900002   \n",
       "1  2013-11-08  45.930000  46.939999  40.685001  41.650002  41.650002   \n",
       "2  2013-11-11  40.500000  43.000000  39.400002  42.900002  42.900002   \n",
       "3  2013-11-12  43.660000  43.779999  41.830002  41.900002  41.900002   \n",
       "4  2013-11-13  41.029999  42.869999  40.759998  42.599998  42.599998   \n",
       "..        ...        ...        ...        ...        ...        ...   \n",
       "95 2014-03-27  45.090000  46.400002  43.310001  46.320000  46.320000   \n",
       "96 2014-03-28  46.650002  47.340000  45.700001  47.299999  47.299999   \n",
       "97 2014-03-31  47.549999  47.750000  46.430000  46.669998  46.669998   \n",
       "98 2014-04-01  46.709999  47.590000  46.180000  46.980000  46.980000   \n",
       "99 2014-04-02  47.400002  47.439999  45.509998  45.730000  45.730000   \n",
       "\n",
       "         Volume  \n",
       "0   117701670.0  \n",
       "1    27925307.0  \n",
       "2    16113941.0  \n",
       "3     6316755.0  \n",
       "4     8688325.0  \n",
       "..          ...  \n",
       "95   15507597.0  \n",
       "96    9610491.0  \n",
       "97    5794497.0  \n",
       "98    6916147.0  \n",
       "99    7911260.0  \n",
       "\n",
       "[100 rows x 7 columns]"
      ]
     },
     "execution_count": 415,
     "metadata": {},
     "output_type": "execute_result"
    }
   ],
   "source": [
    "#Read the data and display the first 100 rows from the data\n",
    "df.head(100)"
   ]
  },
  {
   "cell_type": "code",
   "execution_count": 416,
   "id": "d17173cc-2754-4ef4-b0c5-a8c8096443ae",
   "metadata": {},
   "outputs": [
    {
     "name": "stdout",
     "output_type": "stream",
     "text": [
      "<class 'pandas.core.frame.DataFrame'>\n",
      "RangeIndex: 2264 entries, 0 to 2263\n",
      "Data columns (total 7 columns):\n",
      " #   Column     Non-Null Count  Dtype         \n",
      "---  ------     --------------  -----         \n",
      " 0   Date       2264 non-null   datetime64[ns]\n",
      " 1   Open       2259 non-null   float64       \n",
      " 2   High       2259 non-null   float64       \n",
      " 3   Low        2259 non-null   float64       \n",
      " 4   Close      2259 non-null   float64       \n",
      " 5   Adj Close  2259 non-null   float64       \n",
      " 6   Volume     2259 non-null   float64       \n",
      "dtypes: datetime64[ns](1), float64(6)\n",
      "memory usage: 123.9 KB\n"
     ]
    }
   ],
   "source": [
    "df.info()"
   ]
  },
  {
   "cell_type": "code",
   "execution_count": 417,
   "id": "439b063e-6db2-4ac7-bd83-795a421aa6b9",
   "metadata": {},
   "outputs": [
    {
     "data": {
      "text/plain": [
       "(2264, 7)"
      ]
     },
     "execution_count": 417,
     "metadata": {},
     "output_type": "execute_result"
    }
   ],
   "source": [
    "#it will gives the total rows and columns\n",
    "df.shape"
   ]
  },
  {
   "cell_type": "code",
   "execution_count": 418,
   "id": "99202f4b-db49-4a12-a9e2-2aef096405c3",
   "metadata": {},
   "outputs": [
    {
     "data": {
      "text/plain": [
       "'\\n1. Total we have 7 columns.\\n2. only only fe values are missing\\n3. All data are in decimal or numerical\\n4. Columns are describing the stock price values'"
      ]
     },
     "execution_count": 418,
     "metadata": {},
     "output_type": "execute_result"
    }
   ],
   "source": [
    "#Give the column insights\n",
    "'''\n",
    "1. Total we have 7 columns.\n",
    "2. only only few values are missing\n",
    "3. All data are in decimal or numerical\n",
    "4. Columns are describing the stock price values'''"
   ]
  },
  {
   "cell_type": "code",
   "execution_count": 419,
   "id": "7acdd875-b037-4cb0-8aef-198ee7017840",
   "metadata": {},
   "outputs": [
    {
     "data": {
      "text/plain": [
       "Date         0\n",
       "Open         5\n",
       "High         5\n",
       "Low          5\n",
       "Close        5\n",
       "Adj Close    5\n",
       "Volume       5\n",
       "dtype: int64"
      ]
     },
     "execution_count": 419,
     "metadata": {},
     "output_type": "execute_result"
    }
   ],
   "source": [
    "#Check whether this dataset contains any null values or not if it is there then remove the null values from it\n",
    "#yes we have onlye few numm values\n",
    "\n",
    "df.isnull().sum()"
   ]
  },
  {
   "cell_type": "code",
   "execution_count": 420,
   "id": "efa246bc-3888-4c09-ae0c-80ea883cb4a2",
   "metadata": {},
   "outputs": [
    {
     "data": {
      "text/plain": [
       "Date         0\n",
       "Open         0\n",
       "High         0\n",
       "Low          0\n",
       "Close        0\n",
       "Adj Close    0\n",
       "Volume       0\n",
       "dtype: int64"
      ]
     },
     "execution_count": 420,
     "metadata": {},
     "output_type": "execute_result"
    }
   ],
   "source": [
    "#remove the null values \n",
    "\n",
    "df= df.copy().dropna()\n",
    "df.isnull().sum()"
   ]
  },
  {
   "cell_type": "code",
   "execution_count": 421,
   "id": "f93247ab-f65f-4efa-a4d8-dab2f1a11173",
   "metadata": {},
   "outputs": [
    {
     "data": {
      "text/html": [
       "<div>\n",
       "<style scoped>\n",
       "    .dataframe tbody tr th:only-of-type {\n",
       "        vertical-align: middle;\n",
       "    }\n",
       "\n",
       "    .dataframe tbody tr th {\n",
       "        vertical-align: top;\n",
       "    }\n",
       "\n",
       "    .dataframe thead th {\n",
       "        text-align: right;\n",
       "    }\n",
       "</style>\n",
       "<table border=\"1\" class=\"dataframe\">\n",
       "  <thead>\n",
       "    <tr style=\"text-align: right;\">\n",
       "      <th></th>\n",
       "      <th>Date</th>\n",
       "      <th>Open</th>\n",
       "      <th>High</th>\n",
       "      <th>Low</th>\n",
       "      <th>Close</th>\n",
       "      <th>Adj Close</th>\n",
       "      <th>Volume</th>\n",
       "    </tr>\n",
       "  </thead>\n",
       "  <tbody>\n",
       "    <tr>\n",
       "      <th>count</th>\n",
       "      <td>2259</td>\n",
       "      <td>2259.000000</td>\n",
       "      <td>2259.000000</td>\n",
       "      <td>2259.000000</td>\n",
       "      <td>2259.000000</td>\n",
       "      <td>2259.000000</td>\n",
       "      <td>2.259000e+03</td>\n",
       "    </tr>\n",
       "    <tr>\n",
       "      <th>mean</th>\n",
       "      <td>2018-05-04 20:18:48.286852608</td>\n",
       "      <td>36.020286</td>\n",
       "      <td>36.699881</td>\n",
       "      <td>35.339465</td>\n",
       "      <td>36.003625</td>\n",
       "      <td>36.003625</td>\n",
       "      <td>2.175186e+07</td>\n",
       "    </tr>\n",
       "    <tr>\n",
       "      <th>min</th>\n",
       "      <td>2013-11-07 00:00:00</td>\n",
       "      <td>13.950000</td>\n",
       "      <td>14.220000</td>\n",
       "      <td>13.725000</td>\n",
       "      <td>14.010000</td>\n",
       "      <td>14.010000</td>\n",
       "      <td>0.000000e+00</td>\n",
       "    </tr>\n",
       "    <tr>\n",
       "      <th>25%</th>\n",
       "      <td>2016-02-06 12:00:00</td>\n",
       "      <td>25.550000</td>\n",
       "      <td>26.215001</td>\n",
       "      <td>24.912501</td>\n",
       "      <td>25.410000</td>\n",
       "      <td>25.410000</td>\n",
       "      <td>1.233530e+07</td>\n",
       "    </tr>\n",
       "    <tr>\n",
       "      <th>50%</th>\n",
       "      <td>2018-05-04 00:00:00</td>\n",
       "      <td>35.419998</td>\n",
       "      <td>36.099998</td>\n",
       "      <td>34.820000</td>\n",
       "      <td>35.490002</td>\n",
       "      <td>35.490002</td>\n",
       "      <td>1.691305e+07</td>\n",
       "    </tr>\n",
       "    <tr>\n",
       "      <th>75%</th>\n",
       "      <td>2020-08-01 12:00:00</td>\n",
       "      <td>44.205000</td>\n",
       "      <td>45.015000</td>\n",
       "      <td>43.327501</td>\n",
       "      <td>44.135000</td>\n",
       "      <td>44.135000</td>\n",
       "      <td>2.428082e+07</td>\n",
       "    </tr>\n",
       "    <tr>\n",
       "      <th>max</th>\n",
       "      <td>2022-10-27 00:00:00</td>\n",
       "      <td>78.360001</td>\n",
       "      <td>80.750000</td>\n",
       "      <td>76.050003</td>\n",
       "      <td>77.629997</td>\n",
       "      <td>77.629997</td>\n",
       "      <td>2.692131e+08</td>\n",
       "    </tr>\n",
       "    <tr>\n",
       "      <th>std</th>\n",
       "      <td>NaN</td>\n",
       "      <td>14.118463</td>\n",
       "      <td>14.372057</td>\n",
       "      <td>13.828724</td>\n",
       "      <td>14.089989</td>\n",
       "      <td>14.089989</td>\n",
       "      <td>1.909988e+07</td>\n",
       "    </tr>\n",
       "  </tbody>\n",
       "</table>\n",
       "</div>"
      ],
      "text/plain": [
       "                                Date         Open         High          Low  \\\n",
       "count                           2259  2259.000000  2259.000000  2259.000000   \n",
       "mean   2018-05-04 20:18:48.286852608    36.020286    36.699881    35.339465   \n",
       "min              2013-11-07 00:00:00    13.950000    14.220000    13.725000   \n",
       "25%              2016-02-06 12:00:00    25.550000    26.215001    24.912501   \n",
       "50%              2018-05-04 00:00:00    35.419998    36.099998    34.820000   \n",
       "75%              2020-08-01 12:00:00    44.205000    45.015000    43.327501   \n",
       "max              2022-10-27 00:00:00    78.360001    80.750000    76.050003   \n",
       "std                              NaN    14.118463    14.372057    13.828724   \n",
       "\n",
       "             Close    Adj Close        Volume  \n",
       "count  2259.000000  2259.000000  2.259000e+03  \n",
       "mean     36.003625    36.003625  2.175186e+07  \n",
       "min      14.010000    14.010000  0.000000e+00  \n",
       "25%      25.410000    25.410000  1.233530e+07  \n",
       "50%      35.490002    35.490002  1.691305e+07  \n",
       "75%      44.135000    44.135000  2.428082e+07  \n",
       "max      77.629997    77.629997  2.692131e+08  \n",
       "std      14.089989    14.089989  1.909988e+07  "
      ]
     },
     "execution_count": 421,
     "metadata": {},
     "output_type": "execute_result"
    }
   ],
   "source": [
    "#4) Find the statistical description of the data.\n",
    "df.describe()"
   ]
  },
  {
   "cell_type": "code",
   "execution_count": 422,
   "id": "50708e49-9db9-4469-8993-8cec04dfb072",
   "metadata": {},
   "outputs": [
    {
     "name": "stdout",
     "output_type": "stream",
     "text": [
      "<class 'pandas.core.frame.DataFrame'>\n",
      "Index: 2259 entries, 0 to 2258\n",
      "Data columns (total 7 columns):\n",
      " #   Column     Non-Null Count  Dtype         \n",
      "---  ------     --------------  -----         \n",
      " 0   Date       2259 non-null   datetime64[ns]\n",
      " 1   Open       2259 non-null   float64       \n",
      " 2   High       2259 non-null   float64       \n",
      " 3   Low        2259 non-null   float64       \n",
      " 4   Close      2259 non-null   float64       \n",
      " 5   Adj Close  2259 non-null   float64       \n",
      " 6   Volume     2259 non-null   float64       \n",
      "dtypes: datetime64[ns](1), float64(6)\n",
      "memory usage: 141.2 KB\n"
     ]
    }
   ],
   "source": [
    "#Find the missing values in the data\n",
    "#all the missing value handled:(removed the missing values)\n",
    "df.info()"
   ]
  },
  {
   "cell_type": "code",
   "execution_count": 423,
   "id": "0f993e6b-692b-430c-b775-628e52efb2e6",
   "metadata": {},
   "outputs": [
    {
     "data": {
      "text/html": [
       "<div>\n",
       "<style scoped>\n",
       "    .dataframe tbody tr th:only-of-type {\n",
       "        vertical-align: middle;\n",
       "    }\n",
       "\n",
       "    .dataframe tbody tr th {\n",
       "        vertical-align: top;\n",
       "    }\n",
       "\n",
       "    .dataframe thead th {\n",
       "        text-align: right;\n",
       "    }\n",
       "</style>\n",
       "<table border=\"1\" class=\"dataframe\">\n",
       "  <thead>\n",
       "    <tr style=\"text-align: right;\">\n",
       "      <th></th>\n",
       "      <th>Date</th>\n",
       "      <th>Open</th>\n",
       "      <th>High</th>\n",
       "      <th>Low</th>\n",
       "      <th>Close</th>\n",
       "      <th>Adj Close</th>\n",
       "      <th>Volume</th>\n",
       "    </tr>\n",
       "  </thead>\n",
       "  <tbody>\n",
       "    <tr>\n",
       "      <th>0</th>\n",
       "      <td>2013-11-07</td>\n",
       "      <td>45.099998</td>\n",
       "      <td>50.090000</td>\n",
       "      <td>44.000000</td>\n",
       "      <td>44.900002</td>\n",
       "      <td>44.900002</td>\n",
       "      <td>117701670.0</td>\n",
       "    </tr>\n",
       "    <tr>\n",
       "      <th>1</th>\n",
       "      <td>2013-11-08</td>\n",
       "      <td>45.930000</td>\n",
       "      <td>46.939999</td>\n",
       "      <td>40.685001</td>\n",
       "      <td>41.650002</td>\n",
       "      <td>41.650002</td>\n",
       "      <td>27925307.0</td>\n",
       "    </tr>\n",
       "    <tr>\n",
       "      <th>2</th>\n",
       "      <td>2013-11-11</td>\n",
       "      <td>40.500000</td>\n",
       "      <td>43.000000</td>\n",
       "      <td>39.400002</td>\n",
       "      <td>42.900002</td>\n",
       "      <td>42.900002</td>\n",
       "      <td>16113941.0</td>\n",
       "    </tr>\n",
       "    <tr>\n",
       "      <th>3</th>\n",
       "      <td>2013-11-12</td>\n",
       "      <td>43.660000</td>\n",
       "      <td>43.779999</td>\n",
       "      <td>41.830002</td>\n",
       "      <td>41.900002</td>\n",
       "      <td>41.900002</td>\n",
       "      <td>6316755.0</td>\n",
       "    </tr>\n",
       "    <tr>\n",
       "      <th>4</th>\n",
       "      <td>2013-11-13</td>\n",
       "      <td>41.029999</td>\n",
       "      <td>42.869999</td>\n",
       "      <td>40.759998</td>\n",
       "      <td>42.599998</td>\n",
       "      <td>42.599998</td>\n",
       "      <td>8688325.0</td>\n",
       "    </tr>\n",
       "  </tbody>\n",
       "</table>\n",
       "</div>"
      ],
      "text/plain": [
       "        Date       Open       High        Low      Close  Adj Close  \\\n",
       "0 2013-11-07  45.099998  50.090000  44.000000  44.900002  44.900002   \n",
       "1 2013-11-08  45.930000  46.939999  40.685001  41.650002  41.650002   \n",
       "2 2013-11-11  40.500000  43.000000  39.400002  42.900002  42.900002   \n",
       "3 2013-11-12  43.660000  43.779999  41.830002  41.900002  41.900002   \n",
       "4 2013-11-13  41.029999  42.869999  40.759998  42.599998  42.599998   \n",
       "\n",
       "        Volume  \n",
       "0  117701670.0  \n",
       "1   27925307.0  \n",
       "2   16113941.0  \n",
       "3    6316755.0  \n",
       "4    8688325.0  "
      ]
     },
     "execution_count": 423,
     "metadata": {},
     "output_type": "execute_result"
    }
   ],
   "source": [
    "#df.columns\n",
    "df.head()"
   ]
  },
  {
   "cell_type": "code",
   "execution_count": 424,
   "id": "9db1d76c-00f5-4d5c-a20b-0ebe7428e23b",
   "metadata": {},
   "outputs": [
    {
     "data": {
      "image/png": "[encoded data removed]",
      "text/plain": [
       "<Figure size 1200x800 with 1 Axes>"
      ]
     },
     "metadata": {},
     "output_type": "display_data"
    }
   ],
   "source": [
    "#Show the Twitter stock prices over the years and give a conclusion.\n",
    "df['Date'] = pd.to_datetime(df['Date'])\n",
    "df.set_index('Date', inplace=True)\n",
    "\n",
    "plt.figure(figsize=(12,8))\n",
    "plt.plot(df.index, df['Open'], label=\"Opening Price\",color=\"blue\", linewidth=3)\n",
    "plt.plot(df.index, df['Close'], label=\"Closing Price\", color= \"red\",linewidth=1)\n",
    "\n",
    "## Labels and Title\n",
    "plt.xlabel('Years')\n",
    "plt.ylabel('Stock Price')\n",
    "plt.title(\"Twitter Stock Prices over the years\")\n",
    "\n",
    "# Grid and Legend\n",
    "plt.legend()\n",
    "plt.grid(True)\n",
    "# Show the plot\n",
    "plt.show()\n"
   ]
  },
  {
   "cell_type": "code",
   "execution_count": 425,
   "id": "275d1252-8025-420d-8820-3fa671f899e6",
   "metadata": {},
   "outputs": [
    {
     "data": {
      "text/plain": [
       "\"\\nConclusion:\\nInitial Surge & Volatility (2013-2014): Twitter's stock price initially surged after its IPO but faced significant volatility.\\n\\nStagnation & Decline (2015-2017): The stock price declined as Twitter struggled with growth and monetization concerns.\\n\\nRecovery & Growth (2018-2021): There was a gradual recovery, especially as Twitter improved its business model and ad revenue.\\n\\nBuyout & Delisting (2022): The stock saw a final surge before Elon Musk acquired Twitter for $44 billion in October 2022,\\nleading to its delisting.\\n\""
      ]
     },
     "execution_count": 425,
     "metadata": {},
     "output_type": "execute_result"
    }
   ],
   "source": [
    "'''\n",
    "Conclusion:\n",
    "Initial Surge & Volatility (2013-2014): Twitter's stock price initially surged after its IPO but faced significant volatility.\n",
    "\n",
    "Stagnation & Decline (2015-2017): The stock price declined as Twitter struggled with growth and monetization concerns.\n",
    "\n",
    "Recovery & Growth (2018-2021): There was a gradual recovery, especially as Twitter improved its business model and ad revenue.\n",
    "\n",
    "Buyout & Delisting (2022): The stock saw a final surge before Elon Musk acquired Twitter for $44 billion in October 2022,\n",
    "leading to its delisting.\n",
    "'''"
   ]
  },
  {
   "cell_type": "code",
   "execution_count": 426,
   "id": "500436c8-e545-4f21-974e-8167603abeec",
   "metadata": {},
   "outputs": [],
   "source": [
    "df.reset_index(inplace=True)\n"
   ]
  },
  {
   "cell_type": "code",
   "execution_count": 427,
   "id": "9ef10e58-9e2f-46fd-bd1b-dbf17c1ec5ca",
   "metadata": {},
   "outputs": [
    {
     "data": {
      "text/plain": [
       "Index(['Date', 'Open', 'High', 'Low', 'Close', 'Adj Close', 'Volume'], dtype='object')"
      ]
     },
     "execution_count": 427,
     "metadata": {},
     "output_type": "execute_result"
    }
   ],
   "source": [
    "df.columns"
   ]
  },
  {
   "cell_type": "code",
   "execution_count": 428,
   "id": "8eb166e3-4ff4-4e25-8d5b-48853074b057",
   "metadata": {},
   "outputs": [
    {
     "data": {
      "image/png": "[encoded data removed]",
      "text/plain": [
       "<Figure size 1000x600 with 1 Axes>"
      ]
     },
     "metadata": {},
     "output_type": "display_data"
    }
   ],
   "source": [
    "#2) Now compare the close vs date column for Twitter prices over the years.\n",
    "df['date']= pd.to_datetime(df['Date'])\n",
    "df.set_index('Date',inplace=True)\n",
    "\n",
    "plt.figure(figsize=(10,6))\n",
    "plt.plot(df.index,df['Close'],label=\"Closing Price\")\n",
    "plt.xlabel(\"Years\")\n",
    "plt.ylabel(\"Price\")\n",
    "plt.title(\"Close vs Date column for Twitter Prices over the Years\")\n",
    "plt.grid(True)\n",
    "plt.legend()\n",
    "plt.show()"
   ]
  },
  {
   "cell_type": "code",
   "execution_count": 429,
   "id": "f4f34c68-9db2-4a65-8a9a-ae726fdf6e97",
   "metadata": {},
   "outputs": [
    {
     "data": {
      "text/plain": [
       "Index(['Open', 'High', 'Low', 'Close', 'Adj Close', 'Volume', 'date'], dtype='object')"
      ]
     },
     "execution_count": 429,
     "metadata": {},
     "output_type": "execute_result"
    }
   ],
   "source": [
    "df.columns"
   ]
  },
  {
   "cell_type": "code",
   "execution_count": 430,
   "id": "6a5c2c68-d55b-40c8-99a4-19d5f901e6a4",
   "metadata": {},
   "outputs": [
    {
     "data": {
      "image/png": "[encoded data removed]",
      "text/plain": [
       "<Figure size 1200x600 with 4 Axes>"
      ]
     },
     "metadata": {},
     "output_type": "display_data"
    }
   ],
   "source": [
    "# Assign buttons to control time periods. Add the buttons to analyze the stock prices of Twitter in different time periods:\n",
    "\n",
    "# Convert 'Date' to datetime and set as index\n",
    "\n",
    "df['date']= pd.to_datetime(df['date'])\n",
    "df.set_index('date', inplace=True)\n",
    "\n",
    "#Create the figure and axis\n",
    "fig, ax= plt.subplots(figsize=(12,6)) #use ax to control everything inside the plot: title, labels, grid, etc.\n",
    "plt.subplots_adjust(bottom=0.2)\n",
    "\n",
    "#Function to update plot based on time period\n",
    "def update_plot(period):\n",
    "    ax.clear()  # Clear the previous plot\n",
    "    if period == \"1Y\":\n",
    "        filtered_df= df[df.index >= df.index.max() - pd.DateOffset(years=1)]\n",
    "    elif period == \"5Y\":\n",
    "        filtered_df = df[df.index >= df.index.max() - pd.DateOffset(years=5)]\n",
    "    else:\n",
    "        filtered_df = df\n",
    "    #Plot \n",
    "    ax.plot(filtered_df.index, filtered_df[\"Close\"], label=\"Closing Price\", color=\"blue\", linewidth=1)\n",
    "    ax.set_xlabel(\"Year\")\n",
    "    ax.set_ylabel(\"Stock Price\")\n",
    "    ax.set_title(f\"Twitter stock closing prices: {period}\")\n",
    "    ax.legend()\n",
    "    ax.grid(True)\n",
    "    plt.draw()\n",
    "\n",
    "    \n",
    "\n",
    "# Show initial plot\n",
    "update_plot(\"All\")\n",
    "\n",
    "#Define button positions\n",
    "ax_1Y = plt.axes([0.1, 0.05, 0.15, 0.075])\n",
    "ax_5Y = plt.axes([0.3, 0.05, 0.15, 0.075])\n",
    "ax_All = plt.axes([0.5, 0.05, 0.15, 0.075])\n",
    "\n",
    "#Create buttons\n",
    "btn_1Y = Button(ax_1Y, \"1 Year\")\n",
    "btn_5y = Button(ax_5Y, \"5 Year\")\n",
    "btn_All = Button(ax_All, \"All Time\")\n",
    "\n",
    "# Connect button click to function\n",
    "btn_1Y.on_clicked(lambda event : update_plot(\"1Y\"))\n",
    "btn_5y.on_clicked(lambda event : update_plot(\"5Y\"))\n",
    "btn_All.on_clicked(lambda event : update_plot(\"All\"))\n",
    "\n",
    "\n",
    "#Show the plot\n",
    "plt.show()\n"
   ]
  },
  {
   "cell_type": "code",
   "execution_count": 431,
   "id": "3727aa7d-9b51-4d64-9aea-a7f428a0c268",
   "metadata": {},
   "outputs": [
    {
     "data": {
      "image/png": "[encoded data removed]",
      "text/plain": [
       "<Figure size 1000x600 with 1 Axes>"
      ]
     },
     "metadata": {},
     "output_type": "display_data"
    }
   ],
   "source": [
    "# Give the complete timeline of Twitter in the stock market. (Line Graph)\n",
    "\n",
    "#Run this command : print(df.index)\n",
    "#if the result will be DatetimeIndex(['2013-11-07', '2013-11-08', '2013-11-11', '2013-11-12',\n",
    " #              '2013-11-13', '2013-11-14', '2013-11-15', '2013-11-18',\n",
    " #              '2013-11-19', '2013-11-20',: That tells us whether the date is already the index or it was dropped.\n",
    "#so no need below commands\n",
    "#df['date']= pd.to_datetime(df['date'])\n",
    "#df.set_index('date',inplace= True)\n",
    "\n",
    "plt.figure(figsize=(10,6))\n",
    "plt.plot(df.index, df['Close'],label=\"Closing Price\", linewidth=3)\n",
    "plt.plot(df.index, df['Open'], label=\"Opening Price\", color= \"red\", linewidth=2)\n",
    "\n",
    "plt.xlabel(\"Years\")\n",
    "plt.ylabel(\"Price\")\n",
    "plt.title(\"Twitter stock price in the stock market over the period\")\n",
    "plt.grid(True)\n",
    "plt.legend()\n",
    "plt.show()"
   ]
  },
  {
   "cell_type": "code",
   "execution_count": 432,
   "id": "f60d5533-d893-4408-a526-20e50f1a77d9",
   "metadata": {},
   "outputs": [
    {
     "name": "stdout",
     "output_type": "stream",
     "text": [
      "Index(['Open', 'High', 'Low', 'Close', 'Adj Close', 'Volume'], dtype='object')\n"
     ]
    }
   ],
   "source": [
    "print(df.columns)"
   ]
  },
  {
   "cell_type": "code",
   "execution_count": 433,
   "id": "ba3e65fb-fe70-499d-a361-34526f972dd9",
   "metadata": {},
   "outputs": [
    {
     "name": "stdout",
     "output_type": "stream",
     "text": [
      "DatetimeIndex(['2013-11-07', '2013-11-08', '2013-11-11', '2013-11-12',\n",
      "               '2013-11-13', '2013-11-14', '2013-11-15', '2013-11-18',\n",
      "               '2013-11-19', '2013-11-20',\n",
      "               ...\n",
      "               '2022-10-14', '2022-10-17', '2022-10-18', '2022-10-19',\n",
      "               '2022-10-20', '2022-10-21', '2022-10-24', '2022-10-25',\n",
      "               '2022-10-26', '2022-10-27'],\n",
      "              dtype='datetime64[ns]', name='date', length=2259, freq=None)\n"
     ]
    }
   ],
   "source": [
    "print(df.index)"
   ]
  },
  {
   "cell_type": "code",
   "execution_count": 434,
   "id": "b0d050fa-53c4-4001-b43c-af0c63d0c532",
   "metadata": {},
   "outputs": [
    {
     "name": "stdout",
     "output_type": "stream",
     "text": [
      "Insights:\n",
      "1. Twitter went public in 2013, attracting strong early investor interest\n",
      "2. Stock prices fluctuated due to product changes, leadership shifts, and acquisition rumors.\n",
      "3. Major price drops occurred during user growth slowdowns and revenue challenges.\n",
      "4. Twitter was eventually delisted after the acquisition, ending its public trading journey.\n"
     ]
    }
   ],
   "source": [
    "#Give the insights for the above analysis and make a word cloud for that analysis.\n",
    "\n",
    "print(\"Insights:\")\n",
    "print(\"1. Twitter went public in 2013, attracting strong early investor interest\")\n",
    "print(\"2. Stock prices fluctuated due to product changes, leadership shifts, and acquisition rumors.\")\n",
    "print(\"3. Major price drops occurred during user growth slowdowns and revenue challenges.\")\n",
    "print(\"4. Twitter was eventually delisted after the acquisition, ending its public trading journey.\")"
   ]
  },
  {
   "cell_type": "code",
   "execution_count": 435,
   "id": "d6b54841-bd48-4348-b044-913b350d8ba4",
   "metadata": {},
   "outputs": [],
   "source": [
    "import plotly.graph_objs as go\n",
    "from plotly.subplots import make_subplots"
   ]
  },
  {
   "cell_type": "code",
   "execution_count": 436,
   "id": "181d8f4e-1450-4ee0-952e-c65dbfba32d0",
   "metadata": {},
   "outputs": [
    {
     "name": "stderr",
     "output_type": "stream",
     "text": [
      "C:\\Users\\Lokesh\\AppData\\Local\\Temp\\ipykernel_22180\\3147576290.py:47: FutureWarning:\n",
      "\n",
      "'Q' is deprecated and will be removed in a future version, please use 'QE' instead.\n",
      "\n"
     ]
    },
    {
     "data": {
      "application/vnd.plotly.v1+json": {
       "config": {
        "plotlyServerURL": "https://plot.ly"
       },
       "data": [
        {
         "cells": {
          "align": "left",
          "fill": {
           "color": "lavender"
          },
          "values": [
           [
            "2013",
            "2014-2020",
            "2021",
            "2022",
            "Post-2022"
           ],
           [
            "Twitter IPO - Public listing",
            "Volatility due to user growth and leadership changes",
            "Speculation and product changes",
            "Elon Musk acquisition announcement",
            "Twitter delisted after acquisition"
           ],
           [
            "Stock surged after IPO",
            "Fluctuating stock prices",
            "Minor recovery and hype",
            "Stock price spiked significantly",
            "Stock no longer publicly traded"
           ]
          ]
         },
         "domain": {
          "x": [
           0,
           1
          ],
          "y": [
           0.625,
           1
          ]
         },
         "header": {
          "align": "left",
          "fill": {
           "color": "lightblue"
          },
          "values": [
           "Year",
           "Event",
           "Impact"
          ]
         },
         "type": "table"
        },
        {
         "line": {
          "color": "blue"
         },
         "mode": "lines+markers",
         "name": "Closing Price",
         "type": "scatter",
         "x": [
          "2013-03-31T00:00:00",
          "2013-06-30T00:00:00",
          "2013-09-30T00:00:00",
          "2013-12-31T00:00:00",
          "2014-03-31T00:00:00",
          "2014-06-30T00:00:00",
          "2014-09-30T00:00:00",
          "2014-12-31T00:00:00",
          "2015-03-31T00:00:00",
          "2015-06-30T00:00:00",
          "2015-09-30T00:00:00",
          "2015-12-31T00:00:00",
          "2016-03-31T00:00:00",
          "2016-06-30T00:00:00",
          "2016-09-30T00:00:00",
          "2016-12-31T00:00:00",
          "2017-03-31T00:00:00",
          "2017-06-30T00:00:00",
          "2017-09-30T00:00:00",
          "2017-12-31T00:00:00",
          "2018-03-31T00:00:00",
          "2018-06-30T00:00:00",
          "2018-09-30T00:00:00",
          "2018-12-31T00:00:00",
          "2019-03-31T00:00:00",
          "2019-06-30T00:00:00",
          "2019-09-30T00:00:00",
          "2019-12-31T00:00:00",
          "2020-03-31T00:00:00",
          "2020-06-30T00:00:00",
          "2020-09-30T00:00:00",
          "2020-12-31T00:00:00",
          "2021-03-31T00:00:00",
          "2021-06-30T00:00:00",
          "2021-09-30T00:00:00",
          "2021-12-31T00:00:00",
          "2022-03-31T00:00:00",
          "2022-06-30T00:00:00",
          "2022-09-30T00:00:00",
          "2022-12-31T00:00:00",
          "2023-03-31T00:00:00",
          "2023-06-30T00:00:00",
          "2023-09-30T00:00:00",
          "2023-12-31T00:00:00",
          "2024-03-31T00:00:00",
          "2024-06-30T00:00:00",
          "2024-09-30T00:00:00",
          "2024-12-31T00:00:00",
          "2025-03-31T00:00:00",
          "2025-06-30T00:00:00",
          "2025-09-30T00:00:00",
          "2025-12-31T00:00:00",
          "2026-03-31T00:00:00",
          "2026-06-30T00:00:00",
          "2026-09-30T00:00:00",
          "2026-12-31T00:00:00",
          "2027-03-31T00:00:00",
          "2027-06-30T00:00:00",
          "2027-09-30T00:00:00",
          "2027-12-31T00:00:00",
          "2028-03-31T00:00:00",
          "2028-06-30T00:00:00",
          "2028-09-30T00:00:00",
          "2028-12-31T00:00:00",
          "2029-03-31T00:00:00",
          "2029-06-30T00:00:00",
          "2029-09-30T00:00:00",
          "2029-12-31T00:00:00",
          "2030-03-31T00:00:00",
          "2030-06-30T00:00:00",
          "2030-09-30T00:00:00",
          "2030-12-31T00:00:00",
          "2031-03-31T00:00:00",
          "2031-06-30T00:00:00",
          "2031-09-30T00:00:00",
          "2031-12-31T00:00:00",
          "2032-03-31T00:00:00",
          "2032-06-30T00:00:00",
          "2032-09-30T00:00:00",
          "2032-12-31T00:00:00",
          "2033-03-31T00:00:00",
          "2033-06-30T00:00:00",
          "2033-09-30T00:00:00",
          "2033-12-31T00:00:00",
          "2034-03-31T00:00:00",
          "2034-06-30T00:00:00",
          "2034-09-30T00:00:00",
          "2034-12-31T00:00:00",
          "2035-03-31T00:00:00",
          "2035-06-30T00:00:00",
          "2035-09-30T00:00:00",
          "2035-12-31T00:00:00",
          "2036-03-31T00:00:00",
          "2036-06-30T00:00:00",
          "2036-09-30T00:00:00",
          "2036-12-31T00:00:00",
          "2037-03-31T00:00:00",
          "2037-06-30T00:00:00",
          "2037-09-30T00:00:00",
          "2037-12-31T00:00:00"
         ],
         "xaxis": "x",
         "y": [
          30,
          32.5,
          35,
          37.5,
          40,
          42.5,
          45,
          47.5,
          50,
          52.5,
          35,
          37.5,
          40,
          42.5,
          45,
          47.5,
          50,
          52.5,
          55,
          57.5,
          40,
          42.5,
          45,
          47.5,
          50,
          52.5,
          55,
          57.5,
          60,
          62.5,
          45,
          47.5,
          50,
          52.5,
          55,
          57.5,
          60,
          62.5,
          65,
          67.5,
          50,
          52.5,
          55,
          57.5,
          60,
          62.5,
          65,
          67.5,
          70,
          72.5,
          55,
          57.5,
          60,
          62.5,
          65,
          67.5,
          70,
          72.5,
          75,
          77.5,
          60,
          62.5,
          65,
          67.5,
          70,
          72.5,
          75,
          77.5,
          80,
          82.5,
          65,
          67.5,
          70,
          72.5,
          75,
          77.5,
          80,
          82.5,
          85,
          87.5,
          70,
          72.5,
          75,
          77.5,
          80,
          82.5,
          85,
          87.5,
          90,
          92.5,
          75,
          77.5,
          80,
          82.5,
          85,
          87.5,
          90,
          92.5,
          95,
          97.5
         ],
         "yaxis": "y"
        }
       ],
       "layout": {
        "annotations": [
         {
          "font": {
           "size": 16
          },
          "showarrow": false,
          "text": "Key Events Timeline",
          "x": 0.5,
          "xanchor": "center",
          "xref": "paper",
          "y": 1,
          "yanchor": "bottom",
          "yref": "paper"
         },
         {
          "font": {
           "size": 16
          },
          "showarrow": false,
          "text": "Sample Stock Price Trend",
          "x": 0.5,
          "xanchor": "center",
          "xref": "paper",
          "y": 0.375,
          "yanchor": "bottom",
          "yref": "paper"
         }
        ],
        "height": 700,
        "template": {
         "data": {
          "bar": [
           {
            "error_x": {
             "color": "#2a3f5f"
            },
            "error_y": {
             "color": "#2a3f5f"
            },
            "marker": {
             "line": {
              "color": "#E5ECF6",
              "width": 0.5
             },
             "pattern": {
              "fillmode": "overlay",
              "size": 10,
              "solidity": 0.2
             }
            },
            "type": "bar"
           }
          ],
          "barpolar": [
           {
            "marker": {
             "line": {
              "color": "#E5ECF6",
              "width": 0.5
             },
             "pattern": {
              "fillmode": "overlay",
              "size": 10,
              "solidity": 0.2
             }
            },
            "type": "barpolar"
           }
          ],
          "carpet": [
           {
            "aaxis": {
             "endlinecolor": "#2a3f5f",
             "gridcolor": "white",
             "linecolor": "white",
             "minorgridcolor": "white",
             "startlinecolor": "#2a3f5f"
            },
            "baxis": {
             "endlinecolor": "#2a3f5f",
             "gridcolor": "white",
             "linecolor": "white",
             "minorgridcolor": "white",
             "startlinecolor": "#2a3f5f"
            },
            "type": "carpet"
           }
          ],
          "choropleth": [
           {
            "colorbar": {
             "outlinewidth": 0,
             "ticks": ""
            },
            "type": "choropleth"
           }
          ],
          "contour": [
           {
            "colorbar": {
             "outlinewidth": 0,
             "ticks": ""
            },
            "colorscale": [
             [
              0,
              "#0d0887"
             ],
             [
              0.1111111111111111,
              "#46039f"
             ],
             [
              0.2222222222222222,
              "#7201a8"
             ],
             [
              0.3333333333333333,
              "#9c179e"
             ],
             [
              0.4444444444444444,
              "#bd3786"
             ],
             [
              0.5555555555555556,
              "#d8576b"
             ],
             [
              0.6666666666666666,
              "#ed7953"
             ],
             [
              0.7777777777777778,
              "#fb9f3a"
             ],
             [
              0.8888888888888888,
              "#fdca26"
             ],
             [
              1,
              "#f0f921"
             ]
            ],
            "type": "contour"
           }
          ],
          "contourcarpet": [
           {
            "colorbar": {
             "outlinewidth": 0,
             "ticks": ""
            },
            "type": "contourcarpet"
           }
          ],
          "heatmap": [
           {
            "colorbar": {
             "outlinewidth": 0,
             "ticks": ""
            },
            "colorscale": [
             [
              0,
              "#0d0887"
             ],
             [
              0.1111111111111111,
              "#46039f"
             ],
             [
              0.2222222222222222,
              "#7201a8"
             ],
             [
              0.3333333333333333,
              "#9c179e"
             ],
             [
              0.4444444444444444,
              "#bd3786"
             ],
             [
              0.5555555555555556,
              "#d8576b"
             ],
             [
              0.6666666666666666,
              "#ed7953"
             ],
             [
              0.7777777777777778,
              "#fb9f3a"
             ],
             [
              0.8888888888888888,
              "#fdca26"
             ],
             [
              1,
              "#f0f921"
             ]
            ],
            "type": "heatmap"
           }
          ],
          "heatmapgl": [
           {
            "colorbar": {
             "outlinewidth": 0,
             "ticks": ""
            },
            "colorscale": [
             [
              0,
              "#0d0887"
             ],
             [
              0.1111111111111111,
              "#46039f"
             ],
             [
              0.2222222222222222,
              "#7201a8"
             ],
             [
              0.3333333333333333,
              "#9c179e"
             ],
             [
              0.4444444444444444,
              "#bd3786"
             ],
             [
              0.5555555555555556,
              "#d8576b"
             ],
             [
              0.6666666666666666,
              "#ed7953"
             ],
             [
              0.7777777777777778,
              "#fb9f3a"
             ],
             [
              0.8888888888888888,
              "#fdca26"
             ],
             [
              1,
              "#f0f921"
             ]
            ],
            "type": "heatmapgl"
           }
          ],
          "histogram": [
           {
            "marker": {
             "pattern": {
              "fillmode": "overlay",
              "size": 10,
              "solidity": 0.2
             }
            },
            "type": "histogram"
           }
          ],
          "histogram2d": [
           {
            "colorbar": {
             "outlinewidth": 0,
             "ticks": ""
            },
            "colorscale": [
             [
              0,
              "#0d0887"
             ],
             [
              0.1111111111111111,
              "#46039f"
             ],
             [
              0.2222222222222222,
              "#7201a8"
             ],
             [
              0.3333333333333333,
              "#9c179e"
             ],
             [
              0.4444444444444444,
              "#bd3786"
             ],
             [
              0.5555555555555556,
              "#d8576b"
             ],
             [
              0.6666666666666666,
              "#ed7953"
             ],
             [
              0.7777777777777778,
              "#fb9f3a"
             ],
             [
              0.8888888888888888,
              "#fdca26"
             ],
             [
              1,
              "#f0f921"
             ]
            ],
            "type": "histogram2d"
           }
          ],
          "histogram2dcontour": [
           {
            "colorbar": {
             "outlinewidth": 0,
             "ticks": ""
            },
            "colorscale": [
             [
              0,
              "#0d0887"
             ],
             [
              0.1111111111111111,
              "#46039f"
             ],
             [
              0.2222222222222222,
              "#7201a8"
             ],
             [
              0.3333333333333333,
              "#9c179e"
             ],
             [
              0.4444444444444444,
              "#bd3786"
             ],
             [
              0.5555555555555556,
              "#d8576b"
             ],
             [
              0.6666666666666666,
              "#ed7953"
             ],
             [
              0.7777777777777778,
              "#fb9f3a"
             ],
             [
              0.8888888888888888,
              "#fdca26"
             ],
             [
              1,
              "#f0f921"
             ]
            ],
            "type": "histogram2dcontour"
           }
          ],
          "mesh3d": [
           {
            "colorbar": {
             "outlinewidth": 0,
             "ticks": ""
            },
            "type": "mesh3d"
           }
          ],
          "parcoords": [
           {
            "line": {
             "colorbar": {
              "outlinewidth": 0,
              "ticks": ""
             }
            },
            "type": "parcoords"
           }
          ],
          "pie": [
           {
            "automargin": true,
            "type": "pie"
           }
          ],
          "scatter": [
           {
            "fillpattern": {
             "fillmode": "overlay",
             "size": 10,
             "solidity": 0.2
            },
            "type": "scatter"
           }
          ],
          "scatter3d": [
           {
            "line": {
             "colorbar": {
              "outlinewidth": 0,
              "ticks": ""
             }
            },
            "marker": {
             "colorbar": {
              "outlinewidth": 0,
              "ticks": ""
             }
            },
            "type": "scatter3d"
           }
          ],
          "scattercarpet": [
           {
            "marker": {
             "colorbar": {
              "outlinewidth": 0,
              "ticks": ""
             }
            },
            "type": "scattercarpet"
           }
          ],
          "scattergeo": [
           {
            "marker": {
             "colorbar": {
              "outlinewidth": 0,
              "ticks": ""
             }
            },
            "type": "scattergeo"
           }
          ],
          "scattergl": [
           {
            "marker": {
             "colorbar": {
              "outlinewidth": 0,
              "ticks": ""
             }
            },
            "type": "scattergl"
           }
          ],
          "scattermapbox": [
           {
            "marker": {
             "colorbar": {
              "outlinewidth": 0,
              "ticks": ""
             }
            },
            "type": "scattermapbox"
           }
          ],
          "scatterpolar": [
           {
            "marker": {
             "colorbar": {
              "outlinewidth": 0,
              "ticks": ""
             }
            },
            "type": "scatterpolar"
           }
          ],
          "scatterpolargl": [
           {
            "marker": {
             "colorbar": {
              "outlinewidth": 0,
              "ticks": ""
             }
            },
            "type": "scatterpolargl"
           }
          ],
          "scatterternary": [
           {
            "marker": {
             "colorbar": {
              "outlinewidth": 0,
              "ticks": ""
             }
            },
            "type": "scatterternary"
           }
          ],
          "surface": [
           {
            "colorbar": {
             "outlinewidth": 0,
             "ticks": ""
            },
            "colorscale": [
             [
              0,
              "#0d0887"
             ],
             [
              0.1111111111111111,
              "#46039f"
             ],
             [
              0.2222222222222222,
              "#7201a8"
             ],
             [
              0.3333333333333333,
              "#9c179e"
             ],
             [
              0.4444444444444444,
              "#bd3786"
             ],
             [
              0.5555555555555556,
              "#d8576b"
             ],
             [
              0.6666666666666666,
              "#ed7953"
             ],
             [
              0.7777777777777778,
              "#fb9f3a"
             ],
             [
              0.8888888888888888,
              "#fdca26"
             ],
             [
              1,
              "#f0f921"
             ]
            ],
            "type": "surface"
           }
          ],
          "table": [
           {
            "cells": {
             "fill": {
              "color": "#EBF0F8"
             },
             "line": {
              "color": "white"
             }
            },
            "header": {
             "fill": {
              "color": "#C8D4E3"
             },
             "line": {
              "color": "white"
             }
            },
            "type": "table"
           }
          ]
         },
         "layout": {
          "annotationdefaults": {
           "arrowcolor": "#2a3f5f",
           "arrowhead": 0,
           "arrowwidth": 1
          },
          "autotypenumbers": "strict",
          "coloraxis": {
           "colorbar": {
            "outlinewidth": 0,
            "ticks": ""
           }
          },
          "colorscale": {
           "diverging": [
            [
             0,
             "#8e0152"
            ],
            [
             0.1,
             "#c51b7d"
            ],
            [
             0.2,
             "#de77ae"
            ],
            [
             0.3,
             "#f1b6da"
            ],
            [
             0.4,
             "#fde0ef"
            ],
            [
             0.5,
             "#f7f7f7"
            ],
            [
             0.6,
             "#e6f5d0"
            ],
            [
             0.7,
             "#b8e186"
            ],
            [
             0.8,
             "#7fbc41"
            ],
            [
             0.9,
             "#4d9221"
            ],
            [
             1,
             "#276419"
            ]
           ],
           "sequential": [
            [
             0,
             "#0d0887"
            ],
            [
             0.1111111111111111,
             "#46039f"
            ],
            [
             0.2222222222222222,
             "#7201a8"
            ],
            [
             0.3333333333333333,
             "#9c179e"
            ],
            [
             0.4444444444444444,
             "#bd3786"
            ],
            [
             0.5555555555555556,
             "#d8576b"
            ],
            [
             0.6666666666666666,
             "#ed7953"
            ],
            [
             0.7777777777777778,
             "#fb9f3a"
            ],
            [
             0.8888888888888888,
             "#fdca26"
            ],
            [
             1,
             "#f0f921"
            ]
           ],
           "sequentialminus": [
            [
             0,
             "#0d0887"
            ],
            [
             0.1111111111111111,
             "#46039f"
            ],
            [
             0.2222222222222222,
             "#7201a8"
            ],
            [
             0.3333333333333333,
             "#9c179e"
            ],
            [
             0.4444444444444444,
             "#bd3786"
            ],
            [
             0.5555555555555556,
             "#d8576b"
            ],
            [
             0.6666666666666666,
             "#ed7953"
            ],
            [
             0.7777777777777778,
             "#fb9f3a"
            ],
            [
             0.8888888888888888,
             "#fdca26"
            ],
            [
             1,
             "#f0f921"
            ]
           ]
          },
          "colorway": [
           "#636efa",
           "#EF553B",
           "#00cc96",
           "#ab63fa",
           "#FFA15A",
           "#19d3f3",
           "#FF6692",
           "#B6E880",
           "#FF97FF",
           "#FECB52"
          ],
          "font": {
           "color": "#2a3f5f"
          },
          "geo": {
           "bgcolor": "white",
           "lakecolor": "white",
           "landcolor": "#E5ECF6",
           "showlakes": true,
           "showland": true,
           "subunitcolor": "white"
          },
          "hoverlabel": {
           "align": "left"
          },
          "hovermode": "closest",
          "mapbox": {
           "style": "light"
          },
          "paper_bgcolor": "white",
          "plot_bgcolor": "#E5ECF6",
          "polar": {
           "angularaxis": {
            "gridcolor": "white",
            "linecolor": "white",
            "ticks": ""
           },
           "bgcolor": "#E5ECF6",
           "radialaxis": {
            "gridcolor": "white",
            "linecolor": "white",
            "ticks": ""
           }
          },
          "scene": {
           "xaxis": {
            "backgroundcolor": "#E5ECF6",
            "gridcolor": "white",
            "gridwidth": 2,
            "linecolor": "white",
            "showbackground": true,
            "ticks": "",
            "zerolinecolor": "white"
           },
           "yaxis": {
            "backgroundcolor": "#E5ECF6",
            "gridcolor": "white",
            "gridwidth": 2,
            "linecolor": "white",
            "showbackground": true,
            "ticks": "",
            "zerolinecolor": "white"
           },
           "zaxis": {
            "backgroundcolor": "#E5ECF6",
            "gridcolor": "white",
            "gridwidth": 2,
            "linecolor": "white",
            "showbackground": true,
            "ticks": "",
            "zerolinecolor": "white"
           }
          },
          "shapedefaults": {
           "line": {
            "color": "#2a3f5f"
           }
          },
          "ternary": {
           "aaxis": {
            "gridcolor": "white",
            "linecolor": "white",
            "ticks": ""
           },
           "baxis": {
            "gridcolor": "white",
            "linecolor": "white",
            "ticks": ""
           },
           "bgcolor": "#E5ECF6",
           "caxis": {
            "gridcolor": "white",
            "linecolor": "white",
            "ticks": ""
           }
          },
          "title": {
           "x": 0.05
          },
          "xaxis": {
           "automargin": true,
           "gridcolor": "white",
           "linecolor": "white",
           "ticks": "",
           "title": {
            "standoff": 15
           },
           "zerolinecolor": "white",
           "zerolinewidth": 2
          },
          "yaxis": {
           "automargin": true,
           "gridcolor": "white",
           "linecolor": "white",
           "ticks": "",
           "title": {
            "standoff": 15
           },
           "zerolinecolor": "white",
           "zerolinewidth": 2
          }
         }
        },
        "title": {
         "text": "Twitter Stock Analysis Dashboard"
        },
        "width": 1000,
        "xaxis": {
         "anchor": "y",
         "autorange": true,
         "domain": [
          0,
          1
         ],
         "range": [
          "2011-09-25 09:27:03.2465",
          "2039-07-06 14:32:56.7535"
         ],
         "type": "date"
        },
        "yaxis": {
         "anchor": "x",
         "autorange": true,
         "domain": [
          0,
          0.375
         ],
         "range": [
          24.575892857142858,
          102.92410714285714
         ],
         "type": "linear"
        }
       }
      },
      "image/png": "[encoded data removed]",
      "text/html": [
       "<div>                            <div id=\"1476359e-a854-42b7-8721-a8aaf4fb767e\" class=\"plotly-graph-div\" style=\"height:700px; width:1000px;\"></div>            <script type=\"text/javascript\">                require([\"plotly\"], function(Plotly) {                    window.PLOTLYENV=window.PLOTLYENV || {};                                    if (document.getElementById(\"1476359e-a854-42b7-8721-a8aaf4fb767e\")) {                    Plotly.newPlot(                        \"1476359e-a854-42b7-8721-a8aaf4fb767e\",                        [{\"cells\":{\"align\":\"left\",\"fill\":{\"color\":\"lavender\"},\"values\":[[\"2013\",\"2014-2020\",\"2021\",\"2022\",\"Post-2022\"],[\"Twitter IPO - Public listing\",\"Volatility due to user growth and leadership changes\",\"Speculation and product changes\",\"Elon Musk acquisition announcement\",\"Twitter delisted after acquisition\"],[\"Stock surged after IPO\",\"Fluctuating stock prices\",\"Minor recovery and hype\",\"Stock price spiked significantly\",\"Stock no longer publicly traded\"]]},\"header\":{\"align\":\"left\",\"fill\":{\"color\":\"lightblue\"},\"values\":[\"Year\",\"Event\",\"Impact\"]},\"type\":\"table\",\"domain\":{\"x\":[0.0,1.0],\"y\":[0.625,1.0]}},{\"line\":{\"color\":\"blue\"},\"mode\":\"lines+markers\",\"name\":\"Closing Price\",\"x\":[\"2013-03-31T00:00:00\",\"2013-06-30T00:00:00\",\"2013-09-30T00:00:00\",\"2013-12-31T00:00:00\",\"2014-03-31T00:00:00\",\"2014-06-30T00:00:00\",\"2014-09-30T00:00:00\",\"2014-12-31T00:00:00\",\"2015-03-31T00:00:00\",\"2015-06-30T00:00:00\",\"2015-09-30T00:00:00\",\"2015-12-31T00:00:00\",\"2016-03-31T00:00:00\",\"2016-06-30T00:00:00\",\"2016-09-30T00:00:00\",\"2016-12-31T00:00:00\",\"2017-03-31T00:00:00\",\"2017-06-30T00:00:00\",\"2017-09-30T00:00:00\",\"2017-12-31T00:00:00\",\"2018-03-31T00:00:00\",\"2018-06-30T00:00:00\",\"2018-09-30T00:00:00\",\"2018-12-31T00:00:00\",\"2019-03-31T00:00:00\",\"2019-06-30T00:00:00\",\"2019-09-30T00:00:00\",\"2019-12-31T00:00:00\",\"2020-03-31T00:00:00\",\"2020-06-30T00:00:00\",\"2020-09-30T00:00:00\",\"2020-12-31T00:00:00\",\"2021-03-31T00:00:00\",\"2021-06-30T00:00:00\",\"2021-09-30T00:00:00\",\"2021-12-31T00:00:00\",\"2022-03-31T00:00:00\",\"2022-06-30T00:00:00\",\"2022-09-30T00:00:00\",\"2022-12-31T00:00:00\",\"2023-03-31T00:00:00\",\"2023-06-30T00:00:00\",\"2023-09-30T00:00:00\",\"2023-12-31T00:00:00\",\"2024-03-31T00:00:00\",\"2024-06-30T00:00:00\",\"2024-09-30T00:00:00\",\"2024-12-31T00:00:00\",\"2025-03-31T00:00:00\",\"2025-06-30T00:00:00\",\"2025-09-30T00:00:00\",\"2025-12-31T00:00:00\",\"2026-03-31T00:00:00\",\"2026-06-30T00:00:00\",\"2026-09-30T00:00:00\",\"2026-12-31T00:00:00\",\"2027-03-31T00:00:00\",\"2027-06-30T00:00:00\",\"2027-09-30T00:00:00\",\"2027-12-31T00:00:00\",\"2028-03-31T00:00:00\",\"2028-06-30T00:00:00\",\"2028-09-30T00:00:00\",\"2028-12-31T00:00:00\",\"2029-03-31T00:00:00\",\"2029-06-30T00:00:00\",\"2029-09-30T00:00:00\",\"2029-12-31T00:00:00\",\"2030-03-31T00:00:00\",\"2030-06-30T00:00:00\",\"2030-09-30T00:00:00\",\"2030-12-31T00:00:00\",\"2031-03-31T00:00:00\",\"2031-06-30T00:00:00\",\"2031-09-30T00:00:00\",\"2031-12-31T00:00:00\",\"2032-03-31T00:00:00\",\"2032-06-30T00:00:00\",\"2032-09-30T00:00:00\",\"2032-12-31T00:00:00\",\"2033-03-31T00:00:00\",\"2033-06-30T00:00:00\",\"2033-09-30T00:00:00\",\"2033-12-31T00:00:00\",\"2034-03-31T00:00:00\",\"2034-06-30T00:00:00\",\"2034-09-30T00:00:00\",\"2034-12-31T00:00:00\",\"2035-03-31T00:00:00\",\"2035-06-30T00:00:00\",\"2035-09-30T00:00:00\",\"2035-12-31T00:00:00\",\"2036-03-31T00:00:00\",\"2036-06-30T00:00:00\",\"2036-09-30T00:00:00\",\"2036-12-31T00:00:00\",\"2037-03-31T00:00:00\",\"2037-06-30T00:00:00\",\"2037-09-30T00:00:00\",\"2037-12-31T00:00:00\"],\"y\":[30.0,32.5,35.0,37.5,40.0,42.5,45.0,47.5,50.0,52.5,35.0,37.5,40.0,42.5,45.0,47.5,50.0,52.5,55.0,57.5,40.0,42.5,45.0,47.5,50.0,52.5,55.0,57.5,60.0,62.5,45.0,47.5,50.0,52.5,55.0,57.5,60.0,62.5,65.0,67.5,50.0,52.5,55.0,57.5,60.0,62.5,65.0,67.5,70.0,72.5,55.0,57.5,60.0,62.5,65.0,67.5,70.0,72.5,75.0,77.5,60.0,62.5,65.0,67.5,70.0,72.5,75.0,77.5,80.0,82.5,65.0,67.5,70.0,72.5,75.0,77.5,80.0,82.5,85.0,87.5,70.0,72.5,75.0,77.5,80.0,82.5,85.0,87.5,90.0,92.5,75.0,77.5,80.0,82.5,85.0,87.5,90.0,92.5,95.0,97.5],\"type\":\"scatter\",\"xaxis\":\"x\",\"yaxis\":\"y\"}],                        {\"template\":{\"data\":{\"histogram2dcontour\":[{\"type\":\"histogram2dcontour\",\"colorbar\":{\"outlinewidth\":0,\"ticks\":\"\"},\"colorscale\":[[0.0,\"#0d0887\"],[0.1111111111111111,\"#46039f\"],[0.2222222222222222,\"#7201a8\"],[0.3333333333333333,\"#9c179e\"],[0.4444444444444444,\"#bd3786\"],[0.5555555555555556,\"#d8576b\"],[0.6666666666666666,\"#ed7953\"],[0.7777777777777778,\"#fb9f3a\"],[0.8888888888888888,\"#fdca26\"],[1.0,\"#f0f921\"]]}],\"choropleth\":[{\"type\":\"choropleth\",\"colorbar\":{\"outlinewidth\":0,\"ticks\":\"\"}}],\"histogram2d\":[{\"type\":\"histogram2d\",\"colorbar\":{\"outlinewidth\":0,\"ticks\":\"\"},\"colorscale\":[[0.0,\"#0d0887\"],[0.1111111111111111,\"#46039f\"],[0.2222222222222222,\"#7201a8\"],[0.3333333333333333,\"#9c179e\"],[0.4444444444444444,\"#bd3786\"],[0.5555555555555556,\"#d8576b\"],[0.6666666666666666,\"#ed7953\"],[0.7777777777777778,\"#fb9f3a\"],[0.8888888888888888,\"#fdca26\"],[1.0,\"#f0f921\"]]}],\"heatmap\":[{\"type\":\"heatmap\",\"colorbar\":{\"outlinewidth\":0,\"ticks\":\"\"},\"colorscale\":[[0.0,\"#0d0887\"],[0.1111111111111111,\"#46039f\"],[0.2222222222222222,\"#7201a8\"],[0.3333333333333333,\"#9c179e\"],[0.4444444444444444,\"#bd3786\"],[0.5555555555555556,\"#d8576b\"],[0.6666666666666666,\"#ed7953\"],[0.7777777777777778,\"#fb9f3a\"],[0.8888888888888888,\"#fdca26\"],[1.0,\"#f0f921\"]]}],\"heatmapgl\":[{\"type\":\"heatmapgl\",\"colorbar\":{\"outlinewidth\":0,\"ticks\":\"\"},\"colorscale\":[[0.0,\"#0d0887\"],[0.1111111111111111,\"#46039f\"],[0.2222222222222222,\"#7201a8\"],[0.3333333333333333,\"#9c179e\"],[0.4444444444444444,\"#bd3786\"],[0.5555555555555556,\"#d8576b\"],[0.6666666666666666,\"#ed7953\"],[0.7777777777777778,\"#fb9f3a\"],[0.8888888888888888,\"#fdca26\"],[1.0,\"#f0f921\"]]}],\"contourcarpet\":[{\"type\":\"contourcarpet\",\"colorbar\":{\"outlinewidth\":0,\"ticks\":\"\"}}],\"contour\":[{\"type\":\"contour\",\"colorbar\":{\"outlinewidth\":0,\"ticks\":\"\"},\"colorscale\":[[0.0,\"#0d0887\"],[0.1111111111111111,\"#46039f\"],[0.2222222222222222,\"#7201a8\"],[0.3333333333333333,\"#9c179e\"],[0.4444444444444444,\"#bd3786\"],[0.5555555555555556,\"#d8576b\"],[0.6666666666666666,\"#ed7953\"],[0.7777777777777778,\"#fb9f3a\"],[0.8888888888888888,\"#fdca26\"],[1.0,\"#f0f921\"]]}],\"surface\":[{\"type\":\"surface\",\"colorbar\":{\"outlinewidth\":0,\"ticks\":\"\"},\"colorscale\":[[0.0,\"#0d0887\"],[0.1111111111111111,\"#46039f\"],[0.2222222222222222,\"#7201a8\"],[0.3333333333333333,\"#9c179e\"],[0.4444444444444444,\"#bd3786\"],[0.5555555555555556,\"#d8576b\"],[0.6666666666666666,\"#ed7953\"],[0.7777777777777778,\"#fb9f3a\"],[0.8888888888888888,\"#fdca26\"],[1.0,\"#f0f921\"]]}],\"mesh3d\":[{\"type\":\"mesh3d\",\"colorbar\":{\"outlinewidth\":0,\"ticks\":\"\"}}],\"scatter\":[{\"fillpattern\":{\"fillmode\":\"overlay\",\"size\":10,\"solidity\":0.2},\"type\":\"scatter\"}],\"parcoords\":[{\"type\":\"parcoords\",\"line\":{\"colorbar\":{\"outlinewidth\":0,\"ticks\":\"\"}}}],\"scatterpolargl\":[{\"type\":\"scatterpolargl\",\"marker\":{\"colorbar\":{\"outlinewidth\":0,\"ticks\":\"\"}}}],\"bar\":[{\"error_x\":{\"color\":\"#2a3f5f\"},\"error_y\":{\"color\":\"#2a3f5f\"},\"marker\":{\"line\":{\"color\":\"#E5ECF6\",\"width\":0.5},\"pattern\":{\"fillmode\":\"overlay\",\"size\":10,\"solidity\":0.2}},\"type\":\"bar\"}],\"scattergeo\":[{\"type\":\"scattergeo\",\"marker\":{\"colorbar\":{\"outlinewidth\":0,\"ticks\":\"\"}}}],\"scatterpolar\":[{\"type\":\"scatterpolar\",\"marker\":{\"colorbar\":{\"outlinewidth\":0,\"ticks\":\"\"}}}],\"histogram\":[{\"marker\":{\"pattern\":{\"fillmode\":\"overlay\",\"size\":10,\"solidity\":0.2}},\"type\":\"histogram\"}],\"scattergl\":[{\"type\":\"scattergl\",\"marker\":{\"colorbar\":{\"outlinewidth\":0,\"ticks\":\"\"}}}],\"scatter3d\":[{\"type\":\"scatter3d\",\"line\":{\"colorbar\":{\"outlinewidth\":0,\"ticks\":\"\"}},\"marker\":{\"colorbar\":{\"outlinewidth\":0,\"ticks\":\"\"}}}],\"scattermapbox\":[{\"type\":\"scattermapbox\",\"marker\":{\"colorbar\":{\"outlinewidth\":0,\"ticks\":\"\"}}}],\"scatterternary\":[{\"type\":\"scatterternary\",\"marker\":{\"colorbar\":{\"outlinewidth\":0,\"ticks\":\"\"}}}],\"scattercarpet\":[{\"type\":\"scattercarpet\",\"marker\":{\"colorbar\":{\"outlinewidth\":0,\"ticks\":\"\"}}}],\"carpet\":[{\"aaxis\":{\"endlinecolor\":\"#2a3f5f\",\"gridcolor\":\"white\",\"linecolor\":\"white\",\"minorgridcolor\":\"white\",\"startlinecolor\":\"#2a3f5f\"},\"baxis\":{\"endlinecolor\":\"#2a3f5f\",\"gridcolor\":\"white\",\"linecolor\":\"white\",\"minorgridcolor\":\"white\",\"startlinecolor\":\"#2a3f5f\"},\"type\":\"carpet\"}],\"table\":[{\"cells\":{\"fill\":{\"color\":\"#EBF0F8\"},\"line\":{\"color\":\"white\"}},\"header\":{\"fill\":{\"color\":\"#C8D4E3\"},\"line\":{\"color\":\"white\"}},\"type\":\"table\"}],\"barpolar\":[{\"marker\":{\"line\":{\"color\":\"#E5ECF6\",\"width\":0.5},\"pattern\":{\"fillmode\":\"overlay\",\"size\":10,\"solidity\":0.2}},\"type\":\"barpolar\"}],\"pie\":[{\"automargin\":true,\"type\":\"pie\"}]},\"layout\":{\"autotypenumbers\":\"strict\",\"colorway\":[\"#636efa\",\"#EF553B\",\"#00cc96\",\"#ab63fa\",\"#FFA15A\",\"#19d3f3\",\"#FF6692\",\"#B6E880\",\"#FF97FF\",\"#FECB52\"],\"font\":{\"color\":\"#2a3f5f\"},\"hovermode\":\"closest\",\"hoverlabel\":{\"align\":\"left\"},\"paper_bgcolor\":\"white\",\"plot_bgcolor\":\"#E5ECF6\",\"polar\":{\"bgcolor\":\"#E5ECF6\",\"angularaxis\":{\"gridcolor\":\"white\",\"linecolor\":\"white\",\"ticks\":\"\"},\"radialaxis\":{\"gridcolor\":\"white\",\"linecolor\":\"white\",\"ticks\":\"\"}},\"ternary\":{\"bgcolor\":\"#E5ECF6\",\"aaxis\":{\"gridcolor\":\"white\",\"linecolor\":\"white\",\"ticks\":\"\"},\"baxis\":{\"gridcolor\":\"white\",\"linecolor\":\"white\",\"ticks\":\"\"},\"caxis\":{\"gridcolor\":\"white\",\"linecolor\":\"white\",\"ticks\":\"\"}},\"coloraxis\":{\"colorbar\":{\"outlinewidth\":0,\"ticks\":\"\"}},\"colorscale\":{\"sequential\":[[0.0,\"#0d0887\"],[0.1111111111111111,\"#46039f\"],[0.2222222222222222,\"#7201a8\"],[0.3333333333333333,\"#9c179e\"],[0.4444444444444444,\"#bd3786\"],[0.5555555555555556,\"#d8576b\"],[0.6666666666666666,\"#ed7953\"],[0.7777777777777778,\"#fb9f3a\"],[0.8888888888888888,\"#fdca26\"],[1.0,\"#f0f921\"]],\"sequentialminus\":[[0.0,\"#0d0887\"],[0.1111111111111111,\"#46039f\"],[0.2222222222222222,\"#7201a8\"],[0.3333333333333333,\"#9c179e\"],[0.4444444444444444,\"#bd3786\"],[0.5555555555555556,\"#d8576b\"],[0.6666666666666666,\"#ed7953\"],[0.7777777777777778,\"#fb9f3a\"],[0.8888888888888888,\"#fdca26\"],[1.0,\"#f0f921\"]],\"diverging\":[[0,\"#8e0152\"],[0.1,\"#c51b7d\"],[0.2,\"#de77ae\"],[0.3,\"#f1b6da\"],[0.4,\"#fde0ef\"],[0.5,\"#f7f7f7\"],[0.6,\"#e6f5d0\"],[0.7,\"#b8e186\"],[0.8,\"#7fbc41\"],[0.9,\"#4d9221\"],[1,\"#276419\"]]},\"xaxis\":{\"gridcolor\":\"white\",\"linecolor\":\"white\",\"ticks\":\"\",\"title\":{\"standoff\":15},\"zerolinecolor\":\"white\",\"automargin\":true,\"zerolinewidth\":2},\"yaxis\":{\"gridcolor\":\"white\",\"linecolor\":\"white\",\"ticks\":\"\",\"title\":{\"standoff\":15},\"zerolinecolor\":\"white\",\"automargin\":true,\"zerolinewidth\":2},\"scene\":{\"xaxis\":{\"backgroundcolor\":\"#E5ECF6\",\"gridcolor\":\"white\",\"linecolor\":\"white\",\"showbackground\":true,\"ticks\":\"\",\"zerolinecolor\":\"white\",\"gridwidth\":2},\"yaxis\":{\"backgroundcolor\":\"#E5ECF6\",\"gridcolor\":\"white\",\"linecolor\":\"white\",\"showbackground\":true,\"ticks\":\"\",\"zerolinecolor\":\"white\",\"gridwidth\":2},\"zaxis\":{\"backgroundcolor\":\"#E5ECF6\",\"gridcolor\":\"white\",\"linecolor\":\"white\",\"showbackground\":true,\"ticks\":\"\",\"zerolinecolor\":\"white\",\"gridwidth\":2}},\"shapedefaults\":{\"line\":{\"color\":\"#2a3f5f\"}},\"annotationdefaults\":{\"arrowcolor\":\"#2a3f5f\",\"arrowhead\":0,\"arrowwidth\":1},\"geo\":{\"bgcolor\":\"white\",\"landcolor\":\"#E5ECF6\",\"subunitcolor\":\"white\",\"showland\":true,\"showlakes\":true,\"lakecolor\":\"white\"},\"title\":{\"x\":0.05},\"mapbox\":{\"style\":\"light\"}}},\"xaxis\":{\"anchor\":\"y\",\"domain\":[0.0,1.0]},\"yaxis\":{\"anchor\":\"x\",\"domain\":[0.0,0.375]},\"annotations\":[{\"font\":{\"size\":16},\"showarrow\":false,\"text\":\"Key Events Timeline\",\"x\":0.5,\"xanchor\":\"center\",\"xref\":\"paper\",\"y\":1.0,\"yanchor\":\"bottom\",\"yref\":\"paper\"},{\"font\":{\"size\":16},\"showarrow\":false,\"text\":\"Sample Stock Price Trend\",\"x\":0.5,\"xanchor\":\"center\",\"xref\":\"paper\",\"y\":0.375,\"yanchor\":\"bottom\",\"yref\":\"paper\"}],\"title\":{\"text\":\"Twitter Stock Analysis Dashboard\"},\"height\":700,\"width\":1000},                        {\"responsive\": true}                    ).then(function(){\n",
       "                            \n",
       "var gd = document.getElementById('1476359e-a854-42b7-8721-a8aaf4fb767e');\n",
       "var x = new MutationObserver(function (mutations, observer) {{\n",
       "        var display = window.getComputedStyle(gd).display;\n",
       "        if (!display || display === 'none') {{\n",
       "            console.log([gd, 'removed!']);\n",
       "            Plotly.purge(gd);\n",
       "            observer.disconnect();\n",
       "        }}\n",
       "}});\n",
       "\n",
       "// Listen for the removal of the full notebook cells\n",
       "var notebookContainer = gd.closest('#notebook-container');\n",
       "if (notebookContainer) {{\n",
       "    x.observe(notebookContainer, {childList: true});\n",
       "}}\n",
       "\n",
       "// Listen for the clearing of the current output cell\n",
       "var outputEl = gd.closest('.output');\n",
       "if (outputEl) {{\n",
       "    x.observe(outputEl, {childList: true});\n",
       "}}\n",
       "\n",
       "                        })                };                });            </script>        </div>"
      ]
     },
     "metadata": {},
     "output_type": "display_data"
    }
   ],
   "source": [
    "#Create a Dashboard from the above statements by using power BI or Tableau or Python and present it to the Client.\n",
    "\n",
    "# 1. Timeline insights\n",
    "insights_data = {\n",
    "    \"Year\": [\"2013\", \"2014-2020\", \"2021\", \"2022\", \"Post-2022\"],\n",
    "    \"Event\": [\n",
    "        \"Twitter IPO - Public listing\",\n",
    "        \"Volatility due to user growth and leadership changes\",\n",
    "        \"Speculation and product changes\",\n",
    "        \"Elon Musk acquisition announcement\",\n",
    "        \"Twitter delisted after acquisition\"\n",
    "    ],\n",
    "    \"Impact\": [\n",
    "        \"Stock surged after IPO\",\n",
    "        \"Fluctuating stock prices\",\n",
    "        \"Minor recovery and hype\",\n",
    "        \"Stock price spiked significantly\",\n",
    "        \"Stock no longer publicly traded\"\n",
    "    ]\n",
    "}\n",
    "\n",
    "# Convert to DataFrame\n",
    "insights_df = pd.DataFrame(insights_data)\n",
    "\n",
    "# 2. Create subplots layout\n",
    "fig = make_subplots(\n",
    "    rows=2, cols=1,\n",
    "    row_heights=[0.5, 0.5],\n",
    "    specs=[[{\"type\": \"table\"}], [{\"type\": \"scatter\"}]],\n",
    "    subplot_titles=(\"Key Events Timeline\", \"Sample Stock Price Trend\")\n",
    ")\n",
    "\n",
    "# 3. Add timeline table\n",
    "fig.add_trace(\n",
    "    go.Table(\n",
    "        header=dict(values=[\"Year\", \"Event\", \"Impact\"],\n",
    "                    fill_color='lightblue',\n",
    "                    align='left'),\n",
    "        cells=dict(values=[insights_df[col] for col in insights_df.columns],\n",
    "                   fill_color='lavender',\n",
    "                   align='left')\n",
    "    ),\n",
    "    row=1, col=1\n",
    ")\n",
    "\n",
    "# 4. Add a simulated stock price trend\n",
    "dates = pd.date_range(start=\"2013-01-01\", periods=100, freq=\"Q\")\n",
    "price = [30 + (i % 10) * 2 + (i * 0.5) for i in range(len(dates))]\n",
    "\n",
    "fig.add_trace(\n",
    "    go.Scatter(x=dates, y=price, mode='lines+markers', name='Closing Price',\n",
    "               line=dict(color='blue')),\n",
    "    row=2, col=1\n",
    ")\n",
    "\n",
    "# 5. Show the dashboard\n",
    "fig.update_layout(height=700, width=1000, title_text=\"Twitter Stock Analysis Dashboard\")\n",
    "fig.show()"
   ]
  },
  {
   "cell_type": "code",
   "execution_count": 437,
   "id": "084bd31d-e018-4691-993e-484a4a0f9a39",
   "metadata": {},
   "outputs": [
    {
     "data": {
      "application/vnd.plotly.v1+json": {
       "config": {
        "plotlyServerURL": "https://plot.ly"
       },
       "data": [
        {
         "cells": {
          "align": "left",
          "fill": {
           "color": "lavender"
          },
          "values": [
           [
            "2013",
            "2014-2020",
            "2021",
            "2022",
            "Post-2022"
           ],
           [
            "Twitter IPO - Public listing",
            "Volatility due to user growth and leadership changes",
            "Speculation and product changes",
            "Elon Musk acquisition announcement",
            "Twitter delisted after acquisition"
           ],
           [
            "Stock surged after IPO",
            "Fluctuating stock prices",
            "Minor recovery and hype",
            "Stock price spiked significantly",
            "Stock no longer publicly traded"
           ]
          ]
         },
         "domain": {
          "x": [
           0,
           1
          ],
          "y": [
           0.625,
           1
          ]
         },
         "header": {
          "align": "left",
          "fill": {
           "color": "lightblue"
          },
          "values": [
           "Year",
           "Event",
           "Impact"
          ]
         },
         "type": "table"
        },
        {
         "line": {
          "color": "blue"
         },
         "mode": "lines+markers",
         "name": "All Time",
         "type": "scatter",
         "x": [
          "2013-03-31T00:00:00",
          "2013-06-30T00:00:00",
          "2013-09-30T00:00:00",
          "2013-12-31T00:00:00",
          "2014-03-31T00:00:00",
          "2014-06-30T00:00:00",
          "2014-09-30T00:00:00",
          "2014-12-31T00:00:00",
          "2015-03-31T00:00:00",
          "2015-06-30T00:00:00",
          "2015-09-30T00:00:00",
          "2015-12-31T00:00:00",
          "2016-03-31T00:00:00",
          "2016-06-30T00:00:00",
          "2016-09-30T00:00:00",
          "2016-12-31T00:00:00",
          "2017-03-31T00:00:00",
          "2017-06-30T00:00:00",
          "2017-09-30T00:00:00",
          "2017-12-31T00:00:00",
          "2018-03-31T00:00:00",
          "2018-06-30T00:00:00",
          "2018-09-30T00:00:00",
          "2018-12-31T00:00:00",
          "2019-03-31T00:00:00",
          "2019-06-30T00:00:00",
          "2019-09-30T00:00:00",
          "2019-12-31T00:00:00",
          "2020-03-31T00:00:00",
          "2020-06-30T00:00:00",
          "2020-09-30T00:00:00",
          "2020-12-31T00:00:00",
          "2021-03-31T00:00:00",
          "2021-06-30T00:00:00",
          "2021-09-30T00:00:00",
          "2021-12-31T00:00:00",
          "2022-03-31T00:00:00",
          "2022-06-30T00:00:00",
          "2022-09-30T00:00:00",
          "2022-12-31T00:00:00",
          "2023-03-31T00:00:00",
          "2023-06-30T00:00:00",
          "2023-09-30T00:00:00",
          "2023-12-31T00:00:00",
          "2024-03-31T00:00:00",
          "2024-06-30T00:00:00",
          "2024-09-30T00:00:00",
          "2024-12-31T00:00:00",
          "2025-03-31T00:00:00",
          "2025-06-30T00:00:00",
          "2025-09-30T00:00:00",
          "2025-12-31T00:00:00",
          "2026-03-31T00:00:00",
          "2026-06-30T00:00:00",
          "2026-09-30T00:00:00",
          "2026-12-31T00:00:00",
          "2027-03-31T00:00:00",
          "2027-06-30T00:00:00",
          "2027-09-30T00:00:00",
          "2027-12-31T00:00:00",
          "2028-03-31T00:00:00",
          "2028-06-30T00:00:00",
          "2028-09-30T00:00:00",
          "2028-12-31T00:00:00",
          "2029-03-31T00:00:00",
          "2029-06-30T00:00:00",
          "2029-09-30T00:00:00",
          "2029-12-31T00:00:00",
          "2030-03-31T00:00:00",
          "2030-06-30T00:00:00",
          "2030-09-30T00:00:00",
          "2030-12-31T00:00:00",
          "2031-03-31T00:00:00",
          "2031-06-30T00:00:00",
          "2031-09-30T00:00:00",
          "2031-12-31T00:00:00",
          "2032-03-31T00:00:00",
          "2032-06-30T00:00:00",
          "2032-09-30T00:00:00",
          "2032-12-31T00:00:00",
          "2033-03-31T00:00:00",
          "2033-06-30T00:00:00",
          "2033-09-30T00:00:00",
          "2033-12-31T00:00:00",
          "2034-03-31T00:00:00",
          "2034-06-30T00:00:00",
          "2034-09-30T00:00:00",
          "2034-12-31T00:00:00",
          "2035-03-31T00:00:00",
          "2035-06-30T00:00:00",
          "2035-09-30T00:00:00",
          "2035-12-31T00:00:00",
          "2036-03-31T00:00:00",
          "2036-06-30T00:00:00",
          "2036-09-30T00:00:00",
          "2036-12-31T00:00:00",
          "2037-03-31T00:00:00",
          "2037-06-30T00:00:00",
          "2037-09-30T00:00:00",
          "2037-12-31T00:00:00"
         ],
         "xaxis": "x",
         "y": [
          30,
          32.5,
          35,
          37.5,
          40,
          42.5,
          45,
          47.5,
          50,
          52.5,
          35,
          37.5,
          40,
          42.5,
          45,
          47.5,
          50,
          52.5,
          55,
          57.5,
          40,
          42.5,
          45,
          47.5,
          50,
          52.5,
          55,
          57.5,
          60,
          62.5,
          45,
          47.5,
          50,
          52.5,
          55,
          57.5,
          60,
          62.5,
          65,
          67.5,
          50,
          52.5,
          55,
          57.5,
          60,
          62.5,
          65,
          67.5,
          70,
          72.5,
          55,
          57.5,
          60,
          62.5,
          65,
          67.5,
          70,
          72.5,
          75,
          77.5,
          60,
          62.5,
          65,
          67.5,
          70,
          72.5,
          75,
          77.5,
          80,
          82.5,
          65,
          67.5,
          70,
          72.5,
          75,
          77.5,
          80,
          82.5,
          85,
          87.5,
          70,
          72.5,
          75,
          77.5,
          80,
          82.5,
          85,
          87.5,
          90,
          92.5,
          75,
          77.5,
          80,
          82.5,
          85,
          87.5,
          90,
          92.5,
          95,
          97.5
         ],
         "yaxis": "y"
        }
       ],
       "layout": {
        "annotations": [
         {
          "font": {
           "size": 16
          },
          "showarrow": false,
          "text": "Key Events Timeline",
          "x": 0.5,
          "xanchor": "center",
          "xref": "paper",
          "y": 1,
          "yanchor": "bottom",
          "yref": "paper"
         },
         {
          "font": {
           "size": 16
          },
          "showarrow": false,
          "text": "Twitter Stock Price Trend",
          "x": 0.5,
          "xanchor": "center",
          "xref": "paper",
          "y": 0.375,
          "yanchor": "bottom",
          "yref": "paper"
         }
        ],
        "height": 750,
        "template": {
         "data": {
          "bar": [
           {
            "error_x": {
             "color": "#2a3f5f"
            },
            "error_y": {
             "color": "#2a3f5f"
            },
            "marker": {
             "line": {
              "color": "#E5ECF6",
              "width": 0.5
             },
             "pattern": {
              "fillmode": "overlay",
              "size": 10,
              "solidity": 0.2
             }
            },
            "type": "bar"
           }
          ],
          "barpolar": [
           {
            "marker": {
             "line": {
              "color": "#E5ECF6",
              "width": 0.5
             },
             "pattern": {
              "fillmode": "overlay",
              "size": 10,
              "solidity": 0.2
             }
            },
            "type": "barpolar"
           }
          ],
          "carpet": [
           {
            "aaxis": {
             "endlinecolor": "#2a3f5f",
             "gridcolor": "white",
             "linecolor": "white",
             "minorgridcolor": "white",
             "startlinecolor": "#2a3f5f"
            },
            "baxis": {
             "endlinecolor": "#2a3f5f",
             "gridcolor": "white",
             "linecolor": "white",
             "minorgridcolor": "white",
             "startlinecolor": "#2a3f5f"
            },
            "type": "carpet"
           }
          ],
          "choropleth": [
           {
            "colorbar": {
             "outlinewidth": 0,
             "ticks": ""
            },
            "type": "choropleth"
           }
          ],
          "contour": [
           {
            "colorbar": {
             "outlinewidth": 0,
             "ticks": ""
            },
            "colorscale": [
             [
              0,
              "#0d0887"
             ],
             [
              0.1111111111111111,
              "#46039f"
             ],
             [
              0.2222222222222222,
              "#7201a8"
             ],
             [
              0.3333333333333333,
              "#9c179e"
             ],
             [
              0.4444444444444444,
              "#bd3786"
             ],
             [
              0.5555555555555556,
              "#d8576b"
             ],
             [
              0.6666666666666666,
              "#ed7953"
             ],
             [
              0.7777777777777778,
              "#fb9f3a"
             ],
             [
              0.8888888888888888,
              "#fdca26"
             ],
             [
              1,
              "#f0f921"
             ]
            ],
            "type": "contour"
           }
          ],
          "contourcarpet": [
           {
            "colorbar": {
             "outlinewidth": 0,
             "ticks": ""
            },
            "type": "contourcarpet"
           }
          ],
          "heatmap": [
           {
            "colorbar": {
             "outlinewidth": 0,
             "ticks": ""
            },
            "colorscale": [
             [
              0,
              "#0d0887"
             ],
             [
              0.1111111111111111,
              "#46039f"
             ],
             [
              0.2222222222222222,
              "#7201a8"
             ],
             [
              0.3333333333333333,
              "#9c179e"
             ],
             [
              0.4444444444444444,
              "#bd3786"
             ],
             [
              0.5555555555555556,
              "#d8576b"
             ],
             [
              0.6666666666666666,
              "#ed7953"
             ],
             [
              0.7777777777777778,
              "#fb9f3a"
             ],
             [
              0.8888888888888888,
              "#fdca26"
             ],
             [
              1,
              "#f0f921"
             ]
            ],
            "type": "heatmap"
           }
          ],
          "heatmapgl": [
           {
            "colorbar": {
             "outlinewidth": 0,
             "ticks": ""
            },
            "colorscale": [
             [
              0,
              "#0d0887"
             ],
             [
              0.1111111111111111,
              "#46039f"
             ],
             [
              0.2222222222222222,
              "#7201a8"
             ],
             [
              0.3333333333333333,
              "#9c179e"
             ],
             [
              0.4444444444444444,
              "#bd3786"
             ],
             [
              0.5555555555555556,
              "#d8576b"
             ],
             [
              0.6666666666666666,
              "#ed7953"
             ],
             [
              0.7777777777777778,
              "#fb9f3a"
             ],
             [
              0.8888888888888888,
              "#fdca26"
             ],
             [
              1,
              "#f0f921"
             ]
            ],
            "type": "heatmapgl"
           }
          ],
          "histogram": [
           {
            "marker": {
             "pattern": {
              "fillmode": "overlay",
              "size": 10,
              "solidity": 0.2
             }
            },
            "type": "histogram"
           }
          ],
          "histogram2d": [
           {
            "colorbar": {
             "outlinewidth": 0,
             "ticks": ""
            },
            "colorscale": [
             [
              0,
              "#0d0887"
             ],
             [
              0.1111111111111111,
              "#46039f"
             ],
             [
              0.2222222222222222,
              "#7201a8"
             ],
             [
              0.3333333333333333,
              "#9c179e"
             ],
             [
              0.4444444444444444,
              "#bd3786"
             ],
             [
              0.5555555555555556,
              "#d8576b"
             ],
             [
              0.6666666666666666,
              "#ed7953"
             ],
             [
              0.7777777777777778,
              "#fb9f3a"
             ],
             [
              0.8888888888888888,
              "#fdca26"
             ],
             [
              1,
              "#f0f921"
             ]
            ],
            "type": "histogram2d"
           }
          ],
          "histogram2dcontour": [
           {
            "colorbar": {
             "outlinewidth": 0,
             "ticks": ""
            },
            "colorscale": [
             [
              0,
              "#0d0887"
             ],
             [
              0.1111111111111111,
              "#46039f"
             ],
             [
              0.2222222222222222,
              "#7201a8"
             ],
             [
              0.3333333333333333,
              "#9c179e"
             ],
             [
              0.4444444444444444,
              "#bd3786"
             ],
             [
              0.5555555555555556,
              "#d8576b"
             ],
             [
              0.6666666666666666,
              "#ed7953"
             ],
             [
              0.7777777777777778,
              "#fb9f3a"
             ],
             [
              0.8888888888888888,
              "#fdca26"
             ],
             [
              1,
              "#f0f921"
             ]
            ],
            "type": "histogram2dcontour"
           }
          ],
          "mesh3d": [
           {
            "colorbar": {
             "outlinewidth": 0,
             "ticks": ""
            },
            "type": "mesh3d"
           }
          ],
          "parcoords": [
           {
            "line": {
             "colorbar": {
              "outlinewidth": 0,
              "ticks": ""
             }
            },
            "type": "parcoords"
           }
          ],
          "pie": [
           {
            "automargin": true,
            "type": "pie"
           }
          ],
          "scatter": [
           {
            "fillpattern": {
             "fillmode": "overlay",
             "size": 10,
             "solidity": 0.2
            },
            "type": "scatter"
           }
          ],
          "scatter3d": [
           {
            "line": {
             "colorbar": {
              "outlinewidth": 0,
              "ticks": ""
             }
            },
            "marker": {
             "colorbar": {
              "outlinewidth": 0,
              "ticks": ""
             }
            },
            "type": "scatter3d"
           }
          ],
          "scattercarpet": [
           {
            "marker": {
             "colorbar": {
              "outlinewidth": 0,
              "ticks": ""
             }
            },
            "type": "scattercarpet"
           }
          ],
          "scattergeo": [
           {
            "marker": {
             "colorbar": {
              "outlinewidth": 0,
              "ticks": ""
             }
            },
            "type": "scattergeo"
           }
          ],
          "scattergl": [
           {
            "marker": {
             "colorbar": {
              "outlinewidth": 0,
              "ticks": ""
             }
            },
            "type": "scattergl"
           }
          ],
          "scattermapbox": [
           {
            "marker": {
             "colorbar": {
              "outlinewidth": 0,
              "ticks": ""
             }
            },
            "type": "scattermapbox"
           }
          ],
          "scatterpolar": [
           {
            "marker": {
             "colorbar": {
              "outlinewidth": 0,
              "ticks": ""
             }
            },
            "type": "scatterpolar"
           }
          ],
          "scatterpolargl": [
           {
            "marker": {
             "colorbar": {
              "outlinewidth": 0,
              "ticks": ""
             }
            },
            "type": "scatterpolargl"
           }
          ],
          "scatterternary": [
           {
            "marker": {
             "colorbar": {
              "outlinewidth": 0,
              "ticks": ""
             }
            },
            "type": "scatterternary"
           }
          ],
          "surface": [
           {
            "colorbar": {
             "outlinewidth": 0,
             "ticks": ""
            },
            "colorscale": [
             [
              0,
              "#0d0887"
             ],
             [
              0.1111111111111111,
              "#46039f"
             ],
             [
              0.2222222222222222,
              "#7201a8"
             ],
             [
              0.3333333333333333,
              "#9c179e"
             ],
             [
              0.4444444444444444,
              "#bd3786"
             ],
             [
              0.5555555555555556,
              "#d8576b"
             ],
             [
              0.6666666666666666,
              "#ed7953"
             ],
             [
              0.7777777777777778,
              "#fb9f3a"
             ],
             [
              0.8888888888888888,
              "#fdca26"
             ],
             [
              1,
              "#f0f921"
             ]
            ],
            "type": "surface"
           }
          ],
          "table": [
           {
            "cells": {
             "fill": {
              "color": "#EBF0F8"
             },
             "line": {
              "color": "white"
             }
            },
            "header": {
             "fill": {
              "color": "#C8D4E3"
             },
             "line": {
              "color": "white"
             }
            },
            "type": "table"
           }
          ]
         },
         "layout": {
          "annotationdefaults": {
           "arrowcolor": "#2a3f5f",
           "arrowhead": 0,
           "arrowwidth": 1
          },
          "autotypenumbers": "strict",
          "coloraxis": {
           "colorbar": {
            "outlinewidth": 0,
            "ticks": ""
           }
          },
          "colorscale": {
           "diverging": [
            [
             0,
             "#8e0152"
            ],
            [
             0.1,
             "#c51b7d"
            ],
            [
             0.2,
             "#de77ae"
            ],
            [
             0.3,
             "#f1b6da"
            ],
            [
             0.4,
             "#fde0ef"
            ],
            [
             0.5,
             "#f7f7f7"
            ],
            [
             0.6,
             "#e6f5d0"
            ],
            [
             0.7,
             "#b8e186"
            ],
            [
             0.8,
             "#7fbc41"
            ],
            [
             0.9,
             "#4d9221"
            ],
            [
             1,
             "#276419"
            ]
           ],
           "sequential": [
            [
             0,
             "#0d0887"
            ],
            [
             0.1111111111111111,
             "#46039f"
            ],
            [
             0.2222222222222222,
             "#7201a8"
            ],
            [
             0.3333333333333333,
             "#9c179e"
            ],
            [
             0.4444444444444444,
             "#bd3786"
            ],
            [
             0.5555555555555556,
             "#d8576b"
            ],
            [
             0.6666666666666666,
             "#ed7953"
            ],
            [
             0.7777777777777778,
             "#fb9f3a"
            ],
            [
             0.8888888888888888,
             "#fdca26"
            ],
            [
             1,
             "#f0f921"
            ]
           ],
           "sequentialminus": [
            [
             0,
             "#0d0887"
            ],
            [
             0.1111111111111111,
             "#46039f"
            ],
            [
             0.2222222222222222,
             "#7201a8"
            ],
            [
             0.3333333333333333,
             "#9c179e"
            ],
            [
             0.4444444444444444,
             "#bd3786"
            ],
            [
             0.5555555555555556,
             "#d8576b"
            ],
            [
             0.6666666666666666,
             "#ed7953"
            ],
            [
             0.7777777777777778,
             "#fb9f3a"
            ],
            [
             0.8888888888888888,
             "#fdca26"
            ],
            [
             1,
             "#f0f921"
            ]
           ]
          },
          "colorway": [
           "#636efa",
           "#EF553B",
           "#00cc96",
           "#ab63fa",
           "#FFA15A",
           "#19d3f3",
           "#FF6692",
           "#B6E880",
           "#FF97FF",
           "#FECB52"
          ],
          "font": {
           "color": "#2a3f5f"
          },
          "geo": {
           "bgcolor": "white",
           "lakecolor": "white",
           "landcolor": "#E5ECF6",
           "showlakes": true,
           "showland": true,
           "subunitcolor": "white"
          },
          "hoverlabel": {
           "align": "left"
          },
          "hovermode": "closest",
          "mapbox": {
           "style": "light"
          },
          "paper_bgcolor": "white",
          "plot_bgcolor": "#E5ECF6",
          "polar": {
           "angularaxis": {
            "gridcolor": "white",
            "linecolor": "white",
            "ticks": ""
           },
           "bgcolor": "#E5ECF6",
           "radialaxis": {
            "gridcolor": "white",
            "linecolor": "white",
            "ticks": ""
           }
          },
          "scene": {
           "xaxis": {
            "backgroundcolor": "#E5ECF6",
            "gridcolor": "white",
            "gridwidth": 2,
            "linecolor": "white",
            "showbackground": true,
            "ticks": "",
            "zerolinecolor": "white"
           },
           "yaxis": {
            "backgroundcolor": "#E5ECF6",
            "gridcolor": "white",
            "gridwidth": 2,
            "linecolor": "white",
            "showbackground": true,
            "ticks": "",
            "zerolinecolor": "white"
           },
           "zaxis": {
            "backgroundcolor": "#E5ECF6",
            "gridcolor": "white",
            "gridwidth": 2,
            "linecolor": "white",
            "showbackground": true,
            "ticks": "",
            "zerolinecolor": "white"
           }
          },
          "shapedefaults": {
           "line": {
            "color": "#2a3f5f"
           }
          },
          "ternary": {
           "aaxis": {
            "gridcolor": "white",
            "linecolor": "white",
            "ticks": ""
           },
           "baxis": {
            "gridcolor": "white",
            "linecolor": "white",
            "ticks": ""
           },
           "bgcolor": "#E5ECF6",
           "caxis": {
            "gridcolor": "white",
            "linecolor": "white",
            "ticks": ""
           }
          },
          "title": {
           "x": 0.05
          },
          "xaxis": {
           "automargin": true,
           "gridcolor": "white",
           "linecolor": "white",
           "ticks": "",
           "title": {
            "standoff": 15
           },
           "zerolinecolor": "white",
           "zerolinewidth": 2
          },
          "yaxis": {
           "automargin": true,
           "gridcolor": "white",
           "linecolor": "white",
           "ticks": "",
           "title": {
            "standoff": 15
           },
           "zerolinecolor": "white",
           "zerolinewidth": 2
          }
         }
        },
        "title": {
         "text": "Twitter Stock Analysis Dashboard with Interactive Buttons"
        },
        "updatemenus": [
         {
          "buttons": [
           {
            "args": [
             {
              "mode": "lines+markers",
              "type": "scatter",
              "x": [
               [
                "2013-03-31T00:00:00",
                "2013-06-30T00:00:00",
                "2013-09-30T00:00:00",
                "2013-12-31T00:00:00",
                "2014-03-31T00:00:00",
                "2014-06-30T00:00:00",
                "2014-09-30T00:00:00",
                "2014-12-31T00:00:00",
                "2015-03-31T00:00:00",
                "2015-06-30T00:00:00",
                "2015-09-30T00:00:00",
                "2015-12-31T00:00:00",
                "2016-03-31T00:00:00",
                "2016-06-30T00:00:00",
                "2016-09-30T00:00:00",
                "2016-12-31T00:00:00",
                "2017-03-31T00:00:00",
                "2017-06-30T00:00:00",
                "2017-09-30T00:00:00",
                "2017-12-31T00:00:00",
                "2018-03-31T00:00:00",
                "2018-06-30T00:00:00",
                "2018-09-30T00:00:00",
                "2018-12-31T00:00:00",
                "2019-03-31T00:00:00",
                "2019-06-30T00:00:00",
                "2019-09-30T00:00:00",
                "2019-12-31T00:00:00",
                "2020-03-31T00:00:00",
                "2020-06-30T00:00:00",
                "2020-09-30T00:00:00",
                "2020-12-31T00:00:00",
                "2021-03-31T00:00:00",
                "2021-06-30T00:00:00",
                "2021-09-30T00:00:00",
                "2021-12-31T00:00:00",
                "2022-03-31T00:00:00",
                "2022-06-30T00:00:00",
                "2022-09-30T00:00:00",
                "2022-12-31T00:00:00",
                "2023-03-31T00:00:00",
                "2023-06-30T00:00:00",
                "2023-09-30T00:00:00",
                "2023-12-31T00:00:00",
                "2024-03-31T00:00:00",
                "2024-06-30T00:00:00",
                "2024-09-30T00:00:00",
                "2024-12-31T00:00:00",
                "2025-03-31T00:00:00",
                "2025-06-30T00:00:00",
                "2025-09-30T00:00:00",
                "2025-12-31T00:00:00",
                "2026-03-31T00:00:00",
                "2026-06-30T00:00:00",
                "2026-09-30T00:00:00",
                "2026-12-31T00:00:00",
                "2027-03-31T00:00:00",
                "2027-06-30T00:00:00",
                "2027-09-30T00:00:00",
                "2027-12-31T00:00:00",
                "2028-03-31T00:00:00",
                "2028-06-30T00:00:00",
                "2028-09-30T00:00:00",
                "2028-12-31T00:00:00",
                "2029-03-31T00:00:00",
                "2029-06-30T00:00:00",
                "2029-09-30T00:00:00",
                "2029-12-31T00:00:00",
                "2030-03-31T00:00:00",
                "2030-06-30T00:00:00",
                "2030-09-30T00:00:00",
                "2030-12-31T00:00:00",
                "2031-03-31T00:00:00",
                "2031-06-30T00:00:00",
                "2031-09-30T00:00:00",
                "2031-12-31T00:00:00",
                "2032-03-31T00:00:00",
                "2032-06-30T00:00:00",
                "2032-09-30T00:00:00",
                "2032-12-31T00:00:00",
                "2033-03-31T00:00:00",
                "2033-06-30T00:00:00",
                "2033-09-30T00:00:00",
                "2033-12-31T00:00:00",
                "2034-03-31T00:00:00",
                "2034-06-30T00:00:00",
                "2034-09-30T00:00:00",
                "2034-12-31T00:00:00",
                "2035-03-31T00:00:00",
                "2035-06-30T00:00:00",
                "2035-09-30T00:00:00",
                "2035-12-31T00:00:00",
                "2036-03-31T00:00:00",
                "2036-06-30T00:00:00",
                "2036-09-30T00:00:00",
                "2036-12-31T00:00:00",
                "2037-03-31T00:00:00",
                "2037-06-30T00:00:00",
                "2037-09-30T00:00:00",
                "2037-12-31T00:00:00"
               ]
              ],
              "y": [
               [
                30,
                32.5,
                35,
                37.5,
                40,
                42.5,
                45,
                47.5,
                50,
                52.5,
                35,
                37.5,
                40,
                42.5,
                45,
                47.5,
                50,
                52.5,
                55,
                57.5,
                40,
                42.5,
                45,
                47.5,
                50,
                52.5,
                55,
                57.5,
                60,
                62.5,
                45,
                47.5,
                50,
                52.5,
                55,
                57.5,
                60,
                62.5,
                65,
                67.5,
                50,
                52.5,
                55,
                57.5,
                60,
                62.5,
                65,
                67.5,
                70,
                72.5,
                55,
                57.5,
                60,
                62.5,
                65,
                67.5,
                70,
                72.5,
                75,
                77.5,
                60,
                62.5,
                65,
                67.5,
                70,
                72.5,
                75,
                77.5,
                80,
                82.5,
                65,
                67.5,
                70,
                72.5,
                75,
                77.5,
                80,
                82.5,
                85,
                87.5,
                70,
                72.5,
                75,
                77.5,
                80,
                82.5,
                85,
                87.5,
                90,
                92.5,
                75,
                77.5,
                80,
                82.5,
                85,
                87.5,
                90,
                92.5,
                95,
                97.5
               ]
              ]
             }
            ],
            "label": "All Time",
            "method": "update"
           },
           {
            "args": [
             {
              "mode": "lines+markers",
              "type": "scatter",
              "x": [
               [
                "2032-12-31T00:00:00",
                "2033-03-31T00:00:00",
                "2033-06-30T00:00:00",
                "2033-09-30T00:00:00",
                "2033-12-31T00:00:00",
                "2034-03-31T00:00:00",
                "2034-06-30T00:00:00",
                "2034-09-30T00:00:00",
                "2034-12-31T00:00:00",
                "2035-03-31T00:00:00",
                "2035-06-30T00:00:00",
                "2035-09-30T00:00:00",
                "2035-12-31T00:00:00",
                "2036-03-31T00:00:00",
                "2036-06-30T00:00:00",
                "2036-09-30T00:00:00",
                "2036-12-31T00:00:00",
                "2037-03-31T00:00:00",
                "2037-06-30T00:00:00",
                "2037-09-30T00:00:00",
                "2037-12-31T00:00:00"
               ]
              ],
              "y": [
               [
                87.5,
                70,
                72.5,
                75,
                77.5,
                80,
                82.5,
                85,
                87.5,
                90,
                92.5,
                75,
                77.5,
                80,
                82.5,
                85,
                87.5,
                90,
                92.5,
                95,
                97.5
               ]
              ]
             }
            ],
            "label": "Last 5 Years",
            "method": "update"
           },
           {
            "args": [
             {
              "mode": "lines+markers",
              "type": "scatter",
              "x": [
               [
                "2036-12-31T00:00:00",
                "2037-03-31T00:00:00",
                "2037-06-30T00:00:00",
                "2037-09-30T00:00:00",
                "2037-12-31T00:00:00"
               ]
              ],
              "y": [
               [
                87.5,
                90,
                92.5,
                95,
                97.5
               ]
              ]
             }
            ],
            "label": "Last 1 Year",
            "method": "update"
           }
          ],
          "direction": "right",
          "showactive": true,
          "type": "buttons",
          "x": 0.55,
          "y": 0.15
         }
        ],
        "width": 1000,
        "xaxis": {
         "anchor": "y",
         "autorange": true,
         "domain": [
          0,
          1
         ],
         "range": [
          "2011-09-25 09:27:03.2465",
          "2039-07-06 14:32:56.7535"
         ],
         "type": "date"
        },
        "yaxis": {
         "anchor": "x",
         "autorange": true,
         "domain": [
          0,
          0.375
         ],
         "range": [
          24.72870182555781,
          102.7712981744422
         ],
         "type": "linear"
        }
       }
      },
      "image/png": "[encoded data removed]",
      "text/html": [
       "<div>                            <div id=\"dd4a5913-0045-489f-92ff-994ad313deab\" class=\"plotly-graph-div\" style=\"height:750px; width:1000px;\"></div>            <script type=\"text/javascript\">                require([\"plotly\"], function(Plotly) {                    window.PLOTLYENV=window.PLOTLYENV || {};                                    if (document.getElementById(\"dd4a5913-0045-489f-92ff-994ad313deab\")) {                    Plotly.newPlot(                        \"dd4a5913-0045-489f-92ff-994ad313deab\",                        [{\"cells\":{\"align\":\"left\",\"fill\":{\"color\":\"lavender\"},\"values\":[[\"2013\",\"2014-2020\",\"2021\",\"2022\",\"Post-2022\"],[\"Twitter IPO - Public listing\",\"Volatility due to user growth and leadership changes\",\"Speculation and product changes\",\"Elon Musk acquisition announcement\",\"Twitter delisted after acquisition\"],[\"Stock surged after IPO\",\"Fluctuating stock prices\",\"Minor recovery and hype\",\"Stock price spiked significantly\",\"Stock no longer publicly traded\"]]},\"header\":{\"align\":\"left\",\"fill\":{\"color\":\"lightblue\"},\"values\":[\"Year\",\"Event\",\"Impact\"]},\"type\":\"table\",\"domain\":{\"x\":[0.0,1.0],\"y\":[0.625,1.0]}},{\"line\":{\"color\":\"blue\"},\"mode\":\"lines+markers\",\"name\":\"All Time\",\"x\":[\"2013-03-31T00:00:00\",\"2013-06-30T00:00:00\",\"2013-09-30T00:00:00\",\"2013-12-31T00:00:00\",\"2014-03-31T00:00:00\",\"2014-06-30T00:00:00\",\"2014-09-30T00:00:00\",\"2014-12-31T00:00:00\",\"2015-03-31T00:00:00\",\"2015-06-30T00:00:00\",\"2015-09-30T00:00:00\",\"2015-12-31T00:00:00\",\"2016-03-31T00:00:00\",\"2016-06-30T00:00:00\",\"2016-09-30T00:00:00\",\"2016-12-31T00:00:00\",\"2017-03-31T00:00:00\",\"2017-06-30T00:00:00\",\"2017-09-30T00:00:00\",\"2017-12-31T00:00:00\",\"2018-03-31T00:00:00\",\"2018-06-30T00:00:00\",\"2018-09-30T00:00:00\",\"2018-12-31T00:00:00\",\"2019-03-31T00:00:00\",\"2019-06-30T00:00:00\",\"2019-09-30T00:00:00\",\"2019-12-31T00:00:00\",\"2020-03-31T00:00:00\",\"2020-06-30T00:00:00\",\"2020-09-30T00:00:00\",\"2020-12-31T00:00:00\",\"2021-03-31T00:00:00\",\"2021-06-30T00:00:00\",\"2021-09-30T00:00:00\",\"2021-12-31T00:00:00\",\"2022-03-31T00:00:00\",\"2022-06-30T00:00:00\",\"2022-09-30T00:00:00\",\"2022-12-31T00:00:00\",\"2023-03-31T00:00:00\",\"2023-06-30T00:00:00\",\"2023-09-30T00:00:00\",\"2023-12-31T00:00:00\",\"2024-03-31T00:00:00\",\"2024-06-30T00:00:00\",\"2024-09-30T00:00:00\",\"2024-12-31T00:00:00\",\"2025-03-31T00:00:00\",\"2025-06-30T00:00:00\",\"2025-09-30T00:00:00\",\"2025-12-31T00:00:00\",\"2026-03-31T00:00:00\",\"2026-06-30T00:00:00\",\"2026-09-30T00:00:00\",\"2026-12-31T00:00:00\",\"2027-03-31T00:00:00\",\"2027-06-30T00:00:00\",\"2027-09-30T00:00:00\",\"2027-12-31T00:00:00\",\"2028-03-31T00:00:00\",\"2028-06-30T00:00:00\",\"2028-09-30T00:00:00\",\"2028-12-31T00:00:00\",\"2029-03-31T00:00:00\",\"2029-06-30T00:00:00\",\"2029-09-30T00:00:00\",\"2029-12-31T00:00:00\",\"2030-03-31T00:00:00\",\"2030-06-30T00:00:00\",\"2030-09-30T00:00:00\",\"2030-12-31T00:00:00\",\"2031-03-31T00:00:00\",\"2031-06-30T00:00:00\",\"2031-09-30T00:00:00\",\"2031-12-31T00:00:00\",\"2032-03-31T00:00:00\",\"2032-06-30T00:00:00\",\"2032-09-30T00:00:00\",\"2032-12-31T00:00:00\",\"2033-03-31T00:00:00\",\"2033-06-30T00:00:00\",\"2033-09-30T00:00:00\",\"2033-12-31T00:00:00\",\"2034-03-31T00:00:00\",\"2034-06-30T00:00:00\",\"2034-09-30T00:00:00\",\"2034-12-31T00:00:00\",\"2035-03-31T00:00:00\",\"2035-06-30T00:00:00\",\"2035-09-30T00:00:00\",\"2035-12-31T00:00:00\",\"2036-03-31T00:00:00\",\"2036-06-30T00:00:00\",\"2036-09-30T00:00:00\",\"2036-12-31T00:00:00\",\"2037-03-31T00:00:00\",\"2037-06-30T00:00:00\",\"2037-09-30T00:00:00\",\"2037-12-31T00:00:00\"],\"y\":[30.0,32.5,35.0,37.5,40.0,42.5,45.0,47.5,50.0,52.5,35.0,37.5,40.0,42.5,45.0,47.5,50.0,52.5,55.0,57.5,40.0,42.5,45.0,47.5,50.0,52.5,55.0,57.5,60.0,62.5,45.0,47.5,50.0,52.5,55.0,57.5,60.0,62.5,65.0,67.5,50.0,52.5,55.0,57.5,60.0,62.5,65.0,67.5,70.0,72.5,55.0,57.5,60.0,62.5,65.0,67.5,70.0,72.5,75.0,77.5,60.0,62.5,65.0,67.5,70.0,72.5,75.0,77.5,80.0,82.5,65.0,67.5,70.0,72.5,75.0,77.5,80.0,82.5,85.0,87.5,70.0,72.5,75.0,77.5,80.0,82.5,85.0,87.5,90.0,92.5,75.0,77.5,80.0,82.5,85.0,87.5,90.0,92.5,95.0,97.5],\"type\":\"scatter\",\"xaxis\":\"x\",\"yaxis\":\"y\"}],                        {\"template\":{\"data\":{\"histogram2dcontour\":[{\"type\":\"histogram2dcontour\",\"colorbar\":{\"outlinewidth\":0,\"ticks\":\"\"},\"colorscale\":[[0.0,\"#0d0887\"],[0.1111111111111111,\"#46039f\"],[0.2222222222222222,\"#7201a8\"],[0.3333333333333333,\"#9c179e\"],[0.4444444444444444,\"#bd3786\"],[0.5555555555555556,\"#d8576b\"],[0.6666666666666666,\"#ed7953\"],[0.7777777777777778,\"#fb9f3a\"],[0.8888888888888888,\"#fdca26\"],[1.0,\"#f0f921\"]]}],\"choropleth\":[{\"type\":\"choropleth\",\"colorbar\":{\"outlinewidth\":0,\"ticks\":\"\"}}],\"histogram2d\":[{\"type\":\"histogram2d\",\"colorbar\":{\"outlinewidth\":0,\"ticks\":\"\"},\"colorscale\":[[0.0,\"#0d0887\"],[0.1111111111111111,\"#46039f\"],[0.2222222222222222,\"#7201a8\"],[0.3333333333333333,\"#9c179e\"],[0.4444444444444444,\"#bd3786\"],[0.5555555555555556,\"#d8576b\"],[0.6666666666666666,\"#ed7953\"],[0.7777777777777778,\"#fb9f3a\"],[0.8888888888888888,\"#fdca26\"],[1.0,\"#f0f921\"]]}],\"heatmap\":[{\"type\":\"heatmap\",\"colorbar\":{\"outlinewidth\":0,\"ticks\":\"\"},\"colorscale\":[[0.0,\"#0d0887\"],[0.1111111111111111,\"#46039f\"],[0.2222222222222222,\"#7201a8\"],[0.3333333333333333,\"#9c179e\"],[0.4444444444444444,\"#bd3786\"],[0.5555555555555556,\"#d8576b\"],[0.6666666666666666,\"#ed7953\"],[0.7777777777777778,\"#fb9f3a\"],[0.8888888888888888,\"#fdca26\"],[1.0,\"#f0f921\"]]}],\"heatmapgl\":[{\"type\":\"heatmapgl\",\"colorbar\":{\"outlinewidth\":0,\"ticks\":\"\"},\"colorscale\":[[0.0,\"#0d0887\"],[0.1111111111111111,\"#46039f\"],[0.2222222222222222,\"#7201a8\"],[0.3333333333333333,\"#9c179e\"],[0.4444444444444444,\"#bd3786\"],[0.5555555555555556,\"#d8576b\"],[0.6666666666666666,\"#ed7953\"],[0.7777777777777778,\"#fb9f3a\"],[0.8888888888888888,\"#fdca26\"],[1.0,\"#f0f921\"]]}],\"contourcarpet\":[{\"type\":\"contourcarpet\",\"colorbar\":{\"outlinewidth\":0,\"ticks\":\"\"}}],\"contour\":[{\"type\":\"contour\",\"colorbar\":{\"outlinewidth\":0,\"ticks\":\"\"},\"colorscale\":[[0.0,\"#0d0887\"],[0.1111111111111111,\"#46039f\"],[0.2222222222222222,\"#7201a8\"],[0.3333333333333333,\"#9c179e\"],[0.4444444444444444,\"#bd3786\"],[0.5555555555555556,\"#d8576b\"],[0.6666666666666666,\"#ed7953\"],[0.7777777777777778,\"#fb9f3a\"],[0.8888888888888888,\"#fdca26\"],[1.0,\"#f0f921\"]]}],\"surface\":[{\"type\":\"surface\",\"colorbar\":{\"outlinewidth\":0,\"ticks\":\"\"},\"colorscale\":[[0.0,\"#0d0887\"],[0.1111111111111111,\"#46039f\"],[0.2222222222222222,\"#7201a8\"],[0.3333333333333333,\"#9c179e\"],[0.4444444444444444,\"#bd3786\"],[0.5555555555555556,\"#d8576b\"],[0.6666666666666666,\"#ed7953\"],[0.7777777777777778,\"#fb9f3a\"],[0.8888888888888888,\"#fdca26\"],[1.0,\"#f0f921\"]]}],\"mesh3d\":[{\"type\":\"mesh3d\",\"colorbar\":{\"outlinewidth\":0,\"ticks\":\"\"}}],\"scatter\":[{\"fillpattern\":{\"fillmode\":\"overlay\",\"size\":10,\"solidity\":0.2},\"type\":\"scatter\"}],\"parcoords\":[{\"type\":\"parcoords\",\"line\":{\"colorbar\":{\"outlinewidth\":0,\"ticks\":\"\"}}}],\"scatterpolargl\":[{\"type\":\"scatterpolargl\",\"marker\":{\"colorbar\":{\"outlinewidth\":0,\"ticks\":\"\"}}}],\"bar\":[{\"error_x\":{\"color\":\"#2a3f5f\"},\"error_y\":{\"color\":\"#2a3f5f\"},\"marker\":{\"line\":{\"color\":\"#E5ECF6\",\"width\":0.5},\"pattern\":{\"fillmode\":\"overlay\",\"size\":10,\"solidity\":0.2}},\"type\":\"bar\"}],\"scattergeo\":[{\"type\":\"scattergeo\",\"marker\":{\"colorbar\":{\"outlinewidth\":0,\"ticks\":\"\"}}}],\"scatterpolar\":[{\"type\":\"scatterpolar\",\"marker\":{\"colorbar\":{\"outlinewidth\":0,\"ticks\":\"\"}}}],\"histogram\":[{\"marker\":{\"pattern\":{\"fillmode\":\"overlay\",\"size\":10,\"solidity\":0.2}},\"type\":\"histogram\"}],\"scattergl\":[{\"type\":\"scattergl\",\"marker\":{\"colorbar\":{\"outlinewidth\":0,\"ticks\":\"\"}}}],\"scatter3d\":[{\"type\":\"scatter3d\",\"line\":{\"colorbar\":{\"outlinewidth\":0,\"ticks\":\"\"}},\"marker\":{\"colorbar\":{\"outlinewidth\":0,\"ticks\":\"\"}}}],\"scattermapbox\":[{\"type\":\"scattermapbox\",\"marker\":{\"colorbar\":{\"outlinewidth\":0,\"ticks\":\"\"}}}],\"scatterternary\":[{\"type\":\"scatterternary\",\"marker\":{\"colorbar\":{\"outlinewidth\":0,\"ticks\":\"\"}}}],\"scattercarpet\":[{\"type\":\"scattercarpet\",\"marker\":{\"colorbar\":{\"outlinewidth\":0,\"ticks\":\"\"}}}],\"carpet\":[{\"aaxis\":{\"endlinecolor\":\"#2a3f5f\",\"gridcolor\":\"white\",\"linecolor\":\"white\",\"minorgridcolor\":\"white\",\"startlinecolor\":\"#2a3f5f\"},\"baxis\":{\"endlinecolor\":\"#2a3f5f\",\"gridcolor\":\"white\",\"linecolor\":\"white\",\"minorgridcolor\":\"white\",\"startlinecolor\":\"#2a3f5f\"},\"type\":\"carpet\"}],\"table\":[{\"cells\":{\"fill\":{\"color\":\"#EBF0F8\"},\"line\":{\"color\":\"white\"}},\"header\":{\"fill\":{\"color\":\"#C8D4E3\"},\"line\":{\"color\":\"white\"}},\"type\":\"table\"}],\"barpolar\":[{\"marker\":{\"line\":{\"color\":\"#E5ECF6\",\"width\":0.5},\"pattern\":{\"fillmode\":\"overlay\",\"size\":10,\"solidity\":0.2}},\"type\":\"barpolar\"}],\"pie\":[{\"automargin\":true,\"type\":\"pie\"}]},\"layout\":{\"autotypenumbers\":\"strict\",\"colorway\":[\"#636efa\",\"#EF553B\",\"#00cc96\",\"#ab63fa\",\"#FFA15A\",\"#19d3f3\",\"#FF6692\",\"#B6E880\",\"#FF97FF\",\"#FECB52\"],\"font\":{\"color\":\"#2a3f5f\"},\"hovermode\":\"closest\",\"hoverlabel\":{\"align\":\"left\"},\"paper_bgcolor\":\"white\",\"plot_bgcolor\":\"#E5ECF6\",\"polar\":{\"bgcolor\":\"#E5ECF6\",\"angularaxis\":{\"gridcolor\":\"white\",\"linecolor\":\"white\",\"ticks\":\"\"},\"radialaxis\":{\"gridcolor\":\"white\",\"linecolor\":\"white\",\"ticks\":\"\"}},\"ternary\":{\"bgcolor\":\"#E5ECF6\",\"aaxis\":{\"gridcolor\":\"white\",\"linecolor\":\"white\",\"ticks\":\"\"},\"baxis\":{\"gridcolor\":\"white\",\"linecolor\":\"white\",\"ticks\":\"\"},\"caxis\":{\"gridcolor\":\"white\",\"linecolor\":\"white\",\"ticks\":\"\"}},\"coloraxis\":{\"colorbar\":{\"outlinewidth\":0,\"ticks\":\"\"}},\"colorscale\":{\"sequential\":[[0.0,\"#0d0887\"],[0.1111111111111111,\"#46039f\"],[0.2222222222222222,\"#7201a8\"],[0.3333333333333333,\"#9c179e\"],[0.4444444444444444,\"#bd3786\"],[0.5555555555555556,\"#d8576b\"],[0.6666666666666666,\"#ed7953\"],[0.7777777777777778,\"#fb9f3a\"],[0.8888888888888888,\"#fdca26\"],[1.0,\"#f0f921\"]],\"sequentialminus\":[[0.0,\"#0d0887\"],[0.1111111111111111,\"#46039f\"],[0.2222222222222222,\"#7201a8\"],[0.3333333333333333,\"#9c179e\"],[0.4444444444444444,\"#bd3786\"],[0.5555555555555556,\"#d8576b\"],[0.6666666666666666,\"#ed7953\"],[0.7777777777777778,\"#fb9f3a\"],[0.8888888888888888,\"#fdca26\"],[1.0,\"#f0f921\"]],\"diverging\":[[0,\"#8e0152\"],[0.1,\"#c51b7d\"],[0.2,\"#de77ae\"],[0.3,\"#f1b6da\"],[0.4,\"#fde0ef\"],[0.5,\"#f7f7f7\"],[0.6,\"#e6f5d0\"],[0.7,\"#b8e186\"],[0.8,\"#7fbc41\"],[0.9,\"#4d9221\"],[1,\"#276419\"]]},\"xaxis\":{\"gridcolor\":\"white\",\"linecolor\":\"white\",\"ticks\":\"\",\"title\":{\"standoff\":15},\"zerolinecolor\":\"white\",\"automargin\":true,\"zerolinewidth\":2},\"yaxis\":{\"gridcolor\":\"white\",\"linecolor\":\"white\",\"ticks\":\"\",\"title\":{\"standoff\":15},\"zerolinecolor\":\"white\",\"automargin\":true,\"zerolinewidth\":2},\"scene\":{\"xaxis\":{\"backgroundcolor\":\"#E5ECF6\",\"gridcolor\":\"white\",\"linecolor\":\"white\",\"showbackground\":true,\"ticks\":\"\",\"zerolinecolor\":\"white\",\"gridwidth\":2},\"yaxis\":{\"backgroundcolor\":\"#E5ECF6\",\"gridcolor\":\"white\",\"linecolor\":\"white\",\"showbackground\":true,\"ticks\":\"\",\"zerolinecolor\":\"white\",\"gridwidth\":2},\"zaxis\":{\"backgroundcolor\":\"#E5ECF6\",\"gridcolor\":\"white\",\"linecolor\":\"white\",\"showbackground\":true,\"ticks\":\"\",\"zerolinecolor\":\"white\",\"gridwidth\":2}},\"shapedefaults\":{\"line\":{\"color\":\"#2a3f5f\"}},\"annotationdefaults\":{\"arrowcolor\":\"#2a3f5f\",\"arrowhead\":0,\"arrowwidth\":1},\"geo\":{\"bgcolor\":\"white\",\"landcolor\":\"#E5ECF6\",\"subunitcolor\":\"white\",\"showland\":true,\"showlakes\":true,\"lakecolor\":\"white\"},\"title\":{\"x\":0.05},\"mapbox\":{\"style\":\"light\"}}},\"xaxis\":{\"anchor\":\"y\",\"domain\":[0.0,1.0]},\"yaxis\":{\"anchor\":\"x\",\"domain\":[0.0,0.375]},\"annotations\":[{\"font\":{\"size\":16},\"showarrow\":false,\"text\":\"Key Events Timeline\",\"x\":0.5,\"xanchor\":\"center\",\"xref\":\"paper\",\"y\":1.0,\"yanchor\":\"bottom\",\"yref\":\"paper\"},{\"font\":{\"size\":16},\"showarrow\":false,\"text\":\"Twitter Stock Price Trend\",\"x\":0.5,\"xanchor\":\"center\",\"xref\":\"paper\",\"y\":0.375,\"yanchor\":\"bottom\",\"yref\":\"paper\"}],\"updatemenus\":[{\"buttons\":[{\"args\":[{\"x\":[[\"2013-03-31T00:00:00\",\"2013-06-30T00:00:00\",\"2013-09-30T00:00:00\",\"2013-12-31T00:00:00\",\"2014-03-31T00:00:00\",\"2014-06-30T00:00:00\",\"2014-09-30T00:00:00\",\"2014-12-31T00:00:00\",\"2015-03-31T00:00:00\",\"2015-06-30T00:00:00\",\"2015-09-30T00:00:00\",\"2015-12-31T00:00:00\",\"2016-03-31T00:00:00\",\"2016-06-30T00:00:00\",\"2016-09-30T00:00:00\",\"2016-12-31T00:00:00\",\"2017-03-31T00:00:00\",\"2017-06-30T00:00:00\",\"2017-09-30T00:00:00\",\"2017-12-31T00:00:00\",\"2018-03-31T00:00:00\",\"2018-06-30T00:00:00\",\"2018-09-30T00:00:00\",\"2018-12-31T00:00:00\",\"2019-03-31T00:00:00\",\"2019-06-30T00:00:00\",\"2019-09-30T00:00:00\",\"2019-12-31T00:00:00\",\"2020-03-31T00:00:00\",\"2020-06-30T00:00:00\",\"2020-09-30T00:00:00\",\"2020-12-31T00:00:00\",\"2021-03-31T00:00:00\",\"2021-06-30T00:00:00\",\"2021-09-30T00:00:00\",\"2021-12-31T00:00:00\",\"2022-03-31T00:00:00\",\"2022-06-30T00:00:00\",\"2022-09-30T00:00:00\",\"2022-12-31T00:00:00\",\"2023-03-31T00:00:00\",\"2023-06-30T00:00:00\",\"2023-09-30T00:00:00\",\"2023-12-31T00:00:00\",\"2024-03-31T00:00:00\",\"2024-06-30T00:00:00\",\"2024-09-30T00:00:00\",\"2024-12-31T00:00:00\",\"2025-03-31T00:00:00\",\"2025-06-30T00:00:00\",\"2025-09-30T00:00:00\",\"2025-12-31T00:00:00\",\"2026-03-31T00:00:00\",\"2026-06-30T00:00:00\",\"2026-09-30T00:00:00\",\"2026-12-31T00:00:00\",\"2027-03-31T00:00:00\",\"2027-06-30T00:00:00\",\"2027-09-30T00:00:00\",\"2027-12-31T00:00:00\",\"2028-03-31T00:00:00\",\"2028-06-30T00:00:00\",\"2028-09-30T00:00:00\",\"2028-12-31T00:00:00\",\"2029-03-31T00:00:00\",\"2029-06-30T00:00:00\",\"2029-09-30T00:00:00\",\"2029-12-31T00:00:00\",\"2030-03-31T00:00:00\",\"2030-06-30T00:00:00\",\"2030-09-30T00:00:00\",\"2030-12-31T00:00:00\",\"2031-03-31T00:00:00\",\"2031-06-30T00:00:00\",\"2031-09-30T00:00:00\",\"2031-12-31T00:00:00\",\"2032-03-31T00:00:00\",\"2032-06-30T00:00:00\",\"2032-09-30T00:00:00\",\"2032-12-31T00:00:00\",\"2033-03-31T00:00:00\",\"2033-06-30T00:00:00\",\"2033-09-30T00:00:00\",\"2033-12-31T00:00:00\",\"2034-03-31T00:00:00\",\"2034-06-30T00:00:00\",\"2034-09-30T00:00:00\",\"2034-12-31T00:00:00\",\"2035-03-31T00:00:00\",\"2035-06-30T00:00:00\",\"2035-09-30T00:00:00\",\"2035-12-31T00:00:00\",\"2036-03-31T00:00:00\",\"2036-06-30T00:00:00\",\"2036-09-30T00:00:00\",\"2036-12-31T00:00:00\",\"2037-03-31T00:00:00\",\"2037-06-30T00:00:00\",\"2037-09-30T00:00:00\",\"2037-12-31T00:00:00\"]],\"y\":[[30.0,32.5,35.0,37.5,40.0,42.5,45.0,47.5,50.0,52.5,35.0,37.5,40.0,42.5,45.0,47.5,50.0,52.5,55.0,57.5,40.0,42.5,45.0,47.5,50.0,52.5,55.0,57.5,60.0,62.5,45.0,47.5,50.0,52.5,55.0,57.5,60.0,62.5,65.0,67.5,50.0,52.5,55.0,57.5,60.0,62.5,65.0,67.5,70.0,72.5,55.0,57.5,60.0,62.5,65.0,67.5,70.0,72.5,75.0,77.5,60.0,62.5,65.0,67.5,70.0,72.5,75.0,77.5,80.0,82.5,65.0,67.5,70.0,72.5,75.0,77.5,80.0,82.5,85.0,87.5,70.0,72.5,75.0,77.5,80.0,82.5,85.0,87.5,90.0,92.5,75.0,77.5,80.0,82.5,85.0,87.5,90.0,92.5,95.0,97.5]],\"type\":\"scatter\",\"mode\":\"lines+markers\"}],\"label\":\"All Time\",\"method\":\"update\"},{\"args\":[{\"x\":[[\"2032-12-31T00:00:00\",\"2033-03-31T00:00:00\",\"2033-06-30T00:00:00\",\"2033-09-30T00:00:00\",\"2033-12-31T00:00:00\",\"2034-03-31T00:00:00\",\"2034-06-30T00:00:00\",\"2034-09-30T00:00:00\",\"2034-12-31T00:00:00\",\"2035-03-31T00:00:00\",\"2035-06-30T00:00:00\",\"2035-09-30T00:00:00\",\"2035-12-31T00:00:00\",\"2036-03-31T00:00:00\",\"2036-06-30T00:00:00\",\"2036-09-30T00:00:00\",\"2036-12-31T00:00:00\",\"2037-03-31T00:00:00\",\"2037-06-30T00:00:00\",\"2037-09-30T00:00:00\",\"2037-12-31T00:00:00\"]],\"y\":[[87.5,70.0,72.5,75.0,77.5,80.0,82.5,85.0,87.5,90.0,92.5,75.0,77.5,80.0,82.5,85.0,87.5,90.0,92.5,95.0,97.5]],\"type\":\"scatter\",\"mode\":\"lines+markers\"}],\"label\":\"Last 5 Years\",\"method\":\"update\"},{\"args\":[{\"x\":[[\"2036-12-31T00:00:00\",\"2037-03-31T00:00:00\",\"2037-06-30T00:00:00\",\"2037-09-30T00:00:00\",\"2037-12-31T00:00:00\"]],\"y\":[[87.5,90.0,92.5,95.0,97.5]],\"type\":\"scatter\",\"mode\":\"lines+markers\"}],\"label\":\"Last 1 Year\",\"method\":\"update\"}],\"direction\":\"right\",\"showactive\":true,\"type\":\"buttons\",\"x\":0.55,\"y\":0.15}],\"title\":{\"text\":\"Twitter Stock Analysis Dashboard with Interactive Buttons\"},\"height\":750,\"width\":1000},                        {\"responsive\": true}                    ).then(function(){\n",
       "                            \n",
       "var gd = document.getElementById('dd4a5913-0045-489f-92ff-994ad313deab');\n",
       "var x = new MutationObserver(function (mutations, observer) {{\n",
       "        var display = window.getComputedStyle(gd).display;\n",
       "        if (!display || display === 'none') {{\n",
       "            console.log([gd, 'removed!']);\n",
       "            Plotly.purge(gd);\n",
       "            observer.disconnect();\n",
       "        }}\n",
       "}});\n",
       "\n",
       "// Listen for the removal of the full notebook cells\n",
       "var notebookContainer = gd.closest('#notebook-container');\n",
       "if (notebookContainer) {{\n",
       "    x.observe(notebookContainer, {childList: true});\n",
       "}}\n",
       "\n",
       "// Listen for the clearing of the current output cell\n",
       "var outputEl = gd.closest('.output');\n",
       "if (outputEl) {{\n",
       "    x.observe(outputEl, {childList: true});\n",
       "}}\n",
       "\n",
       "                        })                };                });            </script>        </div>"
      ]
     },
     "metadata": {},
     "output_type": "display_data"
    }
   ],
   "source": [
    "#Create a Dashboard from the above statements by using power BI or Tableau or Python and present it to the Client with button.\n",
    "\n",
    "\n",
    "import plotly.graph_objects as go\n",
    "from plotly.subplots import make_subplots\n",
    "\n",
    "# Simulate stock data\n",
    "dates = pd.date_range(start=\"2013-01-01\", periods=100, freq=\"QE\")\n",
    "prices = [30 + (i % 10) * 2 + (i * 0.5) for i in range(len(dates))]\n",
    "df = pd.DataFrame({\"Date\": dates, \"Close\": prices})\n",
    "\n",
    "# Timeline events\n",
    "insights_data = {\n",
    "    \"Year\": [\"2013\", \"2014-2020\", \"2021\", \"2022\", \"Post-2022\"],\n",
    "    \"Event\": [\n",
    "        \"Twitter IPO - Public listing\",\n",
    "        \"Volatility due to user growth and leadership changes\",\n",
    "        \"Speculation and product changes\",\n",
    "        \"Elon Musk acquisition announcement\",\n",
    "        \"Twitter delisted after acquisition\"\n",
    "    ],\n",
    "    \"Impact\": [\n",
    "        \"Stock surged after IPO\",\n",
    "        \"Fluctuating stock prices\",\n",
    "        \"Minor recovery and hype\",\n",
    "        \"Stock price spiked significantly\",\n",
    "        \"Stock no longer publicly traded\"\n",
    "    ]\n",
    "}\n",
    "timeline_df = pd.DataFrame(insights_data)\n",
    "\n",
    "# Create figure with table and line chart\n",
    "fig = make_subplots(\n",
    "    rows=2, cols=1,\n",
    "    specs=[[{\"type\": \"table\"}], [{\"type\": \"xy\"}]],\n",
    "    subplot_titles=(\"Key Events Timeline\", \"Twitter Stock Price Trend\")\n",
    ")\n",
    "\n",
    "# Add timeline table\n",
    "fig.add_trace(\n",
    "    go.Table(\n",
    "        header=dict(values=list(timeline_df.columns), fill_color='lightblue', align='left'),\n",
    "        cells=dict(values=[timeline_df[col] for col in timeline_df.columns], fill_color='lavender', align='left')\n",
    "    ),\n",
    "    row=1, col=1\n",
    ")\n",
    "\n",
    "# Create traces for different periods\n",
    "all_trace = go.Scatter(x=df[\"Date\"], y=df[\"Close\"], mode='lines+markers', name=\"All Time\", line=dict(color='blue'))\n",
    "df_1Y = df[df[\"Date\"] >= df[\"Date\"].max() - pd.DateOffset(years=1)]\n",
    "trace_1Y = go.Scatter(x=df_1Y[\"Date\"], y=df_1Y[\"Close\"], mode='lines+markers', name=\"Last 1 Year\", line=dict(color='green'))\n",
    "\n",
    "df_5Y = df[df[\"Date\"] >= df[\"Date\"].max() - pd.DateOffset(years=5)]\n",
    "trace_5Y = go.Scatter(x=df_5Y[\"Date\"], y=df_5Y[\"Close\"], mode='lines+markers', name=\"Last 5 Years\", line=dict(color='red'))\n",
    "\n",
    "# Add all time trace as default\n",
    "fig.add_trace(all_trace, row=2, col=1)\n",
    "\n",
    "# Add buttons\n",
    "fig.update_layout(\n",
    "    updatemenus=[\n",
    "        dict(\n",
    "            type=\"buttons\",\n",
    "            direction=\"right\",\n",
    "            x=0.55,\n",
    "            y=0.15,\n",
    "            showactive=True,\n",
    "            buttons=list([\n",
    "                dict(label=\"All Time\",\n",
    "                     method=\"update\",\n",
    "                     args=[{\"x\": [df[\"Date\"]], \"y\": [df[\"Close\"]],\n",
    "                            \"type\": \"scatter\", \"mode\": \"lines+markers\"}]),\n",
    "                dict(label=\"Last 5 Years\",\n",
    "                     method=\"update\",\n",
    "                     args=[{\"x\": [df_5Y[\"Date\"]], \"y\": [df_5Y[\"Close\"]],\n",
    "                            \"type\": \"scatter\", \"mode\": \"lines+markers\"}]),\n",
    "                dict(label=\"Last 1 Year\",\n",
    "                     method=\"update\",\n",
    "                     args=[{\"x\": [df_1Y[\"Date\"]], \"y\": [df_1Y[\"Close\"]],\n",
    "                            \"type\": \"scatter\", \"mode\": \"lines+markers\"}]),\n",
    "            ]),\n",
    "        )\n",
    "    ]\n",
    ")\n",
    "\n",
    "# Final layout tweaks\n",
    "fig.update_layout(height=750, width=1000, title_text=\"Twitter Stock Analysis Dashboard with Interactive Buttons\")\n",
    "fig.show()"
   ]
  },
  {
   "cell_type": "code",
   "execution_count": null,
   "id": "4a81afc7-b183-449a-b202-c14d48aab4d4",
   "metadata": {},
   "outputs": [],
   "source": [
    "\n"
   ]
  },
  {
   "cell_type": "code",
   "execution_count": null,
   "id": "74292fbd-dfc9-4e96-b9d8-2761c72554a2",
   "metadata": {},
   "outputs": [],
   "source": []
  }
 ],
 "metadata": {
  "kernelspec": {
   "display_name": "Python 3 (ipykernel)",
   "language": "python",
   "name": "python3"
  },
  "language_info": {
   "codemirror_mode": {
    "name": "ipython",
    "version": 3
   },
   "file_extension": ".py",
   "mimetype": "text/x-python",
   "name": "python",
   "nbconvert_exporter": "python",
   "pygments_lexer": "ipython3",
   "version": "3.12.4"
  }
 },
 "nbformat": 4,
 "nbformat_minor": 5
}
